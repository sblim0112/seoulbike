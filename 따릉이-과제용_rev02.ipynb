{
 "cells": [
  {
   "cell_type": "markdown",
   "metadata": {},
   "source": [
    "### 사용모델:\n",
    "1. RandomForestRegressor\n",
    "1. GradientBoostingRegressor\n",
    "1. Lightgbm\n",
    "1. KNN\n",
    "\n",
    "* **이외에 Support Vector Regressor, Ridge, Lasso, XGB regressor 등의 모델 사용 가능하나 여기서는 수업에서 다룬 것들을 바탕으로 진행하였다.**"
   ]
  },
  {
   "cell_type": "markdown",
   "metadata": {},
   "source": [
    "# [데이터 설명]\n",
    "* **2017년 4, 5월의 서울 마포구 시간별 기상상황 및 따릉이 대여 수**\n",
    "* **목표: 1시간 전의 기상 정보를 토대로 따릉이 대여 수 예측하기**\n",
    "* **데이터 관찰값 1459개를 활용하여 탐색적 데이터 분석, 전처리, 모델링 순으로 진행**\n",
    "* **SckitLearn의 train_test_split 패키지를 이용하여 cross validation 예측값을 실제값과 비교**\n",
    "* **출처: 데이콘(https://dacon.io/competitions/open/235576/data)**\n",
    "\n",
    "# [컬럼 설명]\n",
    "* **```id```**: 고객 아이디\n",
    "* **```hour```**: 대여 시간\n",
    "* **```hour_bef_temperature```**: 1시간 전 기온(섭씨)\n",
    "* **```hour_bef_precipitation```**: 1시간 전 비 내림 여부. 비가 오지 않았으면 0, 비가 왔으면 1\n",
    "* **```hour_bef_windspeed```**: 1시간 전 풍속. 단위는 m/s(초속)으로 추정(기상청 https://www.weather.go.kr/weather/climate/average_regional.jsp)\n",
    "* **```hour_bef_humidity```**: 1시간 전 습도\n",
    "* **```hour_bef_visibility```**: 1시간 전 시정(視程), 시계(視界)(특정 기상 상태에 따른 가시성을 의미)\n",
    "* **```hour_bef_ozone```**: 1시간 전 오존\n",
    "* **```hour_bef_pm10```**: 1시간 전 미세먼지(머리카락 굵기의 1/5에서 1/7 크기의 미세먼지)\n",
    "* **```hour_bef_pm2.5```**: 1시간 전 미세먼지(머리카락 굵기의 1/20에서 1/30 크기의 미세먼지)\n",
    "* **```count```**: 자전거 대여량"
   ]
  },
  {
   "cell_type": "markdown",
   "metadata": {},
   "source": [
    "# [사용할 패키지 로드]\n",
    "* **사용 언어**: 파이썬"
   ]
  },
  {
   "cell_type": "code",
   "execution_count": 1,
   "metadata": {},
   "outputs": [],
   "source": [
    "import pandas as pd                  # 데이터분석 패키지\n",
    "import numpy as np                   # 연산관련 패키지\n",
    "import matplotlib.pyplot as plt      # 시각화 관련 패키지\n",
    "import seaborn as sns                # 시각화 관련 패키지\n",
    "import missingno as msno             # 결측치 시각화 패키지\n",
    "\n",
    "%matplotlib inline                \n",
    "\n",
    "import warnings                      # 불필요한 경고메시지 제거 패키지\n",
    "warnings.filterwarnings('ignore')"
   ]
  },
  {
   "cell_type": "markdown",
   "metadata": {},
   "source": [
    "# [데이터 로드]\n",
    "* **1459개의 행 및 10개의 변수로 구성**\n",
    "    * 독립변수 9개: count를 제외한 나머지\n",
    "    * 종속변수 1개: count \n",
    "* id는 분석에 필요 없으므로 이는 인덱스로만 사용"
   ]
  },
  {
   "cell_type": "code",
   "execution_count": 2,
   "metadata": {
    "scrolled": true
   },
   "outputs": [
    {
     "name": "stdout",
     "output_type": "stream",
     "text": [
      "(1459, 10)\n"
     ]
    },
    {
     "data": {
      "text/html": [
       "<div>\n",
       "<style scoped>\n",
       "    .dataframe tbody tr th:only-of-type {\n",
       "        vertical-align: middle;\n",
       "    }\n",
       "\n",
       "    .dataframe tbody tr th {\n",
       "        vertical-align: top;\n",
       "    }\n",
       "\n",
       "    .dataframe thead th {\n",
       "        text-align: right;\n",
       "    }\n",
       "</style>\n",
       "<table border=\"1\" class=\"dataframe\">\n",
       "  <thead>\n",
       "    <tr style=\"text-align: right;\">\n",
       "      <th></th>\n",
       "      <th>hour</th>\n",
       "      <th>hour_bef_temperature</th>\n",
       "      <th>hour_bef_precipitation</th>\n",
       "      <th>hour_bef_windspeed</th>\n",
       "      <th>hour_bef_humidity</th>\n",
       "      <th>hour_bef_visibility</th>\n",
       "      <th>hour_bef_ozone</th>\n",
       "      <th>hour_bef_pm10</th>\n",
       "      <th>hour_bef_pm2.5</th>\n",
       "      <th>count</th>\n",
       "    </tr>\n",
       "    <tr>\n",
       "      <th>id</th>\n",
       "      <th></th>\n",
       "      <th></th>\n",
       "      <th></th>\n",
       "      <th></th>\n",
       "      <th></th>\n",
       "      <th></th>\n",
       "      <th></th>\n",
       "      <th></th>\n",
       "      <th></th>\n",
       "      <th></th>\n",
       "    </tr>\n",
       "  </thead>\n",
       "  <tbody>\n",
       "    <tr>\n",
       "      <th>3</th>\n",
       "      <td>20</td>\n",
       "      <td>16.3</td>\n",
       "      <td>1.0</td>\n",
       "      <td>1.5</td>\n",
       "      <td>89.0</td>\n",
       "      <td>576.0</td>\n",
       "      <td>0.027</td>\n",
       "      <td>76.0</td>\n",
       "      <td>33.0</td>\n",
       "      <td>49.0</td>\n",
       "    </tr>\n",
       "    <tr>\n",
       "      <th>6</th>\n",
       "      <td>13</td>\n",
       "      <td>20.1</td>\n",
       "      <td>0.0</td>\n",
       "      <td>1.4</td>\n",
       "      <td>48.0</td>\n",
       "      <td>916.0</td>\n",
       "      <td>0.042</td>\n",
       "      <td>73.0</td>\n",
       "      <td>40.0</td>\n",
       "      <td>159.0</td>\n",
       "    </tr>\n",
       "    <tr>\n",
       "      <th>7</th>\n",
       "      <td>6</td>\n",
       "      <td>13.9</td>\n",
       "      <td>0.0</td>\n",
       "      <td>0.7</td>\n",
       "      <td>79.0</td>\n",
       "      <td>1382.0</td>\n",
       "      <td>0.033</td>\n",
       "      <td>32.0</td>\n",
       "      <td>19.0</td>\n",
       "      <td>26.0</td>\n",
       "    </tr>\n",
       "    <tr>\n",
       "      <th>8</th>\n",
       "      <td>23</td>\n",
       "      <td>8.1</td>\n",
       "      <td>0.0</td>\n",
       "      <td>2.7</td>\n",
       "      <td>54.0</td>\n",
       "      <td>946.0</td>\n",
       "      <td>0.040</td>\n",
       "      <td>75.0</td>\n",
       "      <td>64.0</td>\n",
       "      <td>57.0</td>\n",
       "    </tr>\n",
       "    <tr>\n",
       "      <th>9</th>\n",
       "      <td>18</td>\n",
       "      <td>29.5</td>\n",
       "      <td>0.0</td>\n",
       "      <td>4.8</td>\n",
       "      <td>7.0</td>\n",
       "      <td>2000.0</td>\n",
       "      <td>0.057</td>\n",
       "      <td>27.0</td>\n",
       "      <td>11.0</td>\n",
       "      <td>431.0</td>\n",
       "    </tr>\n",
       "  </tbody>\n",
       "</table>\n",
       "</div>"
      ],
      "text/plain": [
       "    hour  hour_bef_temperature  hour_bef_precipitation  hour_bef_windspeed  \\\n",
       "id                                                                           \n",
       "3     20                  16.3                     1.0                 1.5   \n",
       "6     13                  20.1                     0.0                 1.4   \n",
       "7      6                  13.9                     0.0                 0.7   \n",
       "8     23                   8.1                     0.0                 2.7   \n",
       "9     18                  29.5                     0.0                 4.8   \n",
       "\n",
       "    hour_bef_humidity  hour_bef_visibility  hour_bef_ozone  hour_bef_pm10  \\\n",
       "id                                                                          \n",
       "3                89.0                576.0           0.027           76.0   \n",
       "6                48.0                916.0           0.042           73.0   \n",
       "7                79.0               1382.0           0.033           32.0   \n",
       "8                54.0                946.0           0.040           75.0   \n",
       "9                 7.0               2000.0           0.057           27.0   \n",
       "\n",
       "    hour_bef_pm2.5  count  \n",
       "id                         \n",
       "3             33.0   49.0  \n",
       "6             40.0  159.0  \n",
       "7             19.0   26.0  \n",
       "8             64.0   57.0  \n",
       "9             11.0  431.0  "
      ]
     },
     "execution_count": 2,
     "metadata": {},
     "output_type": "execute_result"
    }
   ],
   "source": [
    "data = pd.read_csv('train.csv', index_col='id')\n",
    "print(data.shape)\n",
    "data.head()"
   ]
  },
  {
   "cell_type": "markdown",
   "metadata": {},
   "source": [
    "* **분석 편의를 위해 컬럼명의 hour_bef 삭제**"
   ]
  },
  {
   "cell_type": "code",
   "execution_count": 3,
   "metadata": {},
   "outputs": [
    {
     "data": {
      "text/plain": [
       "Index(['hour', 'temperature', 'precipitation', 'windspeed', 'humidity',\n",
       "       'visibility', 'ozone', 'pm10', 'pm2.5', 'count'],\n",
       "      dtype='object')"
      ]
     },
     "execution_count": 3,
     "metadata": {},
     "output_type": "execute_result"
    }
   ],
   "source": [
    "data.columns = ['hour', 'temperature', 'precipitation',\n",
    "       'windspeed', 'humidity', 'visibility',\n",
    "       'ozone', 'pm10', 'pm2.5', 'count']\n",
    "data.columns"
   ]
  },
  {
   "cell_type": "markdown",
   "metadata": {},
   "source": [
    "# [EDA(탐색적 데이터 분석) 및 전처리]"
   ]
  },
  {
   "cell_type": "markdown",
   "metadata": {},
   "source": [
    "### 1. 데이터 정보 확인\n",
    "* **전부 정수(시간) 또는 실수(나머지) 형태로 되어 있음을 알 수 있다.**\n",
    "* **일부 컬럼에서 결측치가 존재함을 알 수 있다.**"
   ]
  },
  {
   "cell_type": "code",
   "execution_count": 4,
   "metadata": {
    "scrolled": true
   },
   "outputs": [
    {
     "name": "stdout",
     "output_type": "stream",
     "text": [
      "<class 'pandas.core.frame.DataFrame'>\n",
      "Int64Index: 1459 entries, 3 to 2179\n",
      "Data columns (total 10 columns):\n",
      " #   Column         Non-Null Count  Dtype  \n",
      "---  ------         --------------  -----  \n",
      " 0   hour           1459 non-null   int64  \n",
      " 1   temperature    1457 non-null   float64\n",
      " 2   precipitation  1457 non-null   float64\n",
      " 3   windspeed      1450 non-null   float64\n",
      " 4   humidity       1457 non-null   float64\n",
      " 5   visibility     1457 non-null   float64\n",
      " 6   ozone          1383 non-null   float64\n",
      " 7   pm10           1369 non-null   float64\n",
      " 8   pm2.5          1342 non-null   float64\n",
      " 9   count          1459 non-null   float64\n",
      "dtypes: float64(9), int64(1)\n",
      "memory usage: 125.4 KB\n"
     ]
    }
   ],
   "source": [
    "data.info()"
   ]
  },
  {
   "cell_type": "markdown",
   "metadata": {},
   "source": [
    "### 변수 별 요약\n",
    "**1. 데이터 타입**\n",
    "* **전부 숫자형태로 되어 있음 --> 연속형 변수**\n",
    "\n",
    "**2. 결측치(missing value) 여부**\n",
    "* **기온, 강수여부, 풍속, 습도, 가시성 정보는 1% 미만의 결측치를 가지고 있다.**\n",
    "* **오존수치, 미세먼지와 관련한 정보는 5 ~ 8% 수준의 결측치를 가지고 있다.**"
   ]
  },
  {
   "cell_type": "code",
   "execution_count": 5,
   "metadata": {},
   "outputs": [
    {
     "data": {
      "image/png": "[encoded data removed]",
      "text/plain": [
       "<Figure size 360x360 with 3 Axes>"
      ]
     },
     "metadata": {
      "needs_background": "light"
     },
     "output_type": "display_data"
    }
   ],
   "source": [
    "msno.bar(data, figsize = (5, 5))\n",
    "plt.show()"
   ]
  },
  {
   "cell_type": "code",
   "execution_count": 6,
   "metadata": {
    "scrolled": false
   },
   "outputs": [
    {
     "data": {
      "text/html": [
       "<style  type=\"text/css\" >\n",
       "#T_79bc8722_d46e_11eb_9131_94e70bb233a5row0_col1,#T_79bc8722_d46e_11eb_9131_94e70bb233a5row0_col2,#T_79bc8722_d46e_11eb_9131_94e70bb233a5row9_col1,#T_79bc8722_d46e_11eb_9131_94e70bb233a5row9_col2{\n",
       "            background-color:  #ffff66;\n",
       "            color:  #000000;\n",
       "        }#T_79bc8722_d46e_11eb_9131_94e70bb233a5row1_col1,#T_79bc8722_d46e_11eb_9131_94e70bb233a5row1_col2,#T_79bc8722_d46e_11eb_9131_94e70bb233a5row2_col1,#T_79bc8722_d46e_11eb_9131_94e70bb233a5row2_col2,#T_79bc8722_d46e_11eb_9131_94e70bb233a5row4_col1,#T_79bc8722_d46e_11eb_9131_94e70bb233a5row4_col2,#T_79bc8722_d46e_11eb_9131_94e70bb233a5row5_col1,#T_79bc8722_d46e_11eb_9131_94e70bb233a5row5_col2{\n",
       "            background-color:  #fbfd66;\n",
       "            color:  #000000;\n",
       "        }#T_79bc8722_d46e_11eb_9131_94e70bb233a5row3_col1,#T_79bc8722_d46e_11eb_9131_94e70bb233a5row3_col2{\n",
       "            background-color:  #ecf666;\n",
       "            color:  #000000;\n",
       "        }#T_79bc8722_d46e_11eb_9131_94e70bb233a5row6_col1,#T_79bc8722_d46e_11eb_9131_94e70bb233a5row6_col2{\n",
       "            background-color:  #59ac66;\n",
       "            color:  #000000;\n",
       "        }#T_79bc8722_d46e_11eb_9131_94e70bb233a5row7_col1,#T_79bc8722_d46e_11eb_9131_94e70bb233a5row7_col2{\n",
       "            background-color:  #3b9d66;\n",
       "            color:  #000000;\n",
       "        }#T_79bc8722_d46e_11eb_9131_94e70bb233a5row8_col1,#T_79bc8722_d46e_11eb_9131_94e70bb233a5row8_col2{\n",
       "            background-color:  #008066;\n",
       "            color:  #f1f1f1;\n",
       "        }</style><table id=\"T_79bc8722_d46e_11eb_9131_94e70bb233a5\" ><thead>    <tr>        <th class=\"blank level0\" ></th>        <th class=\"col_heading level0 col0\" >type</th>        <th class=\"col_heading level0 col1\" >NA(num)</th>        <th class=\"col_heading level0 col2\" >NA(ratio)</th>    </tr></thead><tbody>\n",
       "                <tr>\n",
       "                        <th id=\"T_79bc8722_d46e_11eb_9131_94e70bb233a5level0_row0\" class=\"row_heading level0 row0\" >hour</th>\n",
       "                        <td id=\"T_79bc8722_d46e_11eb_9131_94e70bb233a5row0_col0\" class=\"data row0 col0\" >int64</td>\n",
       "                        <td id=\"T_79bc8722_d46e_11eb_9131_94e70bb233a5row0_col1\" class=\"data row0 col1\" >0</td>\n",
       "                        <td id=\"T_79bc8722_d46e_11eb_9131_94e70bb233a5row0_col2\" class=\"data row0 col2\" >0.000000</td>\n",
       "            </tr>\n",
       "            <tr>\n",
       "                        <th id=\"T_79bc8722_d46e_11eb_9131_94e70bb233a5level0_row1\" class=\"row_heading level0 row1\" >temperature</th>\n",
       "                        <td id=\"T_79bc8722_d46e_11eb_9131_94e70bb233a5row1_col0\" class=\"data row1 col0\" >float64</td>\n",
       "                        <td id=\"T_79bc8722_d46e_11eb_9131_94e70bb233a5row1_col1\" class=\"data row1 col1\" >2</td>\n",
       "                        <td id=\"T_79bc8722_d46e_11eb_9131_94e70bb233a5row1_col2\" class=\"data row1 col2\" >0.001371</td>\n",
       "            </tr>\n",
       "            <tr>\n",
       "                        <th id=\"T_79bc8722_d46e_11eb_9131_94e70bb233a5level0_row2\" class=\"row_heading level0 row2\" >precipitation</th>\n",
       "                        <td id=\"T_79bc8722_d46e_11eb_9131_94e70bb233a5row2_col0\" class=\"data row2 col0\" >float64</td>\n",
       "                        <td id=\"T_79bc8722_d46e_11eb_9131_94e70bb233a5row2_col1\" class=\"data row2 col1\" >2</td>\n",
       "                        <td id=\"T_79bc8722_d46e_11eb_9131_94e70bb233a5row2_col2\" class=\"data row2 col2\" >0.001371</td>\n",
       "            </tr>\n",
       "            <tr>\n",
       "                        <th id=\"T_79bc8722_d46e_11eb_9131_94e70bb233a5level0_row3\" class=\"row_heading level0 row3\" >windspeed</th>\n",
       "                        <td id=\"T_79bc8722_d46e_11eb_9131_94e70bb233a5row3_col0\" class=\"data row3 col0\" >float64</td>\n",
       "                        <td id=\"T_79bc8722_d46e_11eb_9131_94e70bb233a5row3_col1\" class=\"data row3 col1\" >9</td>\n",
       "                        <td id=\"T_79bc8722_d46e_11eb_9131_94e70bb233a5row3_col2\" class=\"data row3 col2\" >0.006169</td>\n",
       "            </tr>\n",
       "            <tr>\n",
       "                        <th id=\"T_79bc8722_d46e_11eb_9131_94e70bb233a5level0_row4\" class=\"row_heading level0 row4\" >humidity</th>\n",
       "                        <td id=\"T_79bc8722_d46e_11eb_9131_94e70bb233a5row4_col0\" class=\"data row4 col0\" >float64</td>\n",
       "                        <td id=\"T_79bc8722_d46e_11eb_9131_94e70bb233a5row4_col1\" class=\"data row4 col1\" >2</td>\n",
       "                        <td id=\"T_79bc8722_d46e_11eb_9131_94e70bb233a5row4_col2\" class=\"data row4 col2\" >0.001371</td>\n",
       "            </tr>\n",
       "            <tr>\n",
       "                        <th id=\"T_79bc8722_d46e_11eb_9131_94e70bb233a5level0_row5\" class=\"row_heading level0 row5\" >visibility</th>\n",
       "                        <td id=\"T_79bc8722_d46e_11eb_9131_94e70bb233a5row5_col0\" class=\"data row5 col0\" >float64</td>\n",
       "                        <td id=\"T_79bc8722_d46e_11eb_9131_94e70bb233a5row5_col1\" class=\"data row5 col1\" >2</td>\n",
       "                        <td id=\"T_79bc8722_d46e_11eb_9131_94e70bb233a5row5_col2\" class=\"data row5 col2\" >0.001371</td>\n",
       "            </tr>\n",
       "            <tr>\n",
       "                        <th id=\"T_79bc8722_d46e_11eb_9131_94e70bb233a5level0_row6\" class=\"row_heading level0 row6\" >ozone</th>\n",
       "                        <td id=\"T_79bc8722_d46e_11eb_9131_94e70bb233a5row6_col0\" class=\"data row6 col0\" >float64</td>\n",
       "                        <td id=\"T_79bc8722_d46e_11eb_9131_94e70bb233a5row6_col1\" class=\"data row6 col1\" >76</td>\n",
       "                        <td id=\"T_79bc8722_d46e_11eb_9131_94e70bb233a5row6_col2\" class=\"data row6 col2\" >0.052090</td>\n",
       "            </tr>\n",
       "            <tr>\n",
       "                        <th id=\"T_79bc8722_d46e_11eb_9131_94e70bb233a5level0_row7\" class=\"row_heading level0 row7\" >pm10</th>\n",
       "                        <td id=\"T_79bc8722_d46e_11eb_9131_94e70bb233a5row7_col0\" class=\"data row7 col0\" >float64</td>\n",
       "                        <td id=\"T_79bc8722_d46e_11eb_9131_94e70bb233a5row7_col1\" class=\"data row7 col1\" >90</td>\n",
       "                        <td id=\"T_79bc8722_d46e_11eb_9131_94e70bb233a5row7_col2\" class=\"data row7 col2\" >0.061686</td>\n",
       "            </tr>\n",
       "            <tr>\n",
       "                        <th id=\"T_79bc8722_d46e_11eb_9131_94e70bb233a5level0_row8\" class=\"row_heading level0 row8\" >pm2.5</th>\n",
       "                        <td id=\"T_79bc8722_d46e_11eb_9131_94e70bb233a5row8_col0\" class=\"data row8 col0\" >float64</td>\n",
       "                        <td id=\"T_79bc8722_d46e_11eb_9131_94e70bb233a5row8_col1\" class=\"data row8 col1\" >117</td>\n",
       "                        <td id=\"T_79bc8722_d46e_11eb_9131_94e70bb233a5row8_col2\" class=\"data row8 col2\" >0.080192</td>\n",
       "            </tr>\n",
       "            <tr>\n",
       "                        <th id=\"T_79bc8722_d46e_11eb_9131_94e70bb233a5level0_row9\" class=\"row_heading level0 row9\" >count</th>\n",
       "                        <td id=\"T_79bc8722_d46e_11eb_9131_94e70bb233a5row9_col0\" class=\"data row9 col0\" >float64</td>\n",
       "                        <td id=\"T_79bc8722_d46e_11eb_9131_94e70bb233a5row9_col1\" class=\"data row9 col1\" >0</td>\n",
       "                        <td id=\"T_79bc8722_d46e_11eb_9131_94e70bb233a5row9_col2\" class=\"data row9 col2\" >0.000000</td>\n",
       "            </tr>\n",
       "    </tbody></table>"
      ],
      "text/plain": [
       "<pandas.io.formats.style.Styler at 0x249aa7be160>"
      ]
     },
     "execution_count": 6,
     "metadata": {},
     "output_type": "execute_result"
    }
   ],
   "source": [
    "data_summary = pd.concat([data.dtypes.to_frame(),\n",
    "                          data.isnull().sum().to_frame(),\n",
    "                          (data.isnull().sum() / len(data)).to_frame()], axis = 1)\n",
    "\n",
    "data_summary.columns = ['type','NA(num)', 'NA(ratio)']\n",
    "\n",
    "data_summary.style.background_gradient(cmap = 'summer_r')"
   ]
  },
  {
   "cell_type": "code",
   "execution_count": 7,
   "metadata": {
    "scrolled": false
   },
   "outputs": [
    {
     "data": {
      "text/html": [
       "<style  type=\"text/css\" >\n",
       "#T_79c02b4a_d46e_11eb_9b9b_94e70bb233a5row0_col1,#T_79c02b4a_d46e_11eb_9b9b_94e70bb233a5row0_col2,#T_79c02b4a_d46e_11eb_9b9b_94e70bb233a5row9_col1,#T_79c02b4a_d46e_11eb_9b9b_94e70bb233a5row9_col2{\n",
       "            width:  10em;\n",
       "             height:  80%;\n",
       "        }#T_79c02b4a_d46e_11eb_9b9b_94e70bb233a5row1_col1,#T_79c02b4a_d46e_11eb_9b9b_94e70bb233a5row1_col2,#T_79c02b4a_d46e_11eb_9b9b_94e70bb233a5row2_col1,#T_79c02b4a_d46e_11eb_9b9b_94e70bb233a5row2_col2,#T_79c02b4a_d46e_11eb_9b9b_94e70bb233a5row4_col1,#T_79c02b4a_d46e_11eb_9b9b_94e70bb233a5row4_col2,#T_79c02b4a_d46e_11eb_9b9b_94e70bb233a5row5_col1,#T_79c02b4a_d46e_11eb_9b9b_94e70bb233a5row5_col2{\n",
       "            width:  10em;\n",
       "             height:  80%;\n",
       "            background:  linear-gradient(90deg,#d65f5f 1.7%, transparent 1.7%);\n",
       "        }#T_79c02b4a_d46e_11eb_9b9b_94e70bb233a5row3_col1,#T_79c02b4a_d46e_11eb_9b9b_94e70bb233a5row3_col2{\n",
       "            width:  10em;\n",
       "             height:  80%;\n",
       "            background:  linear-gradient(90deg,#d65f5f 7.7%, transparent 7.7%);\n",
       "        }#T_79c02b4a_d46e_11eb_9b9b_94e70bb233a5row6_col1,#T_79c02b4a_d46e_11eb_9b9b_94e70bb233a5row6_col2{\n",
       "            width:  10em;\n",
       "             height:  80%;\n",
       "            background:  linear-gradient(90deg,#d65f5f 65.0%, transparent 65.0%);\n",
       "        }#T_79c02b4a_d46e_11eb_9b9b_94e70bb233a5row7_col1,#T_79c02b4a_d46e_11eb_9b9b_94e70bb233a5row7_col2{\n",
       "            width:  10em;\n",
       "             height:  80%;\n",
       "            background:  linear-gradient(90deg,#d65f5f 76.9%, transparent 76.9%);\n",
       "        }#T_79c02b4a_d46e_11eb_9b9b_94e70bb233a5row8_col1,#T_79c02b4a_d46e_11eb_9b9b_94e70bb233a5row8_col2{\n",
       "            width:  10em;\n",
       "             height:  80%;\n",
       "            background:  linear-gradient(90deg,#d65f5f 100.0%, transparent 100.0%);\n",
       "        }</style><table id=\"T_79c02b4a_d46e_11eb_9b9b_94e70bb233a5\" ><thead>    <tr>        <th class=\"blank level0\" ></th>        <th class=\"col_heading level0 col0\" >type</th>        <th class=\"col_heading level0 col1\" >NA(num)</th>        <th class=\"col_heading level0 col2\" >NA(ratio)</th>    </tr></thead><tbody>\n",
       "                <tr>\n",
       "                        <th id=\"T_79c02b4a_d46e_11eb_9b9b_94e70bb233a5level0_row0\" class=\"row_heading level0 row0\" >hour</th>\n",
       "                        <td id=\"T_79c02b4a_d46e_11eb_9b9b_94e70bb233a5row0_col0\" class=\"data row0 col0\" >int64</td>\n",
       "                        <td id=\"T_79c02b4a_d46e_11eb_9b9b_94e70bb233a5row0_col1\" class=\"data row0 col1\" >0</td>\n",
       "                        <td id=\"T_79c02b4a_d46e_11eb_9b9b_94e70bb233a5row0_col2\" class=\"data row0 col2\" >0.000000</td>\n",
       "            </tr>\n",
       "            <tr>\n",
       "                        <th id=\"T_79c02b4a_d46e_11eb_9b9b_94e70bb233a5level0_row1\" class=\"row_heading level0 row1\" >temperature</th>\n",
       "                        <td id=\"T_79c02b4a_d46e_11eb_9b9b_94e70bb233a5row1_col0\" class=\"data row1 col0\" >float64</td>\n",
       "                        <td id=\"T_79c02b4a_d46e_11eb_9b9b_94e70bb233a5row1_col1\" class=\"data row1 col1\" >2</td>\n",
       "                        <td id=\"T_79c02b4a_d46e_11eb_9b9b_94e70bb233a5row1_col2\" class=\"data row1 col2\" >0.001371</td>\n",
       "            </tr>\n",
       "            <tr>\n",
       "                        <th id=\"T_79c02b4a_d46e_11eb_9b9b_94e70bb233a5level0_row2\" class=\"row_heading level0 row2\" >precipitation</th>\n",
       "                        <td id=\"T_79c02b4a_d46e_11eb_9b9b_94e70bb233a5row2_col0\" class=\"data row2 col0\" >float64</td>\n",
       "                        <td id=\"T_79c02b4a_d46e_11eb_9b9b_94e70bb233a5row2_col1\" class=\"data row2 col1\" >2</td>\n",
       "                        <td id=\"T_79c02b4a_d46e_11eb_9b9b_94e70bb233a5row2_col2\" class=\"data row2 col2\" >0.001371</td>\n",
       "            </tr>\n",
       "            <tr>\n",
       "                        <th id=\"T_79c02b4a_d46e_11eb_9b9b_94e70bb233a5level0_row3\" class=\"row_heading level0 row3\" >windspeed</th>\n",
       "                        <td id=\"T_79c02b4a_d46e_11eb_9b9b_94e70bb233a5row3_col0\" class=\"data row3 col0\" >float64</td>\n",
       "                        <td id=\"T_79c02b4a_d46e_11eb_9b9b_94e70bb233a5row3_col1\" class=\"data row3 col1\" >9</td>\n",
       "                        <td id=\"T_79c02b4a_d46e_11eb_9b9b_94e70bb233a5row3_col2\" class=\"data row3 col2\" >0.006169</td>\n",
       "            </tr>\n",
       "            <tr>\n",
       "                        <th id=\"T_79c02b4a_d46e_11eb_9b9b_94e70bb233a5level0_row4\" class=\"row_heading level0 row4\" >humidity</th>\n",
       "                        <td id=\"T_79c02b4a_d46e_11eb_9b9b_94e70bb233a5row4_col0\" class=\"data row4 col0\" >float64</td>\n",
       "                        <td id=\"T_79c02b4a_d46e_11eb_9b9b_94e70bb233a5row4_col1\" class=\"data row4 col1\" >2</td>\n",
       "                        <td id=\"T_79c02b4a_d46e_11eb_9b9b_94e70bb233a5row4_col2\" class=\"data row4 col2\" >0.001371</td>\n",
       "            </tr>\n",
       "            <tr>\n",
       "                        <th id=\"T_79c02b4a_d46e_11eb_9b9b_94e70bb233a5level0_row5\" class=\"row_heading level0 row5\" >visibility</th>\n",
       "                        <td id=\"T_79c02b4a_d46e_11eb_9b9b_94e70bb233a5row5_col0\" class=\"data row5 col0\" >float64</td>\n",
       "                        <td id=\"T_79c02b4a_d46e_11eb_9b9b_94e70bb233a5row5_col1\" class=\"data row5 col1\" >2</td>\n",
       "                        <td id=\"T_79c02b4a_d46e_11eb_9b9b_94e70bb233a5row5_col2\" class=\"data row5 col2\" >0.001371</td>\n",
       "            </tr>\n",
       "            <tr>\n",
       "                        <th id=\"T_79c02b4a_d46e_11eb_9b9b_94e70bb233a5level0_row6\" class=\"row_heading level0 row6\" >ozone</th>\n",
       "                        <td id=\"T_79c02b4a_d46e_11eb_9b9b_94e70bb233a5row6_col0\" class=\"data row6 col0\" >float64</td>\n",
       "                        <td id=\"T_79c02b4a_d46e_11eb_9b9b_94e70bb233a5row6_col1\" class=\"data row6 col1\" >76</td>\n",
       "                        <td id=\"T_79c02b4a_d46e_11eb_9b9b_94e70bb233a5row6_col2\" class=\"data row6 col2\" >0.052090</td>\n",
       "            </tr>\n",
       "            <tr>\n",
       "                        <th id=\"T_79c02b4a_d46e_11eb_9b9b_94e70bb233a5level0_row7\" class=\"row_heading level0 row7\" >pm10</th>\n",
       "                        <td id=\"T_79c02b4a_d46e_11eb_9b9b_94e70bb233a5row7_col0\" class=\"data row7 col0\" >float64</td>\n",
       "                        <td id=\"T_79c02b4a_d46e_11eb_9b9b_94e70bb233a5row7_col1\" class=\"data row7 col1\" >90</td>\n",
       "                        <td id=\"T_79c02b4a_d46e_11eb_9b9b_94e70bb233a5row7_col2\" class=\"data row7 col2\" >0.061686</td>\n",
       "            </tr>\n",
       "            <tr>\n",
       "                        <th id=\"T_79c02b4a_d46e_11eb_9b9b_94e70bb233a5level0_row8\" class=\"row_heading level0 row8\" >pm2.5</th>\n",
       "                        <td id=\"T_79c02b4a_d46e_11eb_9b9b_94e70bb233a5row8_col0\" class=\"data row8 col0\" >float64</td>\n",
       "                        <td id=\"T_79c02b4a_d46e_11eb_9b9b_94e70bb233a5row8_col1\" class=\"data row8 col1\" >117</td>\n",
       "                        <td id=\"T_79c02b4a_d46e_11eb_9b9b_94e70bb233a5row8_col2\" class=\"data row8 col2\" >0.080192</td>\n",
       "            </tr>\n",
       "            <tr>\n",
       "                        <th id=\"T_79c02b4a_d46e_11eb_9b9b_94e70bb233a5level0_row9\" class=\"row_heading level0 row9\" >count</th>\n",
       "                        <td id=\"T_79c02b4a_d46e_11eb_9b9b_94e70bb233a5row9_col0\" class=\"data row9 col0\" >float64</td>\n",
       "                        <td id=\"T_79c02b4a_d46e_11eb_9b9b_94e70bb233a5row9_col1\" class=\"data row9 col1\" >0</td>\n",
       "                        <td id=\"T_79c02b4a_d46e_11eb_9b9b_94e70bb233a5row9_col2\" class=\"data row9 col2\" >0.000000</td>\n",
       "            </tr>\n",
       "    </tbody></table>"
      ],
      "text/plain": [
       "<pandas.io.formats.style.Styler at 0x249aa7b9d90>"
      ]
     },
     "execution_count": 7,
     "metadata": {},
     "output_type": "execute_result"
    }
   ],
   "source": [
    "data_summary.style.bar()"
   ]
  },
  {
   "cell_type": "markdown",
   "metadata": {},
   "source": [
    "### 2. hour 컬럼 탐색"
   ]
  },
  {
   "cell_type": "code",
   "execution_count": 8,
   "metadata": {},
   "outputs": [
    {
     "data": {
      "image/png": "[encoded data removed]",
      "text/plain": [
       "<Figure size 1296x288 with 1 Axes>"
      ]
     },
     "metadata": {
      "needs_background": "light"
     },
     "output_type": "display_data"
    }
   ],
   "source": [
    "fig, ax = plt.subplots(1, 1, figsize = (18, 4))\n",
    "\n",
    "sns.barplot(data = data, x = 'hour', y = 'count')\n",
    "plt.show()"
   ]
  },
  {
   "cell_type": "markdown",
   "metadata": {},
   "source": [
    "* **시간당 평균 대여량 시각화**\n",
    "    * 평균 대여량은 18시가 가장 높다.\n",
    "    * 오전에는 7부터 증가하기 시작하여 8시에 정점을 찍고 대여량이 감소한다. 이를 통해 오전 중에는 출근/등교시간에 이용빈도가 높음을 알 수 있다.\n",
    "    * 오후에는 11시부터는 서서히 증가하여 18시에 정점을 찍는다. 이를 통해 오전과 마찬가지로 퇴근/하교시간에 이용빈도가 높음을 알 수 있다.\n",
    "    * 개인의 차이는 있지만, 초/중/고/대학교의 학생들이 활발하게 이용하게 되는 점심시간 이후부터 지속적으로 상승하며,\n",
    "    * 직장인들의 퇴근과 맞물려 대여량이 큰 폭으로 증가하고 이후는 가족 등과의 여가활동의 대여량으로 이어진다고 추측할 수 있다."
   ]
  },
  {
   "cell_type": "markdown",
   "metadata": {},
   "source": [
    "### 3. temperature 컬럼 탐색"
   ]
  },
  {
   "cell_type": "code",
   "execution_count": 9,
   "metadata": {},
   "outputs": [
    {
     "data": {
      "text/plain": [
       "count    1457.000000\n",
       "mean       16.717433\n",
       "std         5.239150\n",
       "min         3.100000\n",
       "25%        12.800000\n",
       "50%        16.600000\n",
       "75%        20.100000\n",
       "max        30.000000\n",
       "Name: temperature, dtype: float64"
      ]
     },
     "execution_count": 9,
     "metadata": {},
     "output_type": "execute_result"
    }
   ],
   "source": [
    "data['temperature'].describe()"
   ]
  },
  {
   "cell_type": "markdown",
   "metadata": {},
   "source": [
    "* **온도 컬럼에는 앞서 언급했듯이 2개의 결측치가 존재한다.**\n",
    "    * 이는 향후 시간 당 평균 값으로 대체할 것이다.\n",
    "    \n",
    "* **최저는 3도, 최고는 30도이며, 평균과 중앙값이 거의 동일하다. 활동하기 좋은 시간대에 대여량이 많이 몰려있는 분포를 보일 것으로 보인다.**"
   ]
  },
  {
   "cell_type": "code",
   "execution_count": 10,
   "metadata": {},
   "outputs": [
    {
     "data": {
      "text/html": [
       "<div>\n",
       "<style scoped>\n",
       "    .dataframe tbody tr th:only-of-type {\n",
       "        vertical-align: middle;\n",
       "    }\n",
       "\n",
       "    .dataframe tbody tr th {\n",
       "        vertical-align: top;\n",
       "    }\n",
       "\n",
       "    .dataframe thead th {\n",
       "        text-align: right;\n",
       "    }\n",
       "</style>\n",
       "<table border=\"1\" class=\"dataframe\">\n",
       "  <thead>\n",
       "    <tr style=\"text-align: right;\">\n",
       "      <th></th>\n",
       "      <th>hour</th>\n",
       "      <th>temperature</th>\n",
       "      <th>precipitation</th>\n",
       "      <th>windspeed</th>\n",
       "      <th>humidity</th>\n",
       "      <th>visibility</th>\n",
       "      <th>ozone</th>\n",
       "      <th>pm10</th>\n",
       "      <th>pm2.5</th>\n",
       "      <th>count</th>\n",
       "    </tr>\n",
       "    <tr>\n",
       "      <th>id</th>\n",
       "      <th></th>\n",
       "      <th></th>\n",
       "      <th></th>\n",
       "      <th></th>\n",
       "      <th></th>\n",
       "      <th></th>\n",
       "      <th></th>\n",
       "      <th></th>\n",
       "      <th></th>\n",
       "      <th></th>\n",
       "    </tr>\n",
       "  </thead>\n",
       "  <tbody>\n",
       "    <tr>\n",
       "      <th>1420</th>\n",
       "      <td>0</td>\n",
       "      <td>NaN</td>\n",
       "      <td>NaN</td>\n",
       "      <td>NaN</td>\n",
       "      <td>NaN</td>\n",
       "      <td>NaN</td>\n",
       "      <td>NaN</td>\n",
       "      <td>NaN</td>\n",
       "      <td>NaN</td>\n",
       "      <td>39.0</td>\n",
       "    </tr>\n",
       "    <tr>\n",
       "      <th>1553</th>\n",
       "      <td>18</td>\n",
       "      <td>NaN</td>\n",
       "      <td>NaN</td>\n",
       "      <td>NaN</td>\n",
       "      <td>NaN</td>\n",
       "      <td>NaN</td>\n",
       "      <td>NaN</td>\n",
       "      <td>NaN</td>\n",
       "      <td>NaN</td>\n",
       "      <td>1.0</td>\n",
       "    </tr>\n",
       "  </tbody>\n",
       "</table>\n",
       "</div>"
      ],
      "text/plain": [
       "      hour  temperature  precipitation  windspeed  humidity  visibility  \\\n",
       "id                                                                        \n",
       "1420     0          NaN            NaN        NaN       NaN         NaN   \n",
       "1553    18          NaN            NaN        NaN       NaN         NaN   \n",
       "\n",
       "      ozone  pm10  pm2.5  count  \n",
       "id                               \n",
       "1420    NaN   NaN    NaN   39.0  \n",
       "1553    NaN   NaN    NaN    1.0  "
      ]
     },
     "execution_count": 10,
     "metadata": {},
     "output_type": "execute_result"
    }
   ],
   "source": [
    "data[data['temperature'].isnull()]"
   ]
  },
  {
   "cell_type": "markdown",
   "metadata": {},
   "source": [
    "* **결측치가 있는 시간은 각각 0시, 18시 이다.**\n",
    "* **각 시간 별 평균 온도를 확인한 뒤, 결측치를 채울 것이다.**"
   ]
  },
  {
   "cell_type": "code",
   "execution_count": 11,
   "metadata": {},
   "outputs": [
    {
     "data": {
      "text/plain": [
       "hour\n",
       "0     14.788136\n",
       "1     14.155738\n",
       "2     13.747541\n",
       "3     13.357377\n",
       "4     13.001639\n",
       "5     12.673770\n",
       "6     12.377049\n",
       "7     12.191803\n",
       "8     12.600000\n",
       "9     14.318033\n",
       "10    16.242623\n",
       "11    18.019672\n",
       "12    19.457377\n",
       "13    20.648333\n",
       "14    21.234426\n",
       "15    21.744262\n",
       "16    22.015000\n",
       "17    21.603333\n",
       "18    20.926667\n",
       "19    19.704918\n",
       "20    18.191803\n",
       "21    16.978333\n",
       "22    16.063934\n",
       "23    15.418033\n",
       "Name: temperature, dtype: float64"
      ]
     },
     "execution_count": 11,
     "metadata": {},
     "output_type": "execute_result"
    }
   ],
   "source": [
    "data.groupby('hour').mean()['temperature']"
   ]
  },
  {
   "cell_type": "code",
   "execution_count": 12,
   "metadata": {},
   "outputs": [
    {
     "data": {
      "text/plain": [
       "(14.788135593220337, 20.926666666666666)"
      ]
     },
     "execution_count": 12,
     "metadata": {},
     "output_type": "execute_result"
    }
   ],
   "source": [
    "mean_temp_0 = data[data['hour'] == 0]['temperature'].mean()\n",
    "mean_temp_18 = data[data['hour'] == 18]['temperature'].mean()\n",
    "\n",
    "mean_temp_0, mean_temp_18"
   ]
  },
  {
   "cell_type": "code",
   "execution_count": 13,
   "metadata": {},
   "outputs": [
    {
     "data": {
      "text/html": [
       "<div>\n",
       "<style scoped>\n",
       "    .dataframe tbody tr th:only-of-type {\n",
       "        vertical-align: middle;\n",
       "    }\n",
       "\n",
       "    .dataframe tbody tr th {\n",
       "        vertical-align: top;\n",
       "    }\n",
       "\n",
       "    .dataframe thead th {\n",
       "        text-align: right;\n",
       "    }\n",
       "</style>\n",
       "<table border=\"1\" class=\"dataframe\">\n",
       "  <thead>\n",
       "    <tr style=\"text-align: right;\">\n",
       "      <th></th>\n",
       "      <th>hour</th>\n",
       "      <th>temperature</th>\n",
       "      <th>precipitation</th>\n",
       "      <th>windspeed</th>\n",
       "      <th>humidity</th>\n",
       "      <th>visibility</th>\n",
       "      <th>ozone</th>\n",
       "      <th>pm10</th>\n",
       "      <th>pm2.5</th>\n",
       "      <th>count</th>\n",
       "    </tr>\n",
       "    <tr>\n",
       "      <th>id</th>\n",
       "      <th></th>\n",
       "      <th></th>\n",
       "      <th></th>\n",
       "      <th></th>\n",
       "      <th></th>\n",
       "      <th></th>\n",
       "      <th></th>\n",
       "      <th></th>\n",
       "      <th></th>\n",
       "      <th></th>\n",
       "    </tr>\n",
       "  </thead>\n",
       "  <tbody>\n",
       "  </tbody>\n",
       "</table>\n",
       "</div>"
      ],
      "text/plain": [
       "Empty DataFrame\n",
       "Columns: [hour, temperature, precipitation, windspeed, humidity, visibility, ozone, pm10, pm2.5, count]\n",
       "Index: []"
      ]
     },
     "execution_count": 13,
     "metadata": {},
     "output_type": "execute_result"
    }
   ],
   "source": [
    "data.loc[(data['hour'] == 0) & (data['temperature'].isnull()), 'temperature'] = mean_temp_0\n",
    "data.loc[(data['hour'] == 18) & (data['temperature'].isnull()), 'temperature'] = mean_temp_18\n",
    "\n",
    "data[data['temperature'].isnull()]"
   ]
  },
  {
   "cell_type": "markdown",
   "metadata": {},
   "source": [
    "**위와 같이 결측치를 시간별 평균으로 대체하고 나니 결측치가 있는 행은 더이상 없는 것을 알 수 있다.**"
   ]
  },
  {
   "cell_type": "code",
   "execution_count": 14,
   "metadata": {},
   "outputs": [],
   "source": [
    "skew_temp = data['temperature'].skew()\n",
    "kurt_temp = data['temperature'].kurt()"
   ]
  },
  {
   "cell_type": "code",
   "execution_count": 15,
   "metadata": {
    "scrolled": false
   },
   "outputs": [
    {
     "data": {
      "image/png": "[encoded data removed]",
      "text/plain": [
       "<Figure size 576x360 with 1 Axes>"
      ]
     },
     "metadata": {
      "needs_background": "light"
     },
     "output_type": "display_data"
    }
   ],
   "source": [
    "fig, ax = plt.subplots(1, 1, figsize = (8, 5))\n",
    "sns.distplot(data['temperature'], \n",
    "             label = ('Skewness: {:.2f} \\n Kurtosis: {:.2f}'.format(skew_temp, kurt_temp))).legend()\n",
    "plt.show()"
   ]
  },
  {
   "cell_type": "code",
   "execution_count": 16,
   "metadata": {},
   "outputs": [],
   "source": [
    "_, bins = np.histogram(data['temperature'], bins = 4)\n",
    "\n",
    "data['temp_level'] = pd.factorize(pd.cut(data['temperature'], bins = bins, include_lowest = True, labels = np.arange(0,4)))[0]"
   ]
  },
  {
   "cell_type": "code",
   "execution_count": 17,
   "metadata": {},
   "outputs": [
    {
     "data": {
      "text/plain": [
       "array([ 3.1  ,  9.825, 16.55 , 23.275, 30.   ])"
      ]
     },
     "execution_count": 17,
     "metadata": {},
     "output_type": "execute_result"
    }
   ],
   "source": [
    "bins"
   ]
  },
  {
   "cell_type": "markdown",
   "metadata": {},
   "source": [
    "* **온도구간 1에 해당하는 9.8도 ~ 16.5도 사이의 대여량이 높음을 알 수 있다.**"
   ]
  },
  {
   "cell_type": "code",
   "execution_count": 18,
   "metadata": {
    "scrolled": true
   },
   "outputs": [
    {
     "data": {
      "image/png": "[encoded data removed]",
      "text/plain": [
       "<Figure size 504x288 with 1 Axes>"
      ]
     },
     "metadata": {
      "needs_background": "light"
     },
     "output_type": "display_data"
    }
   ],
   "source": [
    "plt.figure(figsize = (7, 4))\n",
    "\n",
    "sns.barplot(data = data, x = 'temp_level', y = 'count', estimator = np.sum)\n",
    "\n",
    "plt.show()"
   ]
  },
  {
   "cell_type": "markdown",
   "metadata": {},
   "source": [
    "### 4. precipitation 컬럼 분석 "
   ]
  },
  {
   "cell_type": "markdown",
   "metadata": {},
   "source": [
    "* **강수 여부의 경우 2개의 결측치가 존재한다.**\n",
    "    * 본 컬럼은 범주형 변수의 특성을 가지므로, 평균보다는 해당 시간의 최빈값으로 결측치를 대체하는 것이 좋다고 판단된다.\n",
    "    \n",
    "* **강수 여부에 따른 대여량 총계는 피벗테이블을 통해 확인할 수 있다.**\n",
    "    * 4~5월의 특성 상 비가 오지 않는 날의 대여량이 압도적으로 많음을 알 수 있다."
   ]
  },
  {
   "cell_type": "code",
   "execution_count": 19,
   "metadata": {
    "scrolled": true
   },
   "outputs": [
    {
     "data": {
      "text/html": [
       "<div>\n",
       "<style scoped>\n",
       "    .dataframe tbody tr th:only-of-type {\n",
       "        vertical-align: middle;\n",
       "    }\n",
       "\n",
       "    .dataframe tbody tr th {\n",
       "        vertical-align: top;\n",
       "    }\n",
       "\n",
       "    .dataframe thead th {\n",
       "        text-align: right;\n",
       "    }\n",
       "</style>\n",
       "<table border=\"1\" class=\"dataframe\">\n",
       "  <thead>\n",
       "    <tr style=\"text-align: right;\">\n",
       "      <th></th>\n",
       "      <th>hour</th>\n",
       "      <th>temperature</th>\n",
       "      <th>precipitation</th>\n",
       "      <th>windspeed</th>\n",
       "      <th>humidity</th>\n",
       "      <th>visibility</th>\n",
       "      <th>ozone</th>\n",
       "      <th>pm10</th>\n",
       "      <th>pm2.5</th>\n",
       "      <th>count</th>\n",
       "      <th>temp_level</th>\n",
       "    </tr>\n",
       "    <tr>\n",
       "      <th>id</th>\n",
       "      <th></th>\n",
       "      <th></th>\n",
       "      <th></th>\n",
       "      <th></th>\n",
       "      <th></th>\n",
       "      <th></th>\n",
       "      <th></th>\n",
       "      <th></th>\n",
       "      <th></th>\n",
       "      <th></th>\n",
       "      <th></th>\n",
       "    </tr>\n",
       "  </thead>\n",
       "  <tbody>\n",
       "    <tr>\n",
       "      <th>1420</th>\n",
       "      <td>0</td>\n",
       "      <td>14.788136</td>\n",
       "      <td>NaN</td>\n",
       "      <td>NaN</td>\n",
       "      <td>NaN</td>\n",
       "      <td>NaN</td>\n",
       "      <td>NaN</td>\n",
       "      <td>NaN</td>\n",
       "      <td>NaN</td>\n",
       "      <td>39.0</td>\n",
       "      <td>0</td>\n",
       "    </tr>\n",
       "    <tr>\n",
       "      <th>1553</th>\n",
       "      <td>18</td>\n",
       "      <td>20.926667</td>\n",
       "      <td>NaN</td>\n",
       "      <td>NaN</td>\n",
       "      <td>NaN</td>\n",
       "      <td>NaN</td>\n",
       "      <td>NaN</td>\n",
       "      <td>NaN</td>\n",
       "      <td>NaN</td>\n",
       "      <td>1.0</td>\n",
       "      <td>1</td>\n",
       "    </tr>\n",
       "  </tbody>\n",
       "</table>\n",
       "</div>"
      ],
      "text/plain": [
       "      hour  temperature  precipitation  windspeed  humidity  visibility  \\\n",
       "id                                                                        \n",
       "1420     0    14.788136            NaN        NaN       NaN         NaN   \n",
       "1553    18    20.926667            NaN        NaN       NaN         NaN   \n",
       "\n",
       "      ozone  pm10  pm2.5  count  temp_level  \n",
       "id                                           \n",
       "1420    NaN   NaN    NaN   39.0           0  \n",
       "1553    NaN   NaN    NaN    1.0           1  "
      ]
     },
     "execution_count": 19,
     "metadata": {},
     "output_type": "execute_result"
    }
   ],
   "source": [
    "data[data['precipitation'].isna()]"
   ]
  },
  {
   "cell_type": "code",
   "execution_count": 20,
   "metadata": {},
   "outputs": [
    {
     "data": {
      "text/plain": [
       "(0    0.0\n",
       " dtype: float64,\n",
       " 0    0.0\n",
       " dtype: float64)"
      ]
     },
     "execution_count": 20,
     "metadata": {},
     "output_type": "execute_result"
    }
   ],
   "source": [
    "mode_rain_0 = data[data['hour'] == 0]['precipitation'].mode()\n",
    "mode_rain_18 = data[data['hour'] == 0]['precipitation'].mode()\n",
    "\n",
    "mode_rain_0, mode_rain_18"
   ]
  },
  {
   "cell_type": "code",
   "execution_count": 21,
   "metadata": {},
   "outputs": [
    {
     "data": {
      "text/html": [
       "<div>\n",
       "<style scoped>\n",
       "    .dataframe tbody tr th:only-of-type {\n",
       "        vertical-align: middle;\n",
       "    }\n",
       "\n",
       "    .dataframe tbody tr th {\n",
       "        vertical-align: top;\n",
       "    }\n",
       "\n",
       "    .dataframe thead th {\n",
       "        text-align: right;\n",
       "    }\n",
       "</style>\n",
       "<table border=\"1\" class=\"dataframe\">\n",
       "  <thead>\n",
       "    <tr style=\"text-align: right;\">\n",
       "      <th></th>\n",
       "      <th>hour</th>\n",
       "      <th>temperature</th>\n",
       "      <th>precipitation</th>\n",
       "      <th>windspeed</th>\n",
       "      <th>humidity</th>\n",
       "      <th>visibility</th>\n",
       "      <th>ozone</th>\n",
       "      <th>pm10</th>\n",
       "      <th>pm2.5</th>\n",
       "      <th>count</th>\n",
       "      <th>temp_level</th>\n",
       "    </tr>\n",
       "    <tr>\n",
       "      <th>id</th>\n",
       "      <th></th>\n",
       "      <th></th>\n",
       "      <th></th>\n",
       "      <th></th>\n",
       "      <th></th>\n",
       "      <th></th>\n",
       "      <th></th>\n",
       "      <th></th>\n",
       "      <th></th>\n",
       "      <th></th>\n",
       "      <th></th>\n",
       "    </tr>\n",
       "  </thead>\n",
       "  <tbody>\n",
       "  </tbody>\n",
       "</table>\n",
       "</div>"
      ],
      "text/plain": [
       "Empty DataFrame\n",
       "Columns: [hour, temperature, precipitation, windspeed, humidity, visibility, ozone, pm10, pm2.5, count, temp_level]\n",
       "Index: []"
      ]
     },
     "execution_count": 21,
     "metadata": {},
     "output_type": "execute_result"
    }
   ],
   "source": [
    "data.loc[(data['hour'] == 0) & (data['precipitation'].isnull()), 'precipitation'] = 0\n",
    "data.loc[(data['hour'] == 18) & (data['precipitation'].isnull()), 'precipitation'] = 0\n",
    "\n",
    "data[data['precipitation'].isnull()]"
   ]
  },
  {
   "cell_type": "markdown",
   "metadata": {},
   "source": [
    "**위와 같이 결측치를 시간별 최빈값으로 대체하고 나니 결측치가 있는 행은 더이상 없는 것을 알 수 있다.**"
   ]
  },
  {
   "cell_type": "code",
   "execution_count": 22,
   "metadata": {
    "scrolled": false
   },
   "outputs": [
    {
     "data": {
      "text/html": [
       "<div>\n",
       "<style scoped>\n",
       "    .dataframe tbody tr th:only-of-type {\n",
       "        vertical-align: middle;\n",
       "    }\n",
       "\n",
       "    .dataframe tbody tr th {\n",
       "        vertical-align: top;\n",
       "    }\n",
       "\n",
       "    .dataframe thead th {\n",
       "        text-align: right;\n",
       "    }\n",
       "</style>\n",
       "<table border=\"1\" class=\"dataframe\">\n",
       "  <thead>\n",
       "    <tr style=\"text-align: right;\">\n",
       "      <th></th>\n",
       "      <th>count</th>\n",
       "    </tr>\n",
       "    <tr>\n",
       "      <th>precipitation</th>\n",
       "      <th></th>\n",
       "    </tr>\n",
       "  </thead>\n",
       "  <tbody>\n",
       "    <tr>\n",
       "      <th>0.0</th>\n",
       "      <td>1413</td>\n",
       "    </tr>\n",
       "    <tr>\n",
       "      <th>1.0</th>\n",
       "      <td>46</td>\n",
       "    </tr>\n",
       "    <tr>\n",
       "      <th>All</th>\n",
       "      <td>1459</td>\n",
       "    </tr>\n",
       "  </tbody>\n",
       "</table>\n",
       "</div>"
      ],
      "text/plain": [
       "               count\n",
       "precipitation       \n",
       "0.0             1413\n",
       "1.0               46\n",
       "All             1459"
      ]
     },
     "execution_count": 22,
     "metadata": {},
     "output_type": "execute_result"
    }
   ],
   "source": [
    "pd.pivot_table(data = data, index = 'precipitation', values = 'count', aggfunc = 'count', margins =True)"
   ]
  },
  {
   "cell_type": "code",
   "execution_count": 23,
   "metadata": {},
   "outputs": [
    {
     "data": {
      "image/png": "[encoded data removed]",
      "text/plain": [
       "<Figure size 504x288 with 1 Axes>"
      ]
     },
     "metadata": {
      "needs_background": "light"
     },
     "output_type": "display_data"
    }
   ],
   "source": [
    "fig, ax = plt.subplots(1, 1, figsize = (7, 4))\n",
    "\n",
    "sns.countplot(data = data, x = 'precipitation', hue = 'precipitation')\n",
    "plt.show()"
   ]
  },
  {
   "cell_type": "markdown",
   "metadata": {},
   "source": [
    "### 5. windspeed "
   ]
  },
  {
   "cell_type": "markdown",
   "metadata": {},
   "source": [
    "* **풍속은 9개의 결측치를 갖고 있다.**"
   ]
  },
  {
   "cell_type": "code",
   "execution_count": 24,
   "metadata": {
    "scrolled": true
   },
   "outputs": [
    {
     "data": {
      "text/html": [
       "<div>\n",
       "<style scoped>\n",
       "    .dataframe tbody tr th:only-of-type {\n",
       "        vertical-align: middle;\n",
       "    }\n",
       "\n",
       "    .dataframe tbody tr th {\n",
       "        vertical-align: top;\n",
       "    }\n",
       "\n",
       "    .dataframe thead th {\n",
       "        text-align: right;\n",
       "    }\n",
       "</style>\n",
       "<table border=\"1\" class=\"dataframe\">\n",
       "  <thead>\n",
       "    <tr style=\"text-align: right;\">\n",
       "      <th></th>\n",
       "      <th>hour</th>\n",
       "      <th>temperature</th>\n",
       "      <th>precipitation</th>\n",
       "      <th>windspeed</th>\n",
       "      <th>humidity</th>\n",
       "      <th>visibility</th>\n",
       "      <th>ozone</th>\n",
       "      <th>pm10</th>\n",
       "      <th>pm2.5</th>\n",
       "      <th>count</th>\n",
       "      <th>temp_level</th>\n",
       "    </tr>\n",
       "    <tr>\n",
       "      <th>id</th>\n",
       "      <th></th>\n",
       "      <th></th>\n",
       "      <th></th>\n",
       "      <th></th>\n",
       "      <th></th>\n",
       "      <th></th>\n",
       "      <th></th>\n",
       "      <th></th>\n",
       "      <th></th>\n",
       "      <th></th>\n",
       "      <th></th>\n",
       "    </tr>\n",
       "  </thead>\n",
       "  <tbody>\n",
       "    <tr>\n",
       "      <th>33</th>\n",
       "      <td>13</td>\n",
       "      <td>22.600000</td>\n",
       "      <td>0.0</td>\n",
       "      <td>NaN</td>\n",
       "      <td>41.0</td>\n",
       "      <td>987.0</td>\n",
       "      <td>0.046</td>\n",
       "      <td>64.0</td>\n",
       "      <td>39.0</td>\n",
       "      <td>208.0</td>\n",
       "      <td>1</td>\n",
       "    </tr>\n",
       "    <tr>\n",
       "      <th>381</th>\n",
       "      <td>1</td>\n",
       "      <td>14.100000</td>\n",
       "      <td>0.0</td>\n",
       "      <td>NaN</td>\n",
       "      <td>55.0</td>\n",
       "      <td>1992.0</td>\n",
       "      <td>NaN</td>\n",
       "      <td>NaN</td>\n",
       "      <td>NaN</td>\n",
       "      <td>38.0</td>\n",
       "      <td>0</td>\n",
       "    </tr>\n",
       "    <tr>\n",
       "      <th>404</th>\n",
       "      <td>3</td>\n",
       "      <td>14.000000</td>\n",
       "      <td>0.0</td>\n",
       "      <td>NaN</td>\n",
       "      <td>50.0</td>\n",
       "      <td>2000.0</td>\n",
       "      <td>0.049</td>\n",
       "      <td>35.0</td>\n",
       "      <td>22.0</td>\n",
       "      <td>17.0</td>\n",
       "      <td>0</td>\n",
       "    </tr>\n",
       "    <tr>\n",
       "      <th>570</th>\n",
       "      <td>0</td>\n",
       "      <td>14.300000</td>\n",
       "      <td>0.0</td>\n",
       "      <td>NaN</td>\n",
       "      <td>49.0</td>\n",
       "      <td>2000.0</td>\n",
       "      <td>0.044</td>\n",
       "      <td>37.0</td>\n",
       "      <td>20.0</td>\n",
       "      <td>58.0</td>\n",
       "      <td>0</td>\n",
       "    </tr>\n",
       "    <tr>\n",
       "      <th>1196</th>\n",
       "      <td>20</td>\n",
       "      <td>16.500000</td>\n",
       "      <td>0.0</td>\n",
       "      <td>NaN</td>\n",
       "      <td>31.0</td>\n",
       "      <td>2000.0</td>\n",
       "      <td>0.058</td>\n",
       "      <td>39.0</td>\n",
       "      <td>18.0</td>\n",
       "      <td>181.0</td>\n",
       "      <td>0</td>\n",
       "    </tr>\n",
       "    <tr>\n",
       "      <th>1420</th>\n",
       "      <td>0</td>\n",
       "      <td>14.788136</td>\n",
       "      <td>0.0</td>\n",
       "      <td>NaN</td>\n",
       "      <td>NaN</td>\n",
       "      <td>NaN</td>\n",
       "      <td>NaN</td>\n",
       "      <td>NaN</td>\n",
       "      <td>NaN</td>\n",
       "      <td>39.0</td>\n",
       "      <td>0</td>\n",
       "    </tr>\n",
       "    <tr>\n",
       "      <th>1553</th>\n",
       "      <td>18</td>\n",
       "      <td>20.926667</td>\n",
       "      <td>0.0</td>\n",
       "      <td>NaN</td>\n",
       "      <td>NaN</td>\n",
       "      <td>NaN</td>\n",
       "      <td>NaN</td>\n",
       "      <td>NaN</td>\n",
       "      <td>NaN</td>\n",
       "      <td>1.0</td>\n",
       "      <td>1</td>\n",
       "    </tr>\n",
       "    <tr>\n",
       "      <th>1717</th>\n",
       "      <td>12</td>\n",
       "      <td>21.400000</td>\n",
       "      <td>0.0</td>\n",
       "      <td>NaN</td>\n",
       "      <td>44.0</td>\n",
       "      <td>1375.0</td>\n",
       "      <td>0.044</td>\n",
       "      <td>61.0</td>\n",
       "      <td>37.0</td>\n",
       "      <td>116.0</td>\n",
       "      <td>1</td>\n",
       "    </tr>\n",
       "    <tr>\n",
       "      <th>1855</th>\n",
       "      <td>2</td>\n",
       "      <td>14.000000</td>\n",
       "      <td>0.0</td>\n",
       "      <td>NaN</td>\n",
       "      <td>52.0</td>\n",
       "      <td>2000.0</td>\n",
       "      <td>0.044</td>\n",
       "      <td>37.0</td>\n",
       "      <td>20.0</td>\n",
       "      <td>20.0</td>\n",
       "      <td>0</td>\n",
       "    </tr>\n",
       "  </tbody>\n",
       "</table>\n",
       "</div>"
      ],
      "text/plain": [
       "      hour  temperature  precipitation  windspeed  humidity  visibility  \\\n",
       "id                                                                        \n",
       "33      13    22.600000            0.0        NaN      41.0       987.0   \n",
       "381      1    14.100000            0.0        NaN      55.0      1992.0   \n",
       "404      3    14.000000            0.0        NaN      50.0      2000.0   \n",
       "570      0    14.300000            0.0        NaN      49.0      2000.0   \n",
       "1196    20    16.500000            0.0        NaN      31.0      2000.0   \n",
       "1420     0    14.788136            0.0        NaN       NaN         NaN   \n",
       "1553    18    20.926667            0.0        NaN       NaN         NaN   \n",
       "1717    12    21.400000            0.0        NaN      44.0      1375.0   \n",
       "1855     2    14.000000            0.0        NaN      52.0      2000.0   \n",
       "\n",
       "      ozone  pm10  pm2.5  count  temp_level  \n",
       "id                                           \n",
       "33    0.046  64.0   39.0  208.0           1  \n",
       "381     NaN   NaN    NaN   38.0           0  \n",
       "404   0.049  35.0   22.0   17.0           0  \n",
       "570   0.044  37.0   20.0   58.0           0  \n",
       "1196  0.058  39.0   18.0  181.0           0  \n",
       "1420    NaN   NaN    NaN   39.0           0  \n",
       "1553    NaN   NaN    NaN    1.0           1  \n",
       "1717  0.044  61.0   37.0  116.0           1  \n",
       "1855  0.044  37.0   20.0   20.0           0  "
      ]
     },
     "execution_count": 24,
     "metadata": {},
     "output_type": "execute_result"
    }
   ],
   "source": [
    "data[data['windspeed'].isna()]"
   ]
  },
  {
   "cell_type": "markdown",
   "metadata": {},
   "source": [
    "* **시간별 평균 풍속을 보면 다음과 같다.**\n",
    "    * 오전 9시까지 1m/s대, 이후부터 12시까지 2m/s대, 이후부터 20시까지 3m/s이고 다시 2m/s대로 나타난다.\n",
    "    * 결측치를 채운다면 이 구간의 평균으로 채우는 것이 합당하다고 판단된다.\n",
    "    * 4, 5월임을 감안하면 풍속 자체가 대여량에 큰 영향을 줄 것으로 보이진 않으나 우선 결측치를 채우고 구간을 나눈 뒤 분포를 살펴봐야 한다."
   ]
  },
  {
   "cell_type": "code",
   "execution_count": 25,
   "metadata": {
    "scrolled": false
   },
   "outputs": [
    {
     "data": {
      "text/plain": [
       "hour\n",
       "0     1.965517\n",
       "1     1.836667\n",
       "2     1.633333\n",
       "3     1.620000\n",
       "4     1.409836\n",
       "5     1.296721\n",
       "6     1.331148\n",
       "7     1.262295\n",
       "8     1.632787\n",
       "9     1.829508\n",
       "10    2.122951\n",
       "11    2.485246\n",
       "12    2.766667\n",
       "13    3.281356\n",
       "14    3.522951\n",
       "15    3.768852\n",
       "16    3.820000\n",
       "17    3.801667\n",
       "18    3.838333\n",
       "19    3.595082\n",
       "20    3.278333\n",
       "21    2.755000\n",
       "22    2.498361\n",
       "23    2.195082\n",
       "Name: windspeed, dtype: float64"
      ]
     },
     "execution_count": 25,
     "metadata": {},
     "output_type": "execute_result"
    }
   ],
   "source": [
    "data.groupby('hour').mean()['windspeed']"
   ]
  },
  {
   "cell_type": "code",
   "execution_count": 26,
   "metadata": {},
   "outputs": [
    {
     "data": {
      "text/plain": [
       "(1.5793046357615885, 2.4565934065934076, 3.6141078838174274, 2.481318681318683)"
      ]
     },
     "execution_count": 26,
     "metadata": {},
     "output_type": "execute_result"
    }
   ],
   "source": [
    "mean_wind_1 = data[data['hour'] <= 9]['windspeed'].mean()\n",
    "mean_wind_2 = data[(data['hour'] > 9) & (data['hour'] <= 12)]['windspeed'].mean()\n",
    "mean_wind_3 = data[(data['hour'] > 12) & (data['hour'] <= 20)]['windspeed'].mean()\n",
    "mean_wind_4 = data[data['hour'] > 20]['windspeed'].mean()\n",
    "\n",
    "mean_wind_1, mean_wind_2, mean_wind_3, mean_wind_4"
   ]
  },
  {
   "cell_type": "code",
   "execution_count": 27,
   "metadata": {},
   "outputs": [
    {
     "data": {
      "text/html": [
       "<div>\n",
       "<style scoped>\n",
       "    .dataframe tbody tr th:only-of-type {\n",
       "        vertical-align: middle;\n",
       "    }\n",
       "\n",
       "    .dataframe tbody tr th {\n",
       "        vertical-align: top;\n",
       "    }\n",
       "\n",
       "    .dataframe thead th {\n",
       "        text-align: right;\n",
       "    }\n",
       "</style>\n",
       "<table border=\"1\" class=\"dataframe\">\n",
       "  <thead>\n",
       "    <tr style=\"text-align: right;\">\n",
       "      <th></th>\n",
       "      <th>hour</th>\n",
       "      <th>temperature</th>\n",
       "      <th>precipitation</th>\n",
       "      <th>windspeed</th>\n",
       "      <th>humidity</th>\n",
       "      <th>visibility</th>\n",
       "      <th>ozone</th>\n",
       "      <th>pm10</th>\n",
       "      <th>pm2.5</th>\n",
       "      <th>count</th>\n",
       "      <th>temp_level</th>\n",
       "    </tr>\n",
       "    <tr>\n",
       "      <th>id</th>\n",
       "      <th></th>\n",
       "      <th></th>\n",
       "      <th></th>\n",
       "      <th></th>\n",
       "      <th></th>\n",
       "      <th></th>\n",
       "      <th></th>\n",
       "      <th></th>\n",
       "      <th></th>\n",
       "      <th></th>\n",
       "      <th></th>\n",
       "    </tr>\n",
       "  </thead>\n",
       "  <tbody>\n",
       "  </tbody>\n",
       "</table>\n",
       "</div>"
      ],
      "text/plain": [
       "Empty DataFrame\n",
       "Columns: [hour, temperature, precipitation, windspeed, humidity, visibility, ozone, pm10, pm2.5, count, temp_level]\n",
       "Index: []"
      ]
     },
     "execution_count": 27,
     "metadata": {},
     "output_type": "execute_result"
    }
   ],
   "source": [
    "data.loc[(data['hour'] <= 9) & (data['windspeed'].isnull()), 'windspeed'] = mean_wind_1\n",
    "data.loc[((data['hour'] > 9) & (data['hour'] <= 12)) & (data['windspeed'].isnull()), 'windspeed'] = mean_wind_2\n",
    "data.loc[((data['hour'] > 12) & (data['hour'] <= 20)) & (data['windspeed'].isnull()), 'windspeed'] = mean_wind_3\n",
    "data.loc[(data['hour'] > 20) & (data['windspeed'].isnull()), 'windspeed'] = mean_wind_4\n",
    "\n",
    "data[data['windspeed'].isnull()]"
   ]
  },
  {
   "cell_type": "markdown",
   "metadata": {},
   "source": [
    "* **위와 같이 결측치를 시간별 평균으로 대체하고 나니 결측치가 있는 행은 더이상 없는 것을 알 수 있다.**"
   ]
  },
  {
   "cell_type": "markdown",
   "metadata": {},
   "source": [
    "* **풍속을 0 ~ 2, 2 ~ 3, 3 이상 이렇게 세 구간으로 나눠보겠다.**"
   ]
  },
  {
   "cell_type": "code",
   "execution_count": 28,
   "metadata": {
    "scrolled": true
   },
   "outputs": [
    {
     "data": {
      "text/plain": [
       "count    1459.000000\n",
       "mean        2.478270\n",
       "std         1.375978\n",
       "min         0.000000\n",
       "25%         1.400000\n",
       "50%         2.300000\n",
       "75%         3.400000\n",
       "max         8.000000\n",
       "Name: windspeed, dtype: float64"
      ]
     },
     "execution_count": 28,
     "metadata": {},
     "output_type": "execute_result"
    }
   ],
   "source": [
    "data['windspeed'].describe()"
   ]
  },
  {
   "cell_type": "code",
   "execution_count": 29,
   "metadata": {},
   "outputs": [
    {
     "data": {
      "text/plain": [
       "id\n",
       "3       1\n",
       "6       1\n",
       "7       1\n",
       "8       2\n",
       "9       3\n",
       "       ..\n",
       "2174    1\n",
       "2175    3\n",
       "2176    1\n",
       "2178    3\n",
       "2179    3\n",
       "Name: wind_level, Length: 1459, dtype: category\n",
       "Categories (3, int64): [1 < 2 < 3]"
      ]
     },
     "execution_count": 29,
     "metadata": {},
     "output_type": "execute_result"
    }
   ],
   "source": [
    "bins = [0, 2, 3, 10]\n",
    "bins_label = [1, 2, 3]\n",
    "\n",
    "data['wind_level'] = pd.cut(data['windspeed'], bins = bins, include_lowest = True, labels = bins_label)\n",
    "data['wind_level']"
   ]
  },
  {
   "cell_type": "code",
   "execution_count": 30,
   "metadata": {
    "scrolled": true
   },
   "outputs": [
    {
     "data": {
      "text/plain": [
       "[1, 2, 3]\n",
       "Categories (3, int64): [1 < 2 < 3]"
      ]
     },
     "execution_count": 30,
     "metadata": {},
     "output_type": "execute_result"
    }
   ],
   "source": [
    "data['wind_level'].unique()"
   ]
  },
  {
   "cell_type": "code",
   "execution_count": 31,
   "metadata": {},
   "outputs": [
    {
     "data": {
      "image/png": "[encoded data removed]",
      "text/plain": [
       "<Figure size 720x360 with 2 Axes>"
      ]
     },
     "metadata": {
      "needs_background": "light"
     },
     "output_type": "display_data"
    }
   ],
   "source": [
    "fig, (ax1, ax2) = plt.subplots(1, 2, figsize = (10, 5))\n",
    "\n",
    "sns.barplot(data = data, x = 'wind_level', y = 'count', estimator = np.sum, ax = ax1)\n",
    "sns.barplot(data = data, x = 'wind_level', y = 'count', ax = ax2)\n",
    "ax1.set_title('number of total rent by wind level')\n",
    "ax2.set_title('mean of rent by wind level')\n",
    "\n",
    "plt.show()"
   ]
  },
  {
   "cell_type": "markdown",
   "metadata": {},
   "source": [
    "* **풍속을 구간으로 나누어 보니 풍속이 3 이상일 때 대여량이 높음을 알 수 있다.**"
   ]
  },
  {
   "cell_type": "markdown",
   "metadata": {},
   "source": [
    "### 6. humidity 컬럼 분석 \n",
    "* **습도는 강수와 관련이 있으므로 습도의 결측치는 강수 여부에 따른 평균 습도로 채우겠다.**"
   ]
  },
  {
   "cell_type": "code",
   "execution_count": 32,
   "metadata": {
    "scrolled": true
   },
   "outputs": [
    {
     "data": {
      "text/html": [
       "<div>\n",
       "<style scoped>\n",
       "    .dataframe tbody tr th:only-of-type {\n",
       "        vertical-align: middle;\n",
       "    }\n",
       "\n",
       "    .dataframe tbody tr th {\n",
       "        vertical-align: top;\n",
       "    }\n",
       "\n",
       "    .dataframe thead th {\n",
       "        text-align: right;\n",
       "    }\n",
       "</style>\n",
       "<table border=\"1\" class=\"dataframe\">\n",
       "  <thead>\n",
       "    <tr style=\"text-align: right;\">\n",
       "      <th></th>\n",
       "      <th>hour</th>\n",
       "      <th>temperature</th>\n",
       "      <th>precipitation</th>\n",
       "      <th>windspeed</th>\n",
       "      <th>humidity</th>\n",
       "      <th>visibility</th>\n",
       "      <th>ozone</th>\n",
       "      <th>pm10</th>\n",
       "      <th>pm2.5</th>\n",
       "      <th>count</th>\n",
       "      <th>temp_level</th>\n",
       "      <th>wind_level</th>\n",
       "    </tr>\n",
       "    <tr>\n",
       "      <th>id</th>\n",
       "      <th></th>\n",
       "      <th></th>\n",
       "      <th></th>\n",
       "      <th></th>\n",
       "      <th></th>\n",
       "      <th></th>\n",
       "      <th></th>\n",
       "      <th></th>\n",
       "      <th></th>\n",
       "      <th></th>\n",
       "      <th></th>\n",
       "      <th></th>\n",
       "    </tr>\n",
       "  </thead>\n",
       "  <tbody>\n",
       "    <tr>\n",
       "      <th>1420</th>\n",
       "      <td>0</td>\n",
       "      <td>14.788136</td>\n",
       "      <td>0.0</td>\n",
       "      <td>1.579305</td>\n",
       "      <td>NaN</td>\n",
       "      <td>NaN</td>\n",
       "      <td>NaN</td>\n",
       "      <td>NaN</td>\n",
       "      <td>NaN</td>\n",
       "      <td>39.0</td>\n",
       "      <td>0</td>\n",
       "      <td>1</td>\n",
       "    </tr>\n",
       "    <tr>\n",
       "      <th>1553</th>\n",
       "      <td>18</td>\n",
       "      <td>20.926667</td>\n",
       "      <td>0.0</td>\n",
       "      <td>3.614108</td>\n",
       "      <td>NaN</td>\n",
       "      <td>NaN</td>\n",
       "      <td>NaN</td>\n",
       "      <td>NaN</td>\n",
       "      <td>NaN</td>\n",
       "      <td>1.0</td>\n",
       "      <td>1</td>\n",
       "      <td>3</td>\n",
       "    </tr>\n",
       "  </tbody>\n",
       "</table>\n",
       "</div>"
      ],
      "text/plain": [
       "      hour  temperature  precipitation  windspeed  humidity  visibility  \\\n",
       "id                                                                        \n",
       "1420     0    14.788136            0.0   1.579305       NaN         NaN   \n",
       "1553    18    20.926667            0.0   3.614108       NaN         NaN   \n",
       "\n",
       "      ozone  pm10  pm2.5  count  temp_level wind_level  \n",
       "id                                                      \n",
       "1420    NaN   NaN    NaN   39.0           0          1  \n",
       "1553    NaN   NaN    NaN    1.0           1          3  "
      ]
     },
     "execution_count": 32,
     "metadata": {},
     "output_type": "execute_result"
    }
   ],
   "source": [
    "data[data['humidity'].isnull()]"
   ]
  },
  {
   "cell_type": "code",
   "execution_count": 33,
   "metadata": {},
   "outputs": [
    {
     "data": {
      "text/html": [
       "<div>\n",
       "<style scoped>\n",
       "    .dataframe tbody tr th:only-of-type {\n",
       "        vertical-align: middle;\n",
       "    }\n",
       "\n",
       "    .dataframe tbody tr th {\n",
       "        vertical-align: top;\n",
       "    }\n",
       "\n",
       "    .dataframe thead th {\n",
       "        text-align: right;\n",
       "    }\n",
       "</style>\n",
       "<table border=\"1\" class=\"dataframe\">\n",
       "  <thead>\n",
       "    <tr style=\"text-align: right;\">\n",
       "      <th></th>\n",
       "      <th>humidity</th>\n",
       "    </tr>\n",
       "    <tr>\n",
       "      <th>precipitation</th>\n",
       "      <th></th>\n",
       "    </tr>\n",
       "  </thead>\n",
       "  <tbody>\n",
       "    <tr>\n",
       "      <th>0.0</th>\n",
       "      <td>51.214741</td>\n",
       "    </tr>\n",
       "    <tr>\n",
       "      <th>1.0</th>\n",
       "      <td>83.413043</td>\n",
       "    </tr>\n",
       "  </tbody>\n",
       "</table>\n",
       "</div>"
      ],
      "text/plain": [
       "                humidity\n",
       "precipitation           \n",
       "0.0            51.214741\n",
       "1.0            83.413043"
      ]
     },
     "execution_count": 33,
     "metadata": {},
     "output_type": "execute_result"
    }
   ],
   "source": [
    "pd.pivot_table(data, index = 'precipitation', values = 'humidity')"
   ]
  },
  {
   "cell_type": "code",
   "execution_count": 34,
   "metadata": {},
   "outputs": [
    {
     "data": {
      "text/html": [
       "<div>\n",
       "<style scoped>\n",
       "    .dataframe tbody tr th:only-of-type {\n",
       "        vertical-align: middle;\n",
       "    }\n",
       "\n",
       "    .dataframe tbody tr th {\n",
       "        vertical-align: top;\n",
       "    }\n",
       "\n",
       "    .dataframe thead th {\n",
       "        text-align: right;\n",
       "    }\n",
       "</style>\n",
       "<table border=\"1\" class=\"dataframe\">\n",
       "  <thead>\n",
       "    <tr style=\"text-align: right;\">\n",
       "      <th></th>\n",
       "      <th>hour</th>\n",
       "      <th>temperature</th>\n",
       "      <th>precipitation</th>\n",
       "      <th>windspeed</th>\n",
       "      <th>humidity</th>\n",
       "      <th>visibility</th>\n",
       "      <th>ozone</th>\n",
       "      <th>pm10</th>\n",
       "      <th>pm2.5</th>\n",
       "      <th>count</th>\n",
       "      <th>temp_level</th>\n",
       "      <th>wind_level</th>\n",
       "    </tr>\n",
       "    <tr>\n",
       "      <th>id</th>\n",
       "      <th></th>\n",
       "      <th></th>\n",
       "      <th></th>\n",
       "      <th></th>\n",
       "      <th></th>\n",
       "      <th></th>\n",
       "      <th></th>\n",
       "      <th></th>\n",
       "      <th></th>\n",
       "      <th></th>\n",
       "      <th></th>\n",
       "      <th></th>\n",
       "    </tr>\n",
       "  </thead>\n",
       "  <tbody>\n",
       "  </tbody>\n",
       "</table>\n",
       "</div>"
      ],
      "text/plain": [
       "Empty DataFrame\n",
       "Columns: [hour, temperature, precipitation, windspeed, humidity, visibility, ozone, pm10, pm2.5, count, temp_level, wind_level]\n",
       "Index: []"
      ]
     },
     "execution_count": 34,
     "metadata": {},
     "output_type": "execute_result"
    }
   ],
   "source": [
    "data.loc[(data['humidity'].isnull()), 'humidity'] = 51.214741\n",
    "\n",
    "data[data['humidity'].isna()]"
   ]
  },
  {
   "cell_type": "code",
   "execution_count": 35,
   "metadata": {},
   "outputs": [],
   "source": [
    "skew_hum = data['humidity'].skew()\n",
    "kurt_hum = data['humidity'].kurt()"
   ]
  },
  {
   "cell_type": "code",
   "execution_count": 36,
   "metadata": {
    "scrolled": false
   },
   "outputs": [
    {
     "data": {
      "image/png": "[encoded data removed]",
      "text/plain": [
       "<Figure size 576x360 with 1 Axes>"
      ]
     },
     "metadata": {
      "needs_background": "light"
     },
     "output_type": "display_data"
    }
   ],
   "source": [
    "fig, ax = plt.subplots(1, 1, figsize = (8, 5))\n",
    "sns.distplot(data['humidity'], \n",
    "             label = ('Skewness: {:.2f} \\n Kurtosis: {:.2f}'.format(skew_hum, kurt_hum))).legend()\n",
    "plt.show()"
   ]
  },
  {
   "cell_type": "code",
   "execution_count": 37,
   "metadata": {},
   "outputs": [],
   "source": [
    "_, bins = np.histogram(data['humidity'], bins = 4)\n",
    "\n",
    "data['hum_level'] = pd.factorize(pd.cut(data['humidity'], bins = bins, include_lowest = True, labels = np.arange(0,4)))[0]"
   ]
  },
  {
   "cell_type": "code",
   "execution_count": 38,
   "metadata": {},
   "outputs": [
    {
     "data": {
      "text/plain": [
       "array([ 7., 30., 53., 76., 99.])"
      ]
     },
     "execution_count": 38,
     "metadata": {},
     "output_type": "execute_result"
    }
   ],
   "source": [
    "bins"
   ]
  },
  {
   "cell_type": "markdown",
   "metadata": {},
   "source": [
    "* **습도구간 1에 해당하는 30% ~ 53도 사이의 대여량이 높음을 알 수 있다.**"
   ]
  },
  {
   "cell_type": "code",
   "execution_count": 39,
   "metadata": {
    "scrolled": true
   },
   "outputs": [
    {
     "data": {
      "image/png": "[encoded data removed]",
      "text/plain": [
       "<Figure size 504x288 with 1 Axes>"
      ]
     },
     "metadata": {
      "needs_background": "light"
     },
     "output_type": "display_data"
    }
   ],
   "source": [
    "plt.figure(figsize = (7, 4))\n",
    "\n",
    "sns.barplot(data = data, x = 'hum_level', y = 'count', estimator = np.sum)\n",
    "\n",
    "plt.show()"
   ]
  },
  {
   "cell_type": "markdown",
   "metadata": {},
   "source": [
    "### 7. visibility 컬럼 분석 \n",
    "* **시간당으로 봐도 평균으로 채우는 게 적절할 것으로 생각된다.**"
   ]
  },
  {
   "cell_type": "code",
   "execution_count": 40,
   "metadata": {},
   "outputs": [
    {
     "data": {
      "text/plain": [
       "count    1457.000000\n",
       "mean     1405.216884\n",
       "std       583.131708\n",
       "min        78.000000\n",
       "25%       879.000000\n",
       "50%      1577.000000\n",
       "75%      1994.000000\n",
       "max      2000.000000\n",
       "Name: visibility, dtype: float64"
      ]
     },
     "execution_count": 40,
     "metadata": {},
     "output_type": "execute_result"
    }
   ],
   "source": [
    "data['visibility'].describe()"
   ]
  },
  {
   "cell_type": "code",
   "execution_count": 41,
   "metadata": {},
   "outputs": [
    {
     "data": {
      "text/html": [
       "<div>\n",
       "<style scoped>\n",
       "    .dataframe tbody tr th:only-of-type {\n",
       "        vertical-align: middle;\n",
       "    }\n",
       "\n",
       "    .dataframe tbody tr th {\n",
       "        vertical-align: top;\n",
       "    }\n",
       "\n",
       "    .dataframe thead th {\n",
       "        text-align: right;\n",
       "    }\n",
       "</style>\n",
       "<table border=\"1\" class=\"dataframe\">\n",
       "  <thead>\n",
       "    <tr style=\"text-align: right;\">\n",
       "      <th></th>\n",
       "      <th>hour</th>\n",
       "      <th>temperature</th>\n",
       "      <th>precipitation</th>\n",
       "      <th>windspeed</th>\n",
       "      <th>humidity</th>\n",
       "      <th>visibility</th>\n",
       "      <th>ozone</th>\n",
       "      <th>pm10</th>\n",
       "      <th>pm2.5</th>\n",
       "      <th>count</th>\n",
       "      <th>temp_level</th>\n",
       "      <th>wind_level</th>\n",
       "      <th>hum_level</th>\n",
       "    </tr>\n",
       "    <tr>\n",
       "      <th>id</th>\n",
       "      <th></th>\n",
       "      <th></th>\n",
       "      <th></th>\n",
       "      <th></th>\n",
       "      <th></th>\n",
       "      <th></th>\n",
       "      <th></th>\n",
       "      <th></th>\n",
       "      <th></th>\n",
       "      <th></th>\n",
       "      <th></th>\n",
       "      <th></th>\n",
       "      <th></th>\n",
       "    </tr>\n",
       "  </thead>\n",
       "  <tbody>\n",
       "    <tr>\n",
       "      <th>1420</th>\n",
       "      <td>0</td>\n",
       "      <td>14.788136</td>\n",
       "      <td>0.0</td>\n",
       "      <td>1.579305</td>\n",
       "      <td>51.214741</td>\n",
       "      <td>NaN</td>\n",
       "      <td>NaN</td>\n",
       "      <td>NaN</td>\n",
       "      <td>NaN</td>\n",
       "      <td>39.0</td>\n",
       "      <td>0</td>\n",
       "      <td>1</td>\n",
       "      <td>1</td>\n",
       "    </tr>\n",
       "    <tr>\n",
       "      <th>1553</th>\n",
       "      <td>18</td>\n",
       "      <td>20.926667</td>\n",
       "      <td>0.0</td>\n",
       "      <td>3.614108</td>\n",
       "      <td>51.214741</td>\n",
       "      <td>NaN</td>\n",
       "      <td>NaN</td>\n",
       "      <td>NaN</td>\n",
       "      <td>NaN</td>\n",
       "      <td>1.0</td>\n",
       "      <td>1</td>\n",
       "      <td>3</td>\n",
       "      <td>1</td>\n",
       "    </tr>\n",
       "  </tbody>\n",
       "</table>\n",
       "</div>"
      ],
      "text/plain": [
       "      hour  temperature  precipitation  windspeed   humidity  visibility  \\\n",
       "id                                                                         \n",
       "1420     0    14.788136            0.0   1.579305  51.214741         NaN   \n",
       "1553    18    20.926667            0.0   3.614108  51.214741         NaN   \n",
       "\n",
       "      ozone  pm10  pm2.5  count  temp_level wind_level  hum_level  \n",
       "id                                                                 \n",
       "1420    NaN   NaN    NaN   39.0           0          1          1  \n",
       "1553    NaN   NaN    NaN    1.0           1          3          1  "
      ]
     },
     "execution_count": 41,
     "metadata": {},
     "output_type": "execute_result"
    }
   ],
   "source": [
    "data[data['visibility'].isnull()]"
   ]
  },
  {
   "cell_type": "code",
   "execution_count": 42,
   "metadata": {},
   "outputs": [],
   "source": [
    "data.loc[(data['visibility'].isna()), 'visibility'] = 1577"
   ]
  },
  {
   "cell_type": "markdown",
   "metadata": {},
   "source": [
    "### 8. ozone 컬럼 분석 \n",
    "* **결측치는 평균으로 대체하겠다.**"
   ]
  },
  {
   "cell_type": "code",
   "execution_count": 43,
   "metadata": {},
   "outputs": [
    {
     "data": {
      "text/html": [
       "<div>\n",
       "<style scoped>\n",
       "    .dataframe tbody tr th:only-of-type {\n",
       "        vertical-align: middle;\n",
       "    }\n",
       "\n",
       "    .dataframe tbody tr th {\n",
       "        vertical-align: top;\n",
       "    }\n",
       "\n",
       "    .dataframe thead th {\n",
       "        text-align: right;\n",
       "    }\n",
       "</style>\n",
       "<table border=\"1\" class=\"dataframe\">\n",
       "  <thead>\n",
       "    <tr style=\"text-align: right;\">\n",
       "      <th></th>\n",
       "      <th>hour</th>\n",
       "      <th>temperature</th>\n",
       "      <th>precipitation</th>\n",
       "      <th>windspeed</th>\n",
       "      <th>humidity</th>\n",
       "      <th>visibility</th>\n",
       "      <th>ozone</th>\n",
       "      <th>pm10</th>\n",
       "      <th>pm2.5</th>\n",
       "      <th>count</th>\n",
       "      <th>temp_level</th>\n",
       "      <th>wind_level</th>\n",
       "      <th>hum_level</th>\n",
       "    </tr>\n",
       "    <tr>\n",
       "      <th>id</th>\n",
       "      <th></th>\n",
       "      <th></th>\n",
       "      <th></th>\n",
       "      <th></th>\n",
       "      <th></th>\n",
       "      <th></th>\n",
       "      <th></th>\n",
       "      <th></th>\n",
       "      <th></th>\n",
       "      <th></th>\n",
       "      <th></th>\n",
       "      <th></th>\n",
       "      <th></th>\n",
       "    </tr>\n",
       "  </thead>\n",
       "  <tbody>\n",
       "    <tr>\n",
       "      <th>28</th>\n",
       "      <td>1</td>\n",
       "      <td>20.0</td>\n",
       "      <td>0.0</td>\n",
       "      <td>1.8</td>\n",
       "      <td>58.0</td>\n",
       "      <td>2000.0</td>\n",
       "      <td>NaN</td>\n",
       "      <td>NaN</td>\n",
       "      <td>NaN</td>\n",
       "      <td>74.0</td>\n",
       "      <td>1</td>\n",
       "      <td>1</td>\n",
       "      <td>2</td>\n",
       "    </tr>\n",
       "    <tr>\n",
       "      <th>76</th>\n",
       "      <td>17</td>\n",
       "      <td>21.7</td>\n",
       "      <td>0.0</td>\n",
       "      <td>3.0</td>\n",
       "      <td>35.0</td>\n",
       "      <td>2000.0</td>\n",
       "      <td>NaN</td>\n",
       "      <td>32.0</td>\n",
       "      <td>19.0</td>\n",
       "      <td>213.0</td>\n",
       "      <td>1</td>\n",
       "      <td>2</td>\n",
       "      <td>1</td>\n",
       "    </tr>\n",
       "    <tr>\n",
       "      <th>78</th>\n",
       "      <td>1</td>\n",
       "      <td>12.2</td>\n",
       "      <td>0.0</td>\n",
       "      <td>3.0</td>\n",
       "      <td>49.0</td>\n",
       "      <td>1071.0</td>\n",
       "      <td>NaN</td>\n",
       "      <td>NaN</td>\n",
       "      <td>NaN</td>\n",
       "      <td>36.0</td>\n",
       "      <td>0</td>\n",
       "      <td>2</td>\n",
       "      <td>1</td>\n",
       "    </tr>\n",
       "    <tr>\n",
       "      <th>130</th>\n",
       "      <td>1</td>\n",
       "      <td>9.4</td>\n",
       "      <td>0.0</td>\n",
       "      <td>2.5</td>\n",
       "      <td>65.0</td>\n",
       "      <td>1907.0</td>\n",
       "      <td>NaN</td>\n",
       "      <td>NaN</td>\n",
       "      <td>NaN</td>\n",
       "      <td>39.0</td>\n",
       "      <td>2</td>\n",
       "      <td>2</td>\n",
       "      <td>2</td>\n",
       "    </tr>\n",
       "    <tr>\n",
       "      <th>181</th>\n",
       "      <td>16</td>\n",
       "      <td>26.2</td>\n",
       "      <td>0.0</td>\n",
       "      <td>4.3</td>\n",
       "      <td>31.0</td>\n",
       "      <td>1718.0</td>\n",
       "      <td>NaN</td>\n",
       "      <td>47.0</td>\n",
       "      <td>23.0</td>\n",
       "      <td>136.0</td>\n",
       "      <td>3</td>\n",
       "      <td>3</td>\n",
       "      <td>1</td>\n",
       "    </tr>\n",
       "    <tr>\n",
       "      <th>...</th>\n",
       "      <td>...</td>\n",
       "      <td>...</td>\n",
       "      <td>...</td>\n",
       "      <td>...</td>\n",
       "      <td>...</td>\n",
       "      <td>...</td>\n",
       "      <td>...</td>\n",
       "      <td>...</td>\n",
       "      <td>...</td>\n",
       "      <td>...</td>\n",
       "      <td>...</td>\n",
       "      <td>...</td>\n",
       "      <td>...</td>\n",
       "    </tr>\n",
       "    <tr>\n",
       "      <th>1941</th>\n",
       "      <td>1</td>\n",
       "      <td>16.6</td>\n",
       "      <td>0.0</td>\n",
       "      <td>2.1</td>\n",
       "      <td>35.0</td>\n",
       "      <td>2000.0</td>\n",
       "      <td>NaN</td>\n",
       "      <td>NaN</td>\n",
       "      <td>NaN</td>\n",
       "      <td>62.0</td>\n",
       "      <td>1</td>\n",
       "      <td>2</td>\n",
       "      <td>1</td>\n",
       "    </tr>\n",
       "    <tr>\n",
       "      <th>1994</th>\n",
       "      <td>1</td>\n",
       "      <td>15.1</td>\n",
       "      <td>0.0</td>\n",
       "      <td>1.3</td>\n",
       "      <td>35.0</td>\n",
       "      <td>2000.0</td>\n",
       "      <td>NaN</td>\n",
       "      <td>NaN</td>\n",
       "      <td>NaN</td>\n",
       "      <td>40.0</td>\n",
       "      <td>0</td>\n",
       "      <td>1</td>\n",
       "      <td>1</td>\n",
       "    </tr>\n",
       "    <tr>\n",
       "      <th>2005</th>\n",
       "      <td>1</td>\n",
       "      <td>17.7</td>\n",
       "      <td>0.0</td>\n",
       "      <td>1.0</td>\n",
       "      <td>43.0</td>\n",
       "      <td>1338.0</td>\n",
       "      <td>NaN</td>\n",
       "      <td>NaN</td>\n",
       "      <td>NaN</td>\n",
       "      <td>69.0</td>\n",
       "      <td>1</td>\n",
       "      <td>1</td>\n",
       "      <td>1</td>\n",
       "    </tr>\n",
       "    <tr>\n",
       "      <th>2047</th>\n",
       "      <td>1</td>\n",
       "      <td>12.6</td>\n",
       "      <td>0.0</td>\n",
       "      <td>2.4</td>\n",
       "      <td>48.0</td>\n",
       "      <td>1805.0</td>\n",
       "      <td>NaN</td>\n",
       "      <td>NaN</td>\n",
       "      <td>NaN</td>\n",
       "      <td>43.0</td>\n",
       "      <td>0</td>\n",
       "      <td>2</td>\n",
       "      <td>1</td>\n",
       "    </tr>\n",
       "    <tr>\n",
       "      <th>2086</th>\n",
       "      <td>1</td>\n",
       "      <td>11.5</td>\n",
       "      <td>0.0</td>\n",
       "      <td>3.2</td>\n",
       "      <td>23.0</td>\n",
       "      <td>2000.0</td>\n",
       "      <td>NaN</td>\n",
       "      <td>NaN</td>\n",
       "      <td>NaN</td>\n",
       "      <td>42.0</td>\n",
       "      <td>0</td>\n",
       "      <td>3</td>\n",
       "      <td>3</td>\n",
       "    </tr>\n",
       "  </tbody>\n",
       "</table>\n",
       "<p>76 rows × 13 columns</p>\n",
       "</div>"
      ],
      "text/plain": [
       "      hour  temperature  precipitation  windspeed  humidity  visibility  \\\n",
       "id                                                                        \n",
       "28       1         20.0            0.0        1.8      58.0      2000.0   \n",
       "76      17         21.7            0.0        3.0      35.0      2000.0   \n",
       "78       1         12.2            0.0        3.0      49.0      1071.0   \n",
       "130      1          9.4            0.0        2.5      65.0      1907.0   \n",
       "181     16         26.2            0.0        4.3      31.0      1718.0   \n",
       "...    ...          ...            ...        ...       ...         ...   \n",
       "1941     1         16.6            0.0        2.1      35.0      2000.0   \n",
       "1994     1         15.1            0.0        1.3      35.0      2000.0   \n",
       "2005     1         17.7            0.0        1.0      43.0      1338.0   \n",
       "2047     1         12.6            0.0        2.4      48.0      1805.0   \n",
       "2086     1         11.5            0.0        3.2      23.0      2000.0   \n",
       "\n",
       "      ozone  pm10  pm2.5  count  temp_level wind_level  hum_level  \n",
       "id                                                                 \n",
       "28      NaN   NaN    NaN   74.0           1          1          2  \n",
       "76      NaN  32.0   19.0  213.0           1          2          1  \n",
       "78      NaN   NaN    NaN   36.0           0          2          1  \n",
       "130     NaN   NaN    NaN   39.0           2          2          2  \n",
       "181     NaN  47.0   23.0  136.0           3          3          1  \n",
       "...     ...   ...    ...    ...         ...        ...        ...  \n",
       "1941    NaN   NaN    NaN   62.0           1          2          1  \n",
       "1994    NaN   NaN    NaN   40.0           0          1          1  \n",
       "2005    NaN   NaN    NaN   69.0           1          1          1  \n",
       "2047    NaN   NaN    NaN   43.0           0          2          1  \n",
       "2086    NaN   NaN    NaN   42.0           0          3          3  \n",
       "\n",
       "[76 rows x 13 columns]"
      ]
     },
     "execution_count": 43,
     "metadata": {},
     "output_type": "execute_result"
    }
   ],
   "source": [
    "data[data['ozone'].isna()]"
   ]
  },
  {
   "cell_type": "code",
   "execution_count": 44,
   "metadata": {
    "scrolled": true
   },
   "outputs": [
    {
     "data": {
      "text/plain": [
       "count    1383.000000\n",
       "mean        0.039149\n",
       "std         0.019509\n",
       "min         0.003000\n",
       "25%         0.025500\n",
       "50%         0.039000\n",
       "75%         0.052000\n",
       "max         0.125000\n",
       "Name: ozone, dtype: float64"
      ]
     },
     "execution_count": 44,
     "metadata": {},
     "output_type": "execute_result"
    }
   ],
   "source": [
    "data['ozone'].describe()"
   ]
  },
  {
   "cell_type": "code",
   "execution_count": 45,
   "metadata": {},
   "outputs": [],
   "source": [
    "data.loc[(data['ozone'].isna()), 'ozone'] = data['ozone'].mean()"
   ]
  },
  {
   "cell_type": "markdown",
   "metadata": {},
   "source": [
    "### 9. pm10 분석"
   ]
  },
  {
   "cell_type": "code",
   "execution_count": 46,
   "metadata": {},
   "outputs": [
    {
     "data": {
      "text/html": [
       "<div>\n",
       "<style scoped>\n",
       "    .dataframe tbody tr th:only-of-type {\n",
       "        vertical-align: middle;\n",
       "    }\n",
       "\n",
       "    .dataframe tbody tr th {\n",
       "        vertical-align: top;\n",
       "    }\n",
       "\n",
       "    .dataframe thead th {\n",
       "        text-align: right;\n",
       "    }\n",
       "</style>\n",
       "<table border=\"1\" class=\"dataframe\">\n",
       "  <thead>\n",
       "    <tr style=\"text-align: right;\">\n",
       "      <th></th>\n",
       "      <th>hour</th>\n",
       "      <th>temperature</th>\n",
       "      <th>precipitation</th>\n",
       "      <th>windspeed</th>\n",
       "      <th>humidity</th>\n",
       "      <th>visibility</th>\n",
       "      <th>ozone</th>\n",
       "      <th>pm10</th>\n",
       "      <th>pm2.5</th>\n",
       "      <th>count</th>\n",
       "      <th>temp_level</th>\n",
       "      <th>wind_level</th>\n",
       "      <th>hum_level</th>\n",
       "    </tr>\n",
       "    <tr>\n",
       "      <th>id</th>\n",
       "      <th></th>\n",
       "      <th></th>\n",
       "      <th></th>\n",
       "      <th></th>\n",
       "      <th></th>\n",
       "      <th></th>\n",
       "      <th></th>\n",
       "      <th></th>\n",
       "      <th></th>\n",
       "      <th></th>\n",
       "      <th></th>\n",
       "      <th></th>\n",
       "      <th></th>\n",
       "    </tr>\n",
       "  </thead>\n",
       "  <tbody>\n",
       "    <tr>\n",
       "      <th>28</th>\n",
       "      <td>1</td>\n",
       "      <td>20.0</td>\n",
       "      <td>0.0</td>\n",
       "      <td>1.8</td>\n",
       "      <td>58.0</td>\n",
       "      <td>2000.0</td>\n",
       "      <td>0.039149</td>\n",
       "      <td>NaN</td>\n",
       "      <td>NaN</td>\n",
       "      <td>74.0</td>\n",
       "      <td>1</td>\n",
       "      <td>1</td>\n",
       "      <td>2</td>\n",
       "    </tr>\n",
       "    <tr>\n",
       "      <th>78</th>\n",
       "      <td>1</td>\n",
       "      <td>12.2</td>\n",
       "      <td>0.0</td>\n",
       "      <td>3.0</td>\n",
       "      <td>49.0</td>\n",
       "      <td>1071.0</td>\n",
       "      <td>0.039149</td>\n",
       "      <td>NaN</td>\n",
       "      <td>NaN</td>\n",
       "      <td>36.0</td>\n",
       "      <td>0</td>\n",
       "      <td>2</td>\n",
       "      <td>1</td>\n",
       "    </tr>\n",
       "    <tr>\n",
       "      <th>130</th>\n",
       "      <td>1</td>\n",
       "      <td>9.4</td>\n",
       "      <td>0.0</td>\n",
       "      <td>2.5</td>\n",
       "      <td>65.0</td>\n",
       "      <td>1907.0</td>\n",
       "      <td>0.039149</td>\n",
       "      <td>NaN</td>\n",
       "      <td>NaN</td>\n",
       "      <td>39.0</td>\n",
       "      <td>2</td>\n",
       "      <td>2</td>\n",
       "      <td>2</td>\n",
       "    </tr>\n",
       "    <tr>\n",
       "      <th>149</th>\n",
       "      <td>16</td>\n",
       "      <td>15.8</td>\n",
       "      <td>0.0</td>\n",
       "      <td>5.3</td>\n",
       "      <td>17.0</td>\n",
       "      <td>1923.0</td>\n",
       "      <td>0.047000</td>\n",
       "      <td>NaN</td>\n",
       "      <td>NaN</td>\n",
       "      <td>102.0</td>\n",
       "      <td>0</td>\n",
       "      <td>3</td>\n",
       "      <td>3</td>\n",
       "    </tr>\n",
       "    <tr>\n",
       "      <th>193</th>\n",
       "      <td>19</td>\n",
       "      <td>27.0</td>\n",
       "      <td>0.0</td>\n",
       "      <td>3.6</td>\n",
       "      <td>39.0</td>\n",
       "      <td>2000.0</td>\n",
       "      <td>0.047000</td>\n",
       "      <td>NaN</td>\n",
       "      <td>NaN</td>\n",
       "      <td>319.0</td>\n",
       "      <td>3</td>\n",
       "      <td>3</td>\n",
       "      <td>1</td>\n",
       "    </tr>\n",
       "    <tr>\n",
       "      <th>...</th>\n",
       "      <td>...</td>\n",
       "      <td>...</td>\n",
       "      <td>...</td>\n",
       "      <td>...</td>\n",
       "      <td>...</td>\n",
       "      <td>...</td>\n",
       "      <td>...</td>\n",
       "      <td>...</td>\n",
       "      <td>...</td>\n",
       "      <td>...</td>\n",
       "      <td>...</td>\n",
       "      <td>...</td>\n",
       "      <td>...</td>\n",
       "    </tr>\n",
       "    <tr>\n",
       "      <th>2005</th>\n",
       "      <td>1</td>\n",
       "      <td>17.7</td>\n",
       "      <td>0.0</td>\n",
       "      <td>1.0</td>\n",
       "      <td>43.0</td>\n",
       "      <td>1338.0</td>\n",
       "      <td>0.039149</td>\n",
       "      <td>NaN</td>\n",
       "      <td>NaN</td>\n",
       "      <td>69.0</td>\n",
       "      <td>1</td>\n",
       "      <td>1</td>\n",
       "      <td>1</td>\n",
       "    </tr>\n",
       "    <tr>\n",
       "      <th>2016</th>\n",
       "      <td>19</td>\n",
       "      <td>16.2</td>\n",
       "      <td>0.0</td>\n",
       "      <td>3.5</td>\n",
       "      <td>31.0</td>\n",
       "      <td>950.0</td>\n",
       "      <td>0.060000</td>\n",
       "      <td>NaN</td>\n",
       "      <td>NaN</td>\n",
       "      <td>167.0</td>\n",
       "      <td>0</td>\n",
       "      <td>3</td>\n",
       "      <td>1</td>\n",
       "    </tr>\n",
       "    <tr>\n",
       "      <th>2047</th>\n",
       "      <td>1</td>\n",
       "      <td>12.6</td>\n",
       "      <td>0.0</td>\n",
       "      <td>2.4</td>\n",
       "      <td>48.0</td>\n",
       "      <td>1805.0</td>\n",
       "      <td>0.039149</td>\n",
       "      <td>NaN</td>\n",
       "      <td>NaN</td>\n",
       "      <td>43.0</td>\n",
       "      <td>0</td>\n",
       "      <td>2</td>\n",
       "      <td>1</td>\n",
       "    </tr>\n",
       "    <tr>\n",
       "      <th>2086</th>\n",
       "      <td>1</td>\n",
       "      <td>11.5</td>\n",
       "      <td>0.0</td>\n",
       "      <td>3.2</td>\n",
       "      <td>23.0</td>\n",
       "      <td>2000.0</td>\n",
       "      <td>0.039149</td>\n",
       "      <td>NaN</td>\n",
       "      <td>NaN</td>\n",
       "      <td>42.0</td>\n",
       "      <td>0</td>\n",
       "      <td>3</td>\n",
       "      <td>3</td>\n",
       "    </tr>\n",
       "    <tr>\n",
       "      <th>2096</th>\n",
       "      <td>20</td>\n",
       "      <td>14.0</td>\n",
       "      <td>0.0</td>\n",
       "      <td>2.9</td>\n",
       "      <td>35.0</td>\n",
       "      <td>910.0</td>\n",
       "      <td>0.061000</td>\n",
       "      <td>NaN</td>\n",
       "      <td>NaN</td>\n",
       "      <td>117.0</td>\n",
       "      <td>0</td>\n",
       "      <td>2</td>\n",
       "      <td>1</td>\n",
       "    </tr>\n",
       "  </tbody>\n",
       "</table>\n",
       "<p>90 rows × 13 columns</p>\n",
       "</div>"
      ],
      "text/plain": [
       "      hour  temperature  precipitation  windspeed  humidity  visibility  \\\n",
       "id                                                                        \n",
       "28       1         20.0            0.0        1.8      58.0      2000.0   \n",
       "78       1         12.2            0.0        3.0      49.0      1071.0   \n",
       "130      1          9.4            0.0        2.5      65.0      1907.0   \n",
       "149     16         15.8            0.0        5.3      17.0      1923.0   \n",
       "193     19         27.0            0.0        3.6      39.0      2000.0   \n",
       "...    ...          ...            ...        ...       ...         ...   \n",
       "2005     1         17.7            0.0        1.0      43.0      1338.0   \n",
       "2016    19         16.2            0.0        3.5      31.0       950.0   \n",
       "2047     1         12.6            0.0        2.4      48.0      1805.0   \n",
       "2086     1         11.5            0.0        3.2      23.0      2000.0   \n",
       "2096    20         14.0            0.0        2.9      35.0       910.0   \n",
       "\n",
       "         ozone  pm10  pm2.5  count  temp_level wind_level  hum_level  \n",
       "id                                                                    \n",
       "28    0.039149   NaN    NaN   74.0           1          1          2  \n",
       "78    0.039149   NaN    NaN   36.0           0          2          1  \n",
       "130   0.039149   NaN    NaN   39.0           2          2          2  \n",
       "149   0.047000   NaN    NaN  102.0           0          3          3  \n",
       "193   0.047000   NaN    NaN  319.0           3          3          1  \n",
       "...        ...   ...    ...    ...         ...        ...        ...  \n",
       "2005  0.039149   NaN    NaN   69.0           1          1          1  \n",
       "2016  0.060000   NaN    NaN  167.0           0          3          1  \n",
       "2047  0.039149   NaN    NaN   43.0           0          2          1  \n",
       "2086  0.039149   NaN    NaN   42.0           0          3          3  \n",
       "2096  0.061000   NaN    NaN  117.0           0          2          1  \n",
       "\n",
       "[90 rows x 13 columns]"
      ]
     },
     "execution_count": 46,
     "metadata": {},
     "output_type": "execute_result"
    }
   ],
   "source": [
    "data[data['pm10'].isna()]"
   ]
  },
  {
   "cell_type": "code",
   "execution_count": 47,
   "metadata": {},
   "outputs": [
    {
     "data": {
      "text/plain": [
       "count    1369.000000\n",
       "mean       57.168736\n",
       "std        31.771019\n",
       "min         9.000000\n",
       "25%        36.000000\n",
       "50%        51.000000\n",
       "75%        69.000000\n",
       "max       269.000000\n",
       "Name: pm10, dtype: float64"
      ]
     },
     "execution_count": 47,
     "metadata": {},
     "output_type": "execute_result"
    }
   ],
   "source": [
    "data['pm10'].describe()"
   ]
  },
  {
   "cell_type": "code",
   "execution_count": 48,
   "metadata": {},
   "outputs": [
    {
     "data": {
      "text/plain": [
       "hour\n",
       "0     55.881356\n",
       "1           NaN\n",
       "2     58.475410\n",
       "3     59.180328\n",
       "4     58.278689\n",
       "5     56.721311\n",
       "6     56.150000\n",
       "7     56.533333\n",
       "8     57.918033\n",
       "9     59.147541\n",
       "10    61.083333\n",
       "11    60.300000\n",
       "12    59.344828\n",
       "13    59.589286\n",
       "14    58.283333\n",
       "15    57.355932\n",
       "16    57.315789\n",
       "17    57.086207\n",
       "18    56.875000\n",
       "19    53.847458\n",
       "20    53.118644\n",
       "21    53.933333\n",
       "22    54.098361\n",
       "23    54.426230\n",
       "Name: pm10, dtype: float64"
      ]
     },
     "execution_count": 48,
     "metadata": {},
     "output_type": "execute_result"
    }
   ],
   "source": [
    "data.groupby('hour').mean()['pm10']"
   ]
  },
  {
   "cell_type": "code",
   "execution_count": 49,
   "metadata": {},
   "outputs": [],
   "source": [
    "data.loc[(data['pm10'].isna()), 'pm10'] = data['pm10'].mean()"
   ]
  },
  {
   "cell_type": "markdown",
   "metadata": {},
   "source": [
    "### 10. pm2.5 컬럼 분석 "
   ]
  },
  {
   "cell_type": "code",
   "execution_count": 50,
   "metadata": {
    "scrolled": false
   },
   "outputs": [
    {
     "data": {
      "text/html": [
       "<div>\n",
       "<style scoped>\n",
       "    .dataframe tbody tr th:only-of-type {\n",
       "        vertical-align: middle;\n",
       "    }\n",
       "\n",
       "    .dataframe tbody tr th {\n",
       "        vertical-align: top;\n",
       "    }\n",
       "\n",
       "    .dataframe thead th {\n",
       "        text-align: right;\n",
       "    }\n",
       "</style>\n",
       "<table border=\"1\" class=\"dataframe\">\n",
       "  <thead>\n",
       "    <tr style=\"text-align: right;\">\n",
       "      <th></th>\n",
       "      <th>hour</th>\n",
       "      <th>temperature</th>\n",
       "      <th>precipitation</th>\n",
       "      <th>windspeed</th>\n",
       "      <th>humidity</th>\n",
       "      <th>visibility</th>\n",
       "      <th>ozone</th>\n",
       "      <th>pm10</th>\n",
       "      <th>pm2.5</th>\n",
       "      <th>count</th>\n",
       "      <th>temp_level</th>\n",
       "      <th>wind_level</th>\n",
       "      <th>hum_level</th>\n",
       "    </tr>\n",
       "    <tr>\n",
       "      <th>id</th>\n",
       "      <th></th>\n",
       "      <th></th>\n",
       "      <th></th>\n",
       "      <th></th>\n",
       "      <th></th>\n",
       "      <th></th>\n",
       "      <th></th>\n",
       "      <th></th>\n",
       "      <th></th>\n",
       "      <th></th>\n",
       "      <th></th>\n",
       "      <th></th>\n",
       "      <th></th>\n",
       "    </tr>\n",
       "  </thead>\n",
       "  <tbody>\n",
       "    <tr>\n",
       "      <th>28</th>\n",
       "      <td>1</td>\n",
       "      <td>20.0</td>\n",
       "      <td>0.0</td>\n",
       "      <td>1.8</td>\n",
       "      <td>58.0</td>\n",
       "      <td>2000.0</td>\n",
       "      <td>0.039149</td>\n",
       "      <td>57.168736</td>\n",
       "      <td>NaN</td>\n",
       "      <td>74.0</td>\n",
       "      <td>1</td>\n",
       "      <td>1</td>\n",
       "      <td>2</td>\n",
       "    </tr>\n",
       "    <tr>\n",
       "      <th>56</th>\n",
       "      <td>21</td>\n",
       "      <td>10.2</td>\n",
       "      <td>0.0</td>\n",
       "      <td>0.5</td>\n",
       "      <td>84.0</td>\n",
       "      <td>1668.0</td>\n",
       "      <td>0.021000</td>\n",
       "      <td>24.000000</td>\n",
       "      <td>NaN</td>\n",
       "      <td>127.0</td>\n",
       "      <td>0</td>\n",
       "      <td>1</td>\n",
       "      <td>0</td>\n",
       "    </tr>\n",
       "    <tr>\n",
       "      <th>78</th>\n",
       "      <td>1</td>\n",
       "      <td>12.2</td>\n",
       "      <td>0.0</td>\n",
       "      <td>3.0</td>\n",
       "      <td>49.0</td>\n",
       "      <td>1071.0</td>\n",
       "      <td>0.039149</td>\n",
       "      <td>57.168736</td>\n",
       "      <td>NaN</td>\n",
       "      <td>36.0</td>\n",
       "      <td>0</td>\n",
       "      <td>2</td>\n",
       "      <td>1</td>\n",
       "    </tr>\n",
       "    <tr>\n",
       "      <th>130</th>\n",
       "      <td>1</td>\n",
       "      <td>9.4</td>\n",
       "      <td>0.0</td>\n",
       "      <td>2.5</td>\n",
       "      <td>65.0</td>\n",
       "      <td>1907.0</td>\n",
       "      <td>0.039149</td>\n",
       "      <td>57.168736</td>\n",
       "      <td>NaN</td>\n",
       "      <td>39.0</td>\n",
       "      <td>2</td>\n",
       "      <td>2</td>\n",
       "      <td>2</td>\n",
       "    </tr>\n",
       "    <tr>\n",
       "      <th>149</th>\n",
       "      <td>16</td>\n",
       "      <td>15.8</td>\n",
       "      <td>0.0</td>\n",
       "      <td>5.3</td>\n",
       "      <td>17.0</td>\n",
       "      <td>1923.0</td>\n",
       "      <td>0.047000</td>\n",
       "      <td>57.168736</td>\n",
       "      <td>NaN</td>\n",
       "      <td>102.0</td>\n",
       "      <td>0</td>\n",
       "      <td>3</td>\n",
       "      <td>3</td>\n",
       "    </tr>\n",
       "    <tr>\n",
       "      <th>...</th>\n",
       "      <td>...</td>\n",
       "      <td>...</td>\n",
       "      <td>...</td>\n",
       "      <td>...</td>\n",
       "      <td>...</td>\n",
       "      <td>...</td>\n",
       "      <td>...</td>\n",
       "      <td>...</td>\n",
       "      <td>...</td>\n",
       "      <td>...</td>\n",
       "      <td>...</td>\n",
       "      <td>...</td>\n",
       "      <td>...</td>\n",
       "    </tr>\n",
       "    <tr>\n",
       "      <th>2047</th>\n",
       "      <td>1</td>\n",
       "      <td>12.6</td>\n",
       "      <td>0.0</td>\n",
       "      <td>2.4</td>\n",
       "      <td>48.0</td>\n",
       "      <td>1805.0</td>\n",
       "      <td>0.039149</td>\n",
       "      <td>57.168736</td>\n",
       "      <td>NaN</td>\n",
       "      <td>43.0</td>\n",
       "      <td>0</td>\n",
       "      <td>2</td>\n",
       "      <td>1</td>\n",
       "    </tr>\n",
       "    <tr>\n",
       "      <th>2066</th>\n",
       "      <td>11</td>\n",
       "      <td>10.1</td>\n",
       "      <td>0.0</td>\n",
       "      <td>1.5</td>\n",
       "      <td>59.0</td>\n",
       "      <td>990.0</td>\n",
       "      <td>0.015000</td>\n",
       "      <td>39.000000</td>\n",
       "      <td>NaN</td>\n",
       "      <td>78.0</td>\n",
       "      <td>0</td>\n",
       "      <td>1</td>\n",
       "      <td>2</td>\n",
       "    </tr>\n",
       "    <tr>\n",
       "      <th>2086</th>\n",
       "      <td>1</td>\n",
       "      <td>11.5</td>\n",
       "      <td>0.0</td>\n",
       "      <td>3.2</td>\n",
       "      <td>23.0</td>\n",
       "      <td>2000.0</td>\n",
       "      <td>0.039149</td>\n",
       "      <td>57.168736</td>\n",
       "      <td>NaN</td>\n",
       "      <td>42.0</td>\n",
       "      <td>0</td>\n",
       "      <td>3</td>\n",
       "      <td>3</td>\n",
       "    </tr>\n",
       "    <tr>\n",
       "      <th>2096</th>\n",
       "      <td>20</td>\n",
       "      <td>14.0</td>\n",
       "      <td>0.0</td>\n",
       "      <td>2.9</td>\n",
       "      <td>35.0</td>\n",
       "      <td>910.0</td>\n",
       "      <td>0.061000</td>\n",
       "      <td>57.168736</td>\n",
       "      <td>NaN</td>\n",
       "      <td>117.0</td>\n",
       "      <td>0</td>\n",
       "      <td>2</td>\n",
       "      <td>1</td>\n",
       "    </tr>\n",
       "    <tr>\n",
       "      <th>2114</th>\n",
       "      <td>22</td>\n",
       "      <td>18.1</td>\n",
       "      <td>0.0</td>\n",
       "      <td>4.6</td>\n",
       "      <td>73.0</td>\n",
       "      <td>1796.0</td>\n",
       "      <td>0.039000</td>\n",
       "      <td>27.000000</td>\n",
       "      <td>NaN</td>\n",
       "      <td>143.0</td>\n",
       "      <td>1</td>\n",
       "      <td>3</td>\n",
       "      <td>2</td>\n",
       "    </tr>\n",
       "  </tbody>\n",
       "</table>\n",
       "<p>117 rows × 13 columns</p>\n",
       "</div>"
      ],
      "text/plain": [
       "      hour  temperature  precipitation  windspeed  humidity  visibility  \\\n",
       "id                                                                        \n",
       "28       1         20.0            0.0        1.8      58.0      2000.0   \n",
       "56      21         10.2            0.0        0.5      84.0      1668.0   \n",
       "78       1         12.2            0.0        3.0      49.0      1071.0   \n",
       "130      1          9.4            0.0        2.5      65.0      1907.0   \n",
       "149     16         15.8            0.0        5.3      17.0      1923.0   \n",
       "...    ...          ...            ...        ...       ...         ...   \n",
       "2047     1         12.6            0.0        2.4      48.0      1805.0   \n",
       "2066    11         10.1            0.0        1.5      59.0       990.0   \n",
       "2086     1         11.5            0.0        3.2      23.0      2000.0   \n",
       "2096    20         14.0            0.0        2.9      35.0       910.0   \n",
       "2114    22         18.1            0.0        4.6      73.0      1796.0   \n",
       "\n",
       "         ozone       pm10  pm2.5  count  temp_level wind_level  hum_level  \n",
       "id                                                                         \n",
       "28    0.039149  57.168736    NaN   74.0           1          1          2  \n",
       "56    0.021000  24.000000    NaN  127.0           0          1          0  \n",
       "78    0.039149  57.168736    NaN   36.0           0          2          1  \n",
       "130   0.039149  57.168736    NaN   39.0           2          2          2  \n",
       "149   0.047000  57.168736    NaN  102.0           0          3          3  \n",
       "...        ...        ...    ...    ...         ...        ...        ...  \n",
       "2047  0.039149  57.168736    NaN   43.0           0          2          1  \n",
       "2066  0.015000  39.000000    NaN   78.0           0          1          2  \n",
       "2086  0.039149  57.168736    NaN   42.0           0          3          3  \n",
       "2096  0.061000  57.168736    NaN  117.0           0          2          1  \n",
       "2114  0.039000  27.000000    NaN  143.0           1          3          2  \n",
       "\n",
       "[117 rows x 13 columns]"
      ]
     },
     "execution_count": 50,
     "metadata": {},
     "output_type": "execute_result"
    }
   ],
   "source": [
    "data[data['pm2.5'].isna()]"
   ]
  },
  {
   "cell_type": "code",
   "execution_count": 51,
   "metadata": {},
   "outputs": [
    {
     "data": {
      "text/plain": [
       "hour\n",
       "0     30.982759\n",
       "1           NaN\n",
       "2     31.366667\n",
       "3     31.466667\n",
       "4     32.116667\n",
       "5     31.525424\n",
       "6     31.603448\n",
       "7     31.779661\n",
       "8     31.796610\n",
       "9     31.616667\n",
       "10    30.948276\n",
       "11    30.827586\n",
       "12    29.280702\n",
       "13    29.946429\n",
       "14    29.844828\n",
       "15    28.741379\n",
       "16    27.910714\n",
       "17    28.553571\n",
       "18    29.127273\n",
       "19    28.338983\n",
       "20    28.850000\n",
       "21    29.694915\n",
       "22    30.216667\n",
       "23    30.593220\n",
       "Name: pm2.5, dtype: float64"
      ]
     },
     "execution_count": 51,
     "metadata": {},
     "output_type": "execute_result"
    }
   ],
   "source": [
    "data.groupby('hour').mean()['pm2.5']"
   ]
  },
  {
   "cell_type": "code",
   "execution_count": 52,
   "metadata": {},
   "outputs": [
    {
     "data": {
      "text/plain": [
       "count    1342.000000\n",
       "mean       30.327124\n",
       "std        14.713252\n",
       "min         8.000000\n",
       "25%        20.000000\n",
       "50%        26.000000\n",
       "75%        37.000000\n",
       "max        90.000000\n",
       "Name: pm2.5, dtype: float64"
      ]
     },
     "execution_count": 52,
     "metadata": {},
     "output_type": "execute_result"
    }
   ],
   "source": [
    "data['pm2.5'].describe()"
   ]
  },
  {
   "cell_type": "code",
   "execution_count": 53,
   "metadata": {},
   "outputs": [],
   "source": [
    "data.loc[(data['pm2.5'].isna()), 'pm2.5'] = data['pm2.5'].mean()"
   ]
  },
  {
   "cell_type": "markdown",
   "metadata": {},
   "source": [
    "### 11. 변수들 간 상관관계"
   ]
  },
  {
   "cell_type": "code",
   "execution_count": 54,
   "metadata": {
    "scrolled": false
   },
   "outputs": [
    {
     "data": {
      "image/png": "[encoded data removed]",
      "text/plain": [
       "<Figure size 720x720 with 2 Axes>"
      ]
     },
     "metadata": {
      "needs_background": "light"
     },
     "output_type": "display_data"
    }
   ],
   "source": [
    "plt.figure(figsize = (10, 10))\n",
    "\n",
    "sns.heatmap(data.corr(), annot = True)\n",
    "plt.show()"
   ]
  },
  {
   "cell_type": "code",
   "execution_count": 55,
   "metadata": {
    "scrolled": false
   },
   "outputs": [
    {
     "data": {
      "image/png": "[encoded data removed]",
      "text/plain": [
       "<Figure size 1152x864 with 12 Axes>"
      ]
     },
     "metadata": {
      "needs_background": "light"
     },
     "output_type": "display_data"
    }
   ],
   "source": [
    "features = ['hour', 'temperature', 'precipitation', 'windspeed', 'humidity',\n",
    "       'visibility', 'ozone', 'pm10', 'pm2.5', 'wind_level',\n",
    "       'temp_level', 'hum_level']\n",
    "\n",
    "fig, axs = plt.subplots(3, 4, figsize = (16, 12))\n",
    "\n",
    "for i, feature in enumerate(features):\n",
    "    row = int(i/4)\n",
    "    col = i % 4\n",
    "    sns.regplot(x = feature, y = 'count', data = data, ax = axs[row][col],\n",
    "               line_kws = {'color':'#bc0000'}, scatter_kws = {'alpha': 0.4,'color' : '#3333cc'})"
   ]
  },
  {
   "cell_type": "markdown",
   "metadata": {},
   "source": [
    "# [Model 만들기]"
   ]
  },
  {
   "cell_type": "code",
   "execution_count": 56,
   "metadata": {},
   "outputs": [
    {
     "data": {
      "text/plain": [
       "Index(['hour', 'temperature', 'precipitation', 'windspeed', 'humidity',\n",
       "       'visibility', 'ozone', 'pm10', 'pm2.5', 'count', 'temp_level',\n",
       "       'wind_level', 'hum_level'],\n",
       "      dtype='object')"
      ]
     },
     "execution_count": 56,
     "metadata": {},
     "output_type": "execute_result"
    }
   ],
   "source": [
    "data.columns"
   ]
  },
  {
   "cell_type": "code",
   "execution_count": 57,
   "metadata": {},
   "outputs": [],
   "source": [
    "features = ['hour', 'temperature', 'precipitation', 'windspeed', 'humidity',\n",
    "       'visibility', 'ozone', 'pm10','pm2.5', 'temp_level', 'wind_level', 'hum_level']"
   ]
  },
  {
   "cell_type": "code",
   "execution_count": 58,
   "metadata": {},
   "outputs": [],
   "source": [
    "label = 'count'"
   ]
  },
  {
   "cell_type": "code",
   "execution_count": 59,
   "metadata": {},
   "outputs": [],
   "source": [
    "X_train = data[features]\n",
    "y_train = data[label]"
   ]
  },
  {
   "cell_type": "code",
   "execution_count": 60,
   "metadata": {
    "scrolled": true
   },
   "outputs": [
    {
     "name": "stdout",
     "output_type": "stream",
     "text": [
      "(1459, 12)\n",
      "(1459,)\n"
     ]
    }
   ],
   "source": [
    "print(X_train.shape)\n",
    "print(y_train.shape)"
   ]
  },
  {
   "cell_type": "markdown",
   "metadata": {},
   "source": [
    "### 1. Random Forest Regressor "
   ]
  },
  {
   "cell_type": "code",
   "execution_count": 61,
   "metadata": {},
   "outputs": [],
   "source": [
    "from sklearn.ensemble import RandomForestRegressor"
   ]
  },
  {
   "cell_type": "code",
   "execution_count": 62,
   "metadata": {},
   "outputs": [],
   "source": [
    "model_RF = RandomForestRegressor(random_state = 1618)"
   ]
  },
  {
   "cell_type": "markdown",
   "metadata": {},
   "source": [
    "### 2. Gradient Boosting Regressor"
   ]
  },
  {
   "cell_type": "code",
   "execution_count": 63,
   "metadata": {},
   "outputs": [],
   "source": [
    "from sklearn.ensemble import GradientBoostingRegressor"
   ]
  },
  {
   "cell_type": "code",
   "execution_count": 64,
   "metadata": {},
   "outputs": [],
   "source": [
    "model_GBR = GradientBoostingRegressor(random_state = 1618)"
   ]
  },
  {
   "cell_type": "markdown",
   "metadata": {},
   "source": [
    "### 3. Light Gradient Boosting Machine Regressor : LGBM"
   ]
  },
  {
   "cell_type": "code",
   "execution_count": 65,
   "metadata": {},
   "outputs": [],
   "source": [
    "import lightgbm as lgb"
   ]
  },
  {
   "cell_type": "code",
   "execution_count": 66,
   "metadata": {},
   "outputs": [],
   "source": [
    "model_LGB = lgb.LGBMRegressor(seed = 1618)"
   ]
  },
  {
   "cell_type": "markdown",
   "metadata": {},
   "source": [
    "### 4. K-Nearest Neighbor : KNN"
   ]
  },
  {
   "cell_type": "code",
   "execution_count": 67,
   "metadata": {},
   "outputs": [],
   "source": [
    "from sklearn.neighbors import KNeighborsRegressor"
   ]
  },
  {
   "cell_type": "code",
   "execution_count": 68,
   "metadata": {},
   "outputs": [],
   "source": [
    "model_KNN = KNeighborsRegressor()"
   ]
  },
  {
   "cell_type": "markdown",
   "metadata": {},
   "source": [
    "# [Cross Validation, Fitting, and Prediction]"
   ]
  },
  {
   "cell_type": "markdown",
   "metadata": {},
   "source": [
    "### 1. Scikit Learn의 train_test_split 패키지 이용"
   ]
  },
  {
   "cell_type": "code",
   "execution_count": 69,
   "metadata": {},
   "outputs": [],
   "source": [
    "from sklearn.model_selection import train_test_split"
   ]
  },
  {
   "cell_type": "code",
   "execution_count": 70,
   "metadata": {},
   "outputs": [
    {
     "name": "stdout",
     "output_type": "stream",
     "text": [
      "(1094, 12) (365, 12) (1094,) (365,)\n"
     ]
    }
   ],
   "source": [
    "train_X, val_X, train_y, val_y = train_test_split(X_train, y_train,\n",
    "                                                 test_size = 0.25,\n",
    "                                                 random_state = 1618)\n",
    "\n",
    "print(train_X.shape, val_X.shape, train_y.shape, val_y.shape)"
   ]
  },
  {
   "cell_type": "code",
   "execution_count": 71,
   "metadata": {
    "scrolled": true
   },
   "outputs": [
    {
     "data": {
      "text/plain": [
       "RandomForestRegressor(random_state=1618)"
      ]
     },
     "execution_count": 71,
     "metadata": {},
     "output_type": "execute_result"
    }
   ],
   "source": [
    "model_RF.fit(train_X, train_y)"
   ]
  },
  {
   "cell_type": "code",
   "execution_count": 72,
   "metadata": {
    "scrolled": false
   },
   "outputs": [
    {
     "data": {
      "text/plain": [
       "array([ 80.33,  42.45, 105.39, 130.7 , 185.84])"
      ]
     },
     "execution_count": 72,
     "metadata": {},
     "output_type": "execute_result"
    }
   ],
   "source": [
    "pred_y_RF = model_RF.predict(val_X)\n",
    "pred_y_RF[:5]"
   ]
  },
  {
   "cell_type": "code",
   "execution_count": 73,
   "metadata": {},
   "outputs": [
    {
     "data": {
      "text/plain": [
       "GradientBoostingRegressor(random_state=1618)"
      ]
     },
     "execution_count": 73,
     "metadata": {},
     "output_type": "execute_result"
    }
   ],
   "source": [
    "model_GBR.fit(train_X, train_y)"
   ]
  },
  {
   "cell_type": "code",
   "execution_count": 74,
   "metadata": {
    "scrolled": false
   },
   "outputs": [
    {
     "data": {
      "text/plain": [
       "array([ 89.52230915,  41.80463699,  92.82531459, 140.38047941,\n",
       "       187.10819648])"
      ]
     },
     "execution_count": 74,
     "metadata": {},
     "output_type": "execute_result"
    }
   ],
   "source": [
    "pred_y_GBR = model_GBR.predict(val_X)\n",
    "pred_y_GBR[:5]"
   ]
  },
  {
   "cell_type": "code",
   "execution_count": 75,
   "metadata": {},
   "outputs": [
    {
     "data": {
      "text/plain": [
       "LGBMRegressor(seed=1618)"
      ]
     },
     "execution_count": 75,
     "metadata": {},
     "output_type": "execute_result"
    }
   ],
   "source": [
    "model_LGB.fit(train_X, train_y)"
   ]
  },
  {
   "cell_type": "code",
   "execution_count": 76,
   "metadata": {
    "scrolled": false
   },
   "outputs": [
    {
     "data": {
      "text/plain": [
       "array([ 68.00550109,  37.62887477,  82.50617264, 109.3400754 ,\n",
       "       239.42343557])"
      ]
     },
     "execution_count": 76,
     "metadata": {},
     "output_type": "execute_result"
    }
   ],
   "source": [
    "pred_y_LGB = model_LGB.predict(val_X)\n",
    "pred_y_LGB[:5]"
   ]
  },
  {
   "cell_type": "code",
   "execution_count": 77,
   "metadata": {},
   "outputs": [
    {
     "data": {
      "text/plain": [
       "KNeighborsRegressor()"
      ]
     },
     "execution_count": 77,
     "metadata": {},
     "output_type": "execute_result"
    }
   ],
   "source": [
    "model_KNN.fit(train_X, train_y)"
   ]
  },
  {
   "cell_type": "code",
   "execution_count": 78,
   "metadata": {
    "scrolled": false
   },
   "outputs": [
    {
     "data": {
      "text/plain": [
       "array([165.8, 115. ,  56.2, 158.8, 207.6])"
      ]
     },
     "execution_count": 78,
     "metadata": {},
     "output_type": "execute_result"
    }
   ],
   "source": [
    "pred_y_KNN = model_KNN.predict(val_X)\n",
    "pred_y_KNN[:5]"
   ]
  },
  {
   "cell_type": "markdown",
   "metadata": {},
   "source": [
    "# [모델 성능 평가]\n",
    "## 회귀모델 주요 평가지표 review\n",
    "1. MAE: Mean Absolute Error(평균절대값잔차). error에 절대값을 취하고 평균한 값\n",
    "2. MSE: Mean Squared Error(평균제곱잔차. error에 제곱을 하고 평균한 값\n",
    "3. RMSE: Root Mean Squared Error. MSE에서 제곱으로 인해 에러가 과하게 커지는 것을 방지하기 위해 제곱근을 취한 값\n",
    "4. RMSLE: Root Mean Sqaured Log Error. RMSE에 로그를 적용, 다음과 같은 특성(장점)을 가진다.\n",
    "    * outlier에 더욱 robust하고,\n",
    "    * 로그공식에 의해 예측값과 실제값의 상대적 error를 측정하며,\n",
    "    * Under estimation에 큰 패널티를 부여한다. 이 패널티를 현실 세계에 대입해 생각해보면, 자전거 대여량의 경우, 대여소의 자전거 수량이 예측 수요 대비 적은 것보다는 조금이라도 더 있는 것이 고객의 입장에서는 수요를 충족할 수 있으니 좋을 것이고 공급자 입장에서는 공급 shortage로 인해 수요를 놓칠 확률을 최대한 낮출 수 있다는 점으로 이해하면 된다.\n",
    "        \n",
    "        \n",
    "4. R-squared: 결정계수. 예측값들의 분산 / 실제값들의 분산. 1에 가까울수록 예측성이 높다. "
   ]
  },
  {
   "cell_type": "markdown",
   "metadata": {},
   "source": [
    "### 1. RMSE : Root Mean Squared Error \n",
    "* **MAE와의 비교**\n",
    "1. error를 제곱하고 다 더한 뒤 제곱근을 취함: 큰 오류값에 패널티를 크게 줌\n",
    "2. 평균을 낼 때 n으로 나누는 것이 아닌 루트n을 사용: 총 결과는 일반적인 평균인 MAE보다 커짐"
   ]
  },
  {
   "cell_type": "code",
   "execution_count": 79,
   "metadata": {},
   "outputs": [],
   "source": [
    "from sklearn.metrics import mean_squared_error"
   ]
  },
  {
   "cell_type": "code",
   "execution_count": 80,
   "metadata": {
    "scrolled": true
   },
   "outputs": [
    {
     "name": "stdout",
     "output_type": "stream",
     "text": [
      "RMSE of Random Forest Regressor = 37.53204 \n",
      "\n",
      "RMSE of Gradient Boosting Regressor = 38.22326 \n",
      "\n",
      "RMSE of LGBM = 37.78077 \n",
      "\n",
      "RMSE of KNN = 65.29046\n"
     ]
    }
   ],
   "source": [
    "rmse_RF = np.sqrt(mean_squared_error(val_y, pred_y_RF))\n",
    "\n",
    "rmse_GBR = np.sqrt(mean_squared_error(val_y, pred_y_GBR))\n",
    "\n",
    "rmse_LGB = np.sqrt(mean_squared_error(val_y, pred_y_LGB))\n",
    "\n",
    "rmse_KNN = np.sqrt(mean_squared_error(val_y, pred_y_KNN))\n",
    "\n",
    "print(\"RMSE of Random Forest Regressor = {0:.5f}\".format(rmse_RF), \"\\n\")\n",
    "print(\"RMSE of Gradient Boosting Regressor = {0:.5f}\".format(rmse_GBR), '\\n')\n",
    "print(\"RMSE of LGBM = {0:.5f}\".format(rmse_LGB), '\\n')\n",
    "print(\"RMSE of KNN = {0:.5f}\".format(rmse_KNN))"
   ]
  },
  {
   "cell_type": "markdown",
   "metadata": {},
   "source": [
    "### 2. RMSLE: Root Mean Sqaured Log Error\n",
    "* **RMSLE를 적용하기 위해서는 negative value가 없어야 한다.**\n",
    "    * 수식에 log가 있는데, -log는 정의되지 않기 때문이다.\n",
    "    * 회귀분석에서는 모델이 어떤 변수의 음의 상관관계에 반응하는 가에 따라 결과값을 negative로 예측할 수도 있다.\n",
    "    * 본 모델 중 최소값이 negative인 모델은 GBR, LGB 이다."
   ]
  },
  {
   "cell_type": "code",
   "execution_count": 81,
   "metadata": {
    "scrolled": true
   },
   "outputs": [
    {
     "name": "stdout",
     "output_type": "stream",
     "text": [
      "7.69 -3.243999145000302 -3.8755832808709374 9.8\n"
     ]
    }
   ],
   "source": [
    "print(pred_y_RF.min(), pred_y_GBR.min(), pred_y_LGB.min(), pred_y_KNN.min())"
   ]
  },
  {
   "cell_type": "markdown",
   "metadata": {},
   "source": [
    "* **이 경우, 자전거 대여량은 negative value가 될 수 없으므로 해당 value는 다 0으로 처리해야 한다.**"
   ]
  },
  {
   "cell_type": "code",
   "execution_count": 82,
   "metadata": {},
   "outputs": [],
   "source": [
    "pred_y_GBR[pred_y_GBR < 0] = 0\n",
    "pred_y_LGB[pred_y_LGB < 0] = 0"
   ]
  },
  {
   "cell_type": "code",
   "execution_count": 83,
   "metadata": {},
   "outputs": [],
   "source": [
    "from sklearn.metrics import mean_squared_log_error"
   ]
  },
  {
   "cell_type": "code",
   "execution_count": 84,
   "metadata": {},
   "outputs": [
    {
     "name": "stdout",
     "output_type": "stream",
     "text": [
      "RMSLE of Random Forest Regressor = 0.48543 \n",
      "\n",
      "RMSLE of Gradient Boosting Regressor = 0.54242 \n",
      "\n",
      "RMSLE of LGBM = 0.54244 \n",
      "\n",
      "RMSLE of KNN = 0.83607\n"
     ]
    }
   ],
   "source": [
    "rmsle_RF = np.sqrt(mean_squared_log_error(val_y, pred_y_RF))\n",
    "\n",
    "rmsle_GBR = np.sqrt(mean_squared_log_error(val_y, pred_y_GBR))\n",
    "\n",
    "rmsle_LGB = np.sqrt(mean_squared_log_error(val_y, pred_y_LGB))\n",
    "\n",
    "rmsle_KNN = np.sqrt(mean_squared_log_error(val_y, pred_y_KNN))\n",
    "\n",
    "print(\"RMSLE of Random Forest Regressor = {0:.5f}\".format(rmsle_RF), \"\\n\")\n",
    "print(\"RMSLE of Gradient Boosting Regressor = {0:.5f}\".format(rmsle_GBR), '\\n')\n",
    "print(\"RMSLE of LGBM = {0:.5f}\".format(rmsle_LGB), '\\n')\n",
    "print(\"RMSLE of KNN = {0:.5f}\".format(rmsle_KNN))"
   ]
  },
  {
   "cell_type": "markdown",
   "metadata": {},
   "source": [
    "### 3.  R-squared\n",
    "* **분산 기반으로 예측 성능을 평가한다. 실제 값의 분산 대비 예측값의 분산 비율을 지표로 하며, 1에 가까울 수록 예측 정확도가 높다.**\n",
    "\n",
    "    * R-squared = 예측값 Variance / 실제값 Variance"
   ]
  },
  {
   "cell_type": "code",
   "execution_count": 85,
   "metadata": {},
   "outputs": [],
   "source": [
    "from sklearn.metrics import r2_score"
   ]
  },
  {
   "cell_type": "code",
   "execution_count": 86,
   "metadata": {
    "scrolled": true
   },
   "outputs": [
    {
     "name": "stdout",
     "output_type": "stream",
     "text": [
      "R2 of RF = 0.77664 \n",
      "\n",
      "R2 of GBR = 0.76840 \n",
      "\n",
      "R2 of LGBM = 0.77376 \n",
      "\n",
      "R2 of KNN = 0.32406\n"
     ]
    }
   ],
   "source": [
    "R2_RF = r2_score(val_y, pred_y_RF)\n",
    "R2_GBR = r2_score(val_y, pred_y_GBR)\n",
    "R2_LGBM = r2_score(val_y, pred_y_LGB)\n",
    "R2_KNN = r2_score(val_y, pred_y_KNN)\n",
    "\n",
    "print(\"R2 of RF = {0:.5f}\".format(R2_RF), '\\n')\n",
    "print(\"R2 of GBR = {0:.5f}\".format(R2_GBR), '\\n')\n",
    "print(\"R2 of LGBM = {0:.5f}\".format(R2_LGBM), '\\n')\n",
    "print(\"R2 of KNN = {0:.5f}\".format(R2_KNN))"
   ]
  },
  {
   "cell_type": "markdown",
   "metadata": {},
   "source": [
    "### 4. 산점도를 통한 예측값과 실제값 시각화 비교"
   ]
  },
  {
   "cell_type": "markdown",
   "metadata": {},
   "source": [
    "#### 먼저, 성능이 가장 우수한 Light Gradient Boosting Model을 살펴보면 다음과 같다. "
   ]
  },
  {
   "cell_type": "code",
   "execution_count": 87,
   "metadata": {
    "scrolled": false
   },
   "outputs": [
    {
     "data": {
      "image/png": "[encoded data removed]",
      "text/plain": [
       "<Figure size 360x360 with 1 Axes>"
      ]
     },
     "metadata": {
      "needs_background": "light"
     },
     "output_type": "display_data"
    }
   ],
   "source": [
    "fig, axes = plt.subplots(1,1,figsize=(5,5))\n",
    "sns.regplot(val_y, pred_y_LGB, line_kws = {'color':'#bc0000'}, scatter_kws = {'alpha': 0.5,'color' : '#3333cc'})\n",
    "\n",
    "plt.xlabel('Actual Rent')\n",
    "plt.ylabel('Predicted Rent')\n",
    "plt.title('Result of LGB')\n",
    "\n",
    "plt.show()"
   ]
  },
  {
   "cell_type": "markdown",
   "metadata": {},
   "source": [
    "#### 가장 열등한 KNN을 살펴보면 다음과 같다."
   ]
  },
  {
   "cell_type": "code",
   "execution_count": 88,
   "metadata": {
    "scrolled": false
   },
   "outputs": [
    {
     "data": {
      "image/png": "[encoded data removed]",
      "text/plain": [
       "<Figure size 360x360 with 1 Axes>"
      ]
     },
     "metadata": {
      "needs_background": "light"
     },
     "output_type": "display_data"
    }
   ],
   "source": [
    "fig, axes = plt.subplots(1,1,figsize=(5,5))\n",
    "sns.regplot(val_y, pred_y_KNN, line_kws = {'color':'#bc0000'}, scatter_kws = {'alpha': 0.5,'color' : '#3333cc'})\n",
    "\n",
    "plt.xlabel('Actual Rent')\n",
    "plt.ylabel('Predicted Rent')\n",
    "plt.title('Result of KNN')\n",
    "\n",
    "plt.show()"
   ]
  },
  {
   "cell_type": "markdown",
   "metadata": {},
   "source": [
    "# [모델별  개선 진행]"
   ]
  },
  {
   "cell_type": "markdown",
   "metadata": {},
   "source": [
    "## 1. Grid search를 통한 Hyperparameter tuning "
   ]
  },
  {
   "cell_type": "code",
   "execution_count": 103,
   "metadata": {},
   "outputs": [],
   "source": [
    "from sklearn.model_selection import GridSearchCV"
   ]
  },
  {
   "cell_type": "markdown",
   "metadata": {},
   "source": [
    "### 1) RandomForest의 최적 Hyper parameter 탐색"
   ]
  },
  {
   "cell_type": "code",
   "execution_count": null,
   "metadata": {},
   "outputs": [],
   "source": [
    "RF_param_grid = {'n_estimators':[200, 300, 400, 500],\n",
    "                'max_depth' : [4, 6, 8, 10, 12, 15],\n",
    "                 'min_samples_split' : [1, 2, 3, 4]\n",
    "                }"
   ]
  },
  {
   "cell_type": "code",
   "execution_count": null,
   "metadata": {},
   "outputs": [],
   "source": [
    "RF_grid = GridSearchCV(model_RF, param_grid = RF_param_grid, scoring = 'r2',\n",
    "                      n_jobs = -1, verbose = 1)\n",
    "\n",
    "RF_grid.fit(X_train, y_train)"
   ]
  },
  {
   "cell_type": "code",
   "execution_count": null,
   "metadata": {},
   "outputs": [],
   "source": [
    "print(RF_grid.best_score_,'\\n',RF_grid.best_params_)"
   ]
  },
  {
   "cell_type": "markdown",
   "metadata": {},
   "source": [
    "**기존 점수인 0.75347에서 0.77827로 개선되었음을 확인**"
   ]
  },
  {
   "cell_type": "markdown",
   "metadata": {},
   "source": [
    "### 2) Gradient Boosting의 최적 Hyper parameter 탐색"
   ]
  },
  {
   "cell_type": "code",
   "execution_count": null,
   "metadata": {},
   "outputs": [],
   "source": [
    "GBR_param_grid = {'n_estimators':[200, 300, 400, 500],\n",
    "                'max_depth' : [4, 6, 8, 10, 12, 15],\n",
    "                'learning_rate' : [0.01, 0.05, 0.1],\n",
    "                'min_samples_split' : [1, 2, 3, 4]\n",
    "                }"
   ]
  },
  {
   "cell_type": "code",
   "execution_count": null,
   "metadata": {},
   "outputs": [],
   "source": [
    "GBR_grid = GridSearchCV(model_GBR, param_grid = GBR_param_grid, scoring = 'r2',\n",
    "                      n_jobs = -1, verbose = 1)\n",
    "\n",
    "GBR_grid.fit(X_train, y_train)"
   ]
  },
  {
   "cell_type": "code",
   "execution_count": null,
   "metadata": {},
   "outputs": [],
   "source": [
    "print(GBR_grid.best_score_,'\\n',GBR_grid.best_params_)"
   ]
  },
  {
   "cell_type": "markdown",
   "metadata": {},
   "source": [
    "**기존 점수인 0.75951에서 0.78078로 개선되었음을 확인**"
   ]
  },
  {
   "cell_type": "markdown",
   "metadata": {},
   "source": [
    "### 3) LGBM의 최적 Hyper parameter 탐색"
   ]
  },
  {
   "cell_type": "code",
   "execution_count": null,
   "metadata": {},
   "outputs": [],
   "source": [
    "LGB_param_grid = {'n_estimators':[100, 200, 300, 400, 500],\n",
    "                'max_depth' : [10, 12, 15, 20, 30],\n",
    "                'min_child_samples':[5, 10, 15, 20, 40, 60],\n",
    "                'sub_sample' : [0.2, 0.5, 0.8, 1],\n",
    "                'learning_rate' : [0.001, 0.01, 0.05, 0.1]\n",
    "                }\n"
   ]
  },
  {
   "cell_type": "code",
   "execution_count": null,
   "metadata": {
    "scrolled": false
   },
   "outputs": [],
   "source": [
    "LGB_grid = GridSearchCV(model_LGB, param_grid = LGB_param_grid, scoring = 'r2',\n",
    "                      n_jobs = -1, verbose = 1)\n",
    "\n",
    "LGB_grid.fit(train_X, train_y)"
   ]
  },
  {
   "cell_type": "code",
   "execution_count": null,
   "metadata": {
    "scrolled": true
   },
   "outputs": [],
   "source": [
    "print(LGB_grid.best_score_,'\\n',LGB_grid.best_params_)"
   ]
  },
  {
   "cell_type": "markdown",
   "metadata": {},
   "source": [
    "**기존 점수인 0.76975에서 0.79651로 크게 개선되었음을 확인**"
   ]
  },
  {
   "cell_type": "markdown",
   "metadata": {},
   "source": [
    "## 2. KNN의 전처리 추가 및 최적 k 탐색"
   ]
  },
  {
   "cell_type": "markdown",
   "metadata": {},
   "source": [
    "### 1)  정규화(Normalization)\n",
    "* **KNN은 거리를 기준으로 학습하기 때문에, 개별 변수들의 편차가 각양각색이면 모든 특성들을 고르게 반영하지 못한다.**\n",
    "* **이 경우 아래의 두 방법으로 feature들의 값들을 정규화할 수 있다.**\n",
    "\n",
    "    1) min-max scale: 최소값을 0, 최대값을 1로 고정하여 모든 값들을 0과 1사이로 변환\n",
    "    \n",
    "    2) 평균과 표준편차를 활용하여 평균으로부터 얼마나 떨어져 있는지를 z-score로 변환\n",
    "    * 실무에서는 대개 2)의 방법을 사용"
   ]
  },
  {
   "cell_type": "code",
   "execution_count": 95,
   "metadata": {},
   "outputs": [],
   "source": [
    "from sklearn.preprocessing import StandardScaler\n",
    "scaler = StandardScaler()"
   ]
  },
  {
   "cell_type": "markdown",
   "metadata": {},
   "source": [
    "* **아래와 같이 정규화를 위한 평균과 표준편차를 계산하는 fitting을 수행한다.**"
   ]
  },
  {
   "cell_type": "code",
   "execution_count": 96,
   "metadata": {},
   "outputs": [
    {
     "data": {
      "text/plain": [
       "StandardScaler()"
      ]
     },
     "execution_count": 96,
     "metadata": {},
     "output_type": "execute_result"
    }
   ],
   "source": [
    "scaler.fit(train_X)"
   ]
  },
  {
   "cell_type": "markdown",
   "metadata": {},
   "source": [
    "* **아래와 같이 사용할 feature들의 특성을 전부 정규화한다.**\n",
    "    * 여기서는 교차검증에서 분리했던 train_X, val_X를 이용한다."
   ]
  },
  {
   "cell_type": "code",
   "execution_count": 97,
   "metadata": {},
   "outputs": [],
   "source": [
    "train_X_scale = scaler.transform(train_X)\n",
    "val_X_scale = scaler.transform(val_X)"
   ]
  },
  {
   "cell_type": "markdown",
   "metadata": {},
   "source": [
    "### 2) 최적의 K 탐색"
   ]
  },
  {
   "cell_type": "code",
   "execution_count": 98,
   "metadata": {},
   "outputs": [],
   "source": [
    "from sklearn.model_selection import cross_val_score"
   ]
  },
  {
   "cell_type": "code",
   "execution_count": 99,
   "metadata": {},
   "outputs": [],
   "source": [
    "k_range = range(1, 100)\n",
    "k_score = []\n",
    "\n",
    "for k in k_range:\n",
    "    model_tuning_knn = KNeighborsRegressor(k)\n",
    "    scores = cross_val_score(model_tuning_knn, train_X_scale, train_y, cv = 10, scoring = 'r2')\n",
    "    k_score.append(scores.mean())"
   ]
  },
  {
   "cell_type": "code",
   "execution_count": 100,
   "metadata": {},
   "outputs": [
    {
     "data": {
      "image/png": "[encoded data removed]",
      "text/plain": [
       "<Figure size 432x288 with 1 Axes>"
      ]
     },
     "metadata": {
      "needs_background": "light"
     },
     "output_type": "display_data"
    }
   ],
   "source": [
    "fig, ax = plt.subplots(1, 1, figsize = (6,4))\n",
    "plt.plot(k_range, k_score)\n",
    "plt.xlabel('k')\n",
    "plt.ylabel('R2')\n",
    "plt.title('R2 score as k changes')\n",
    "plt.xticks(np.arange(0, 101, step = 5))\n",
    "\n",
    "plt.show()"
   ]
  },
  {
   "cell_type": "markdown",
   "metadata": {},
   "source": [
    "* **정규화를 통해 R2스코어가 기존의 0.36576 대비 두 배 가까이 증가한 것을 알 수 있다.**\n",
    "* **최적의 k를 정확히 탐색하기 위해 아래와 같이 Grid Search를 수행한다.**"
   ]
  },
  {
   "cell_type": "code",
   "execution_count": 101,
   "metadata": {},
   "outputs": [],
   "source": [
    "KNN_param_grid = {'n_neighbors':[2, 3, 4, 5, 6, 7],\n",
    "                'weights' : ['uniform', 'distance'],\n",
    "                  'p' : [1, 2],\n",
    "                  'metric' : ['minkowski', 'euclidean', 'mahalanobis']                  \n",
    "                }"
   ]
  },
  {
   "cell_type": "code",
   "execution_count": 104,
   "metadata": {
    "scrolled": true
   },
   "outputs": [
    {
     "name": "stdout",
     "output_type": "stream",
     "text": [
      "Fitting 5 folds for each of 72 candidates, totalling 360 fits\n"
     ]
    },
    {
     "name": "stderr",
     "output_type": "stream",
     "text": [
      "[Parallel(n_jobs=-1)]: Using backend LokyBackend with 8 concurrent workers.\n",
      "[Parallel(n_jobs=-1)]: Done  34 tasks      | elapsed:    2.7s\n",
      "[Parallel(n_jobs=-1)]: Done 360 out of 360 | elapsed:    3.1s finished\n"
     ]
    },
    {
     "data": {
      "text/plain": [
       "GridSearchCV(estimator=KNeighborsRegressor(), n_jobs=-1,\n",
       "             param_grid={'metric': ['minkowski', 'euclidean', 'mahalanobis'],\n",
       "                         'n_neighbors': [2, 3, 4, 5, 6, 7], 'p': [1, 2],\n",
       "                         'weights': ['uniform', 'distance']},\n",
       "             scoring='r2', verbose=1)"
      ]
     },
     "execution_count": 104,
     "metadata": {},
     "output_type": "execute_result"
    }
   ],
   "source": [
    "KNN_grid = GridSearchCV(model_KNN, param_grid = KNN_param_grid, scoring = 'r2',\n",
    "                      n_jobs = -1, verbose = 1)\n",
    "\n",
    "KNN_grid.fit(train_X_scale, train_y)"
   ]
  },
  {
   "cell_type": "code",
   "execution_count": 105,
   "metadata": {
    "scrolled": true
   },
   "outputs": [
    {
     "name": "stdout",
     "output_type": "stream",
     "text": [
      "0.6670183302942457 \n",
      " {'metric': 'minkowski', 'n_neighbors': 4, 'p': 1, 'weights': 'distance'}\n"
     ]
    }
   ],
   "source": [
    "print(KNN_grid.best_score_,'\\n',KNN_grid.best_params_)"
   ]
  },
  {
   "cell_type": "markdown",
   "metadata": {},
   "source": [
    "**기존 점수인 0.36576에서 0.66670으로 굉장히 크게 개선되었음을 확인**"
   ]
  },
  {
   "cell_type": "markdown",
   "metadata": {},
   "source": [
    "# [개선사항을 반영하여 재 모델링]"
   ]
  },
  {
   "cell_type": "code",
   "execution_count": 106,
   "metadata": {},
   "outputs": [],
   "source": [
    "model_RF_new = RandomForestRegressor(n_estimators=500, max_depth = 15, min_samples_split = 3, random_state = 1618)\n",
    "\n",
    "# loss = huber --> to make our model robust to outliers.\n",
    "model_GBR_new = GradientBoostingRegressor(n_estimators = 200, learning_rate = 0.1, max_depth = 6, \n",
    "                                      loss = 'huber', min_samples_split = 4, random_state = 1618)\n",
    "\n",
    "model_LGB_new = lgb.LGBMRegressor(objective = 'regression', n_estimators = 300, learning_rate = 0.05,\n",
    "                             max_depth = 20, min_child_samples = 5, num_leaves = 20, subsample = 0.2, seed = 1618)\n",
    "\n",
    "model_KNN_new = KNeighborsRegressor(n_neighbors= 4, p = 1, weights = 'distance', metric = 'minkowski')"
   ]
  },
  {
   "cell_type": "markdown",
   "metadata": {},
   "source": [
    "# [Cross Validation, Fitting, and Prediction]"
   ]
  },
  {
   "cell_type": "code",
   "execution_count": 107,
   "metadata": {
    "scrolled": true
   },
   "outputs": [
    {
     "data": {
      "text/plain": [
       "array([ 79.71444362,  42.24071082, 106.33405238, 129.00597991,\n",
       "       197.336779  ])"
      ]
     },
     "execution_count": 107,
     "metadata": {},
     "output_type": "execute_result"
    }
   ],
   "source": [
    "model_RF_new.fit(train_X, train_y)\n",
    "\n",
    "pred_y_RF_new = model_RF_new.predict(val_X)\n",
    "pred_y_RF_new[:5]"
   ]
  },
  {
   "cell_type": "code",
   "execution_count": 108,
   "metadata": {},
   "outputs": [
    {
     "data": {
      "text/plain": [
       "array([ 81.08476102,  43.40322766, 112.30712947, 128.44238195,\n",
       "       217.68263839])"
      ]
     },
     "execution_count": 108,
     "metadata": {},
     "output_type": "execute_result"
    }
   ],
   "source": [
    "model_GBR_new.fit(train_X, train_y)\n",
    "\n",
    "pred_y_GBR_new = model_GBR_new.predict(val_X)\n",
    "pred_y_GBR_new[:5]"
   ]
  },
  {
   "cell_type": "code",
   "execution_count": 109,
   "metadata": {},
   "outputs": [
    {
     "data": {
      "text/plain": [
       "array([ 77.42218592,  41.69874484,  90.75196445, 150.52047443,\n",
       "       236.18546512])"
      ]
     },
     "execution_count": 109,
     "metadata": {},
     "output_type": "execute_result"
    }
   ],
   "source": [
    "# lgbm의 빠른 속도를 위해 early_stopping_rounds 추가\n",
    "evals = [(val_X, val_y)]\n",
    "\n",
    "model_LGB_new.fit(train_X, train_y, early_stopping_rounds = 100, eval_set = evals, verbose = False)\n",
    "\n",
    "pred_y_LGB_new = model_LGB_new.predict(val_X)\n",
    "pred_y_LGB_new[:5]"
   ]
  },
  {
   "cell_type": "code",
   "execution_count": 110,
   "metadata": {},
   "outputs": [
    {
     "data": {
      "text/plain": [
       "array([ 75.39977999,  38.12417185, 108.10273296, 113.78897603,\n",
       "       270.61431676])"
      ]
     },
     "execution_count": 110,
     "metadata": {},
     "output_type": "execute_result"
    }
   ],
   "source": [
    "# KNN은 정규화한 feature를 이용하여 fitting\n",
    "\n",
    "model_KNN_new.fit(train_X_scale, train_y)\n",
    "\n",
    "pred_y_KNN_new = model_KNN_new.predict(val_X_scale)\n",
    "pred_y_KNN_new[:5]"
   ]
  },
  {
   "cell_type": "markdown",
   "metadata": {},
   "source": [
    "# [개선된 모델의 성능 평가] "
   ]
  },
  {
   "cell_type": "markdown",
   "metadata": {},
   "source": [
    "### 1. RMSE : Root Mean Squared Error "
   ]
  },
  {
   "cell_type": "code",
   "execution_count": 111,
   "metadata": {},
   "outputs": [],
   "source": [
    "from sklearn.metrics import mean_squared_error"
   ]
  },
  {
   "cell_type": "code",
   "execution_count": 112,
   "metadata": {
    "scrolled": true
   },
   "outputs": [
    {
     "name": "stdout",
     "output_type": "stream",
     "text": [
      "New RMSE of Random Forest Regressor = 37.13948 \n",
      "\n",
      "New RMSE of Gradient Boosting Regressor = 37.15331 \n",
      "\n",
      "New RMSE of LGBM = 36.72878 \n",
      "\n",
      "New RMSE of KNN = 45.54629\n"
     ]
    }
   ],
   "source": [
    "rmse_RF_new = np.sqrt(mean_squared_error(val_y, pred_y_RF_new))\n",
    "\n",
    "rmse_GBR_new = np.sqrt(mean_squared_error(val_y, pred_y_GBR_new))\n",
    "\n",
    "rmse_LGB_new = np.sqrt(mean_squared_error(val_y, pred_y_LGB_new))\n",
    "\n",
    "rmse_KNN_new = np.sqrt(mean_squared_error(val_y, pred_y_KNN_new))\n",
    "\n",
    "print(\"New RMSE of Random Forest Regressor = {0:.5f}\".format(rmse_RF_new), \"\\n\")\n",
    "print(\"New RMSE of Gradient Boosting Regressor = {0:.5f}\".format(rmse_GBR_new), '\\n')\n",
    "print(\"New RMSE of LGBM = {0:.5f}\".format(rmse_LGB_new), '\\n')\n",
    "print(\"New RMSE of KNN = {0:.5f}\".format(rmse_KNN_new))"
   ]
  },
  {
   "cell_type": "markdown",
   "metadata": {},
   "source": [
    "### 2. RMSLE: Root Mean Sqaured Log Error"
   ]
  },
  {
   "cell_type": "code",
   "execution_count": 113,
   "metadata": {
    "scrolled": true
   },
   "outputs": [
    {
     "name": "stdout",
     "output_type": "stream",
     "text": [
      "7.819689538239536 -2.049080649477523 -3.1805955895410714 10.940467553664242\n"
     ]
    }
   ],
   "source": [
    "print(pred_y_RF_new.min(), pred_y_GBR_new.min(), pred_y_LGB_new.min(), pred_y_KNN_new.min())"
   ]
  },
  {
   "cell_type": "markdown",
   "metadata": {},
   "source": [
    "* **자전거 대여량은 negative value가 될 수 없으므로 해당 value는 다 0으로 처리해야 한다.**"
   ]
  },
  {
   "cell_type": "code",
   "execution_count": 114,
   "metadata": {},
   "outputs": [],
   "source": [
    "pred_y_GBR_new[pred_y_GBR_new < 0] = 0\n",
    "pred_y_LGB_new[pred_y_LGB_new < 0] = 0"
   ]
  },
  {
   "cell_type": "code",
   "execution_count": 115,
   "metadata": {},
   "outputs": [],
   "source": [
    "from sklearn.metrics import mean_squared_log_error"
   ]
  },
  {
   "cell_type": "code",
   "execution_count": 116,
   "metadata": {},
   "outputs": [
    {
     "name": "stdout",
     "output_type": "stream",
     "text": [
      "New RMSLE of Random Forest Regressor = 0.48965 \n",
      "\n",
      "New RMSLE of Gradient Boosting Regressor = 0.50719 \n",
      "\n",
      "New RMSLE of LGBM = 0.49812 \n",
      "\n",
      "New RMSLE of KNN = 0.61337\n"
     ]
    }
   ],
   "source": [
    "rmsle_RF_new = np.sqrt(mean_squared_log_error(val_y, pred_y_RF_new))\n",
    "\n",
    "rmsle_GBR_new = np.sqrt(mean_squared_log_error(val_y, pred_y_GBR_new))\n",
    "\n",
    "rmsle_LGB_new = np.sqrt(mean_squared_log_error(val_y, pred_y_LGB_new))\n",
    "\n",
    "rmsle_KNN_new = np.sqrt(mean_squared_log_error(val_y, pred_y_KNN_new))\n",
    "\n",
    "print(\"New RMSLE of Random Forest Regressor = {0:.5f}\".format(rmsle_RF_new), \"\\n\")\n",
    "print(\"New RMSLE of Gradient Boosting Regressor = {0:.5f}\".format(rmsle_GBR_new), '\\n')\n",
    "print(\"New RMSLE of LGBM = {0:.5f}\".format(rmsle_LGB_new), '\\n')\n",
    "print(\"New RMSLE of KNN = {0:.5f}\".format(rmsle_KNN_new))"
   ]
  },
  {
   "cell_type": "markdown",
   "metadata": {},
   "source": [
    "### 3.  R-squared"
   ]
  },
  {
   "cell_type": "code",
   "execution_count": 117,
   "metadata": {},
   "outputs": [],
   "source": [
    "from sklearn.metrics import r2_score"
   ]
  },
  {
   "cell_type": "code",
   "execution_count": 118,
   "metadata": {
    "scrolled": false
   },
   "outputs": [
    {
     "name": "stdout",
     "output_type": "stream",
     "text": [
      "New R2 of RF = 0.78128 \n",
      "\n",
      "New R2 of GBR = 0.78114 \n",
      "\n",
      "New R2 of LGBM = 0.78613 \n",
      "\n",
      "New R2 of KNN = 0.67106\n"
     ]
    }
   ],
   "source": [
    "R2_RF_new = r2_score(val_y, pred_y_RF_new)\n",
    "R2_GBR_new = r2_score(val_y, pred_y_GBR_new)\n",
    "R2_LGBM_new = r2_score(val_y, pred_y_LGB_new)\n",
    "R2_KNN_new = r2_score(val_y, pred_y_KNN_new)\n",
    "\n",
    "print(\"New R2 of RF = {0:.5f}\".format(R2_RF_new), '\\n')\n",
    "print(\"New R2 of GBR = {0:.5f}\".format(R2_GBR_new), '\\n')\n",
    "print(\"New R2 of LGBM = {0:.5f}\".format(R2_LGBM_new), '\\n')\n",
    "print(\"New R2 of KNN = {0:.5f}\".format(R2_KNN_new))"
   ]
  },
  {
   "cell_type": "markdown",
   "metadata": {},
   "source": [
    "### 4. 산점도를 통한 예측값과 실제값 시각화 비교"
   ]
  },
  {
   "cell_type": "markdown",
   "metadata": {},
   "source": [
    "#### 먼저, 성능이 가장 우수한 Light Gradient Boosting Model을 살펴보면 다음과 같다. "
   ]
  },
  {
   "cell_type": "code",
   "execution_count": 119,
   "metadata": {
    "scrolled": false
   },
   "outputs": [
    {
     "data": {
      "image/png": "[encoded data removed]",
      "text/plain": [
       "<Figure size 360x360 with 1 Axes>"
      ]
     },
     "metadata": {
      "needs_background": "light"
     },
     "output_type": "display_data"
    }
   ],
   "source": [
    "fig, axes = plt.subplots(1,1,figsize=(5,5))\n",
    "sns.regplot(val_y, pred_y_LGB_new, line_kws = {'color':'#bc0000'}, scatter_kws = {'alpha': 0.5,'color' : '#3333cc'})\n",
    "\n",
    "plt.xlabel('Actual Rent')\n",
    "plt.ylabel('Predicted Rent')\n",
    "plt.title('Result of LGB')\n",
    "\n",
    "plt.show()"
   ]
  },
  {
   "cell_type": "markdown",
   "metadata": {},
   "source": [
    "* **KNN의 예측값의 흩어짐 정도가 기존보다 대폭 개선된 점을 확인할 수 있다.**"
   ]
  },
  {
   "cell_type": "code",
   "execution_count": 120,
   "metadata": {
    "scrolled": false
   },
   "outputs": [
    {
     "data": {
      "image/png": "[encoded data removed]",
      "text/plain": [
       "<Figure size 360x360 with 1 Axes>"
      ]
     },
     "metadata": {
      "needs_background": "light"
     },
     "output_type": "display_data"
    }
   ],
   "source": [
    "fig, axes = plt.subplots(1,1,figsize=(5,5))\n",
    "sns.regplot(val_y, pred_y_KNN_new, line_kws = {'color':'#bc0000'}, scatter_kws = {'alpha': 0.5,'color' : '#3333cc'})\n",
    "\n",
    "plt.xlabel('Actual Rent')\n",
    "plt.ylabel('Predicted Rent')\n",
    "plt.title('Result of KNN')\n",
    "\n",
    "plt.show()"
   ]
  },
  {
   "cell_type": "markdown",
   "metadata": {},
   "source": [
    "# [모델별  feature importance 확인]"
   ]
  },
  {
   "cell_type": "markdown",
   "metadata": {},
   "source": [
    "### 1. LGBM regressor"
   ]
  },
  {
   "cell_type": "code",
   "execution_count": 121,
   "metadata": {
    "scrolled": false
   },
   "outputs": [],
   "source": [
    "feature_importance_LGB = model_LGB_new.feature_importances_\n",
    "Series_feat_imp_LGB = pd.Series(feature_importance_LGB, index = X_train.columns)\n",
    "Series_feat_imp_LGB = Series_feat_imp_LGB.sort_values(ascending = True)"
   ]
  },
  {
   "cell_type": "code",
   "execution_count": 122,
   "metadata": {},
   "outputs": [
    {
     "data": {
      "text/plain": [
       "array([873, 894,  69, 559, 563, 575, 611, 662, 489,  30,   2,  50])"
      ]
     },
     "execution_count": 122,
     "metadata": {},
     "output_type": "execute_result"
    }
   ],
   "source": [
    "feature_importance_LGB"
   ]
  },
  {
   "cell_type": "code",
   "execution_count": 123,
   "metadata": {},
   "outputs": [
    {
     "data": {
      "image/png": "[encoded data removed]",
      "text/plain": [
       "<Figure size 576x432 with 1 Axes>"
      ]
     },
     "metadata": {
      "needs_background": "light"
     },
     "output_type": "display_data"
    }
   ],
   "source": [
    "plt.figure(figsize = (8, 6))\n",
    "Series_feat_imp_LGB.plot.barh(color = 'g')\n",
    "plt.xlabel('feature importance')\n",
    "plt.title('LGBM regressor')\n",
    "\n",
    "plt.show()"
   ]
  },
  {
   "cell_type": "markdown",
   "metadata": {},
   "source": [
    "### 2. Random Forest Regressor "
   ]
  },
  {
   "cell_type": "code",
   "execution_count": 124,
   "metadata": {
    "scrolled": false
   },
   "outputs": [],
   "source": [
    "feature_importance_RF = model_RF_new.feature_importances_\n",
    "Series_feat_imp_RF = pd.Series(feature_importance_RF, index = X_train.columns)\n",
    "Series_feat_imp_RF = Series_feat_imp_RF.sort_values(ascending = True)"
   ]
  },
  {
   "cell_type": "code",
   "execution_count": 125,
   "metadata": {},
   "outputs": [
    {
     "data": {
      "text/plain": [
       "array([0.58460586, 0.18060718, 0.02492935, 0.03096195, 0.0377508 ,\n",
       "       0.03489612, 0.03858463, 0.03804284, 0.02212409, 0.00230703,\n",
       "       0.00166868, 0.00352145])"
      ]
     },
     "execution_count": 125,
     "metadata": {},
     "output_type": "execute_result"
    }
   ],
   "source": [
    "feature_importance_RF"
   ]
  },
  {
   "cell_type": "code",
   "execution_count": 126,
   "metadata": {
    "scrolled": false
   },
   "outputs": [
    {
     "data": {
      "image/png": "[encoded data removed]",
      "text/plain": [
       "<Figure size 576x432 with 1 Axes>"
      ]
     },
     "metadata": {
      "needs_background": "light"
     },
     "output_type": "display_data"
    }
   ],
   "source": [
    "plt.figure(figsize = (8, 6))\n",
    "Series_feat_imp_RF.plot.barh(color = 'g')\n",
    "plt.xlabel('feature importance')\n",
    "plt.title('Random Forest regressor')\n",
    "\n",
    "plt.show()"
   ]
  },
  {
   "cell_type": "markdown",
   "metadata": {},
   "source": [
    "### 3. Gradient Boosting Regressor "
   ]
  },
  {
   "cell_type": "code",
   "execution_count": 127,
   "metadata": {
    "scrolled": false
   },
   "outputs": [],
   "source": [
    "feature_importance_GBR = model_GBR_new.feature_importances_\n",
    "Series_feat_imp_GBR = pd.Series(feature_importance_GBR, index = X_train.columns)\n",
    "Series_feat_imp_GBR = Series_feat_imp_GBR.sort_values(ascending = True)"
   ]
  },
  {
   "cell_type": "code",
   "execution_count": 128,
   "metadata": {},
   "outputs": [
    {
     "data": {
      "text/plain": [
       "array([0.62762227, 0.15874466, 0.02908443, 0.02095361, 0.04006427,\n",
       "       0.02679511, 0.03139755, 0.04265206, 0.01860829, 0.00122232,\n",
       "       0.00068467, 0.00217076])"
      ]
     },
     "execution_count": 128,
     "metadata": {},
     "output_type": "execute_result"
    }
   ],
   "source": [
    "feature_importance_GBR"
   ]
  },
  {
   "cell_type": "code",
   "execution_count": 129,
   "metadata": {
    "scrolled": false
   },
   "outputs": [
    {
     "data": {
      "image/png": "[encoded data removed]",
      "text/plain": [
       "<Figure size 576x432 with 1 Axes>"
      ]
     },
     "metadata": {
      "needs_background": "light"
     },
     "output_type": "display_data"
    }
   ],
   "source": [
    "plt.figure(figsize = (8, 6))\n",
    "Series_feat_imp_GBR.plot.barh(color = 'g')\n",
    "plt.xlabel('feature importance')\n",
    "plt.title('Gradient Boosting regressor')\n",
    "\n",
    "plt.show()"
   ]
  },
  {
   "cell_type": "markdown",
   "metadata": {},
   "source": [
    "### 4. K-Nearest Neighbor\n",
    "* **KNeighborsRegressor 패키지는 feature_importances_ 속성이 없는 대신, 제일 효과적인 거리계산법을 확인할 수 있다.**\n",
    "* **본 데이터는 Euclidean-distance 보다는 Manhattan-distance 가 더욱 성능 개선에 효과적이었다.**"
   ]
  },
  {
   "cell_type": "code",
   "execution_count": 130,
   "metadata": {},
   "outputs": [
    {
     "data": {
      "text/plain": [
       "'manhattan'"
      ]
     },
     "execution_count": 130,
     "metadata": {},
     "output_type": "execute_result"
    }
   ],
   "source": [
    "model_KNN_new.effective_metric_"
   ]
  },
  {
   "cell_type": "markdown",
   "metadata": {},
   "source": [
    "# [p-value 및 VIF 확인] "
   ]
  },
  {
   "cell_type": "markdown",
   "metadata": {},
   "source": [
    "## 1) p-value 확인"
   ]
  },
  {
   "cell_type": "code",
   "execution_count": 131,
   "metadata": {},
   "outputs": [],
   "source": [
    "from patsy import dmatrices\n",
    "import statsmodels.api as sm\n",
    "from statsmodels.stats.outliers_influence import variance_inflation_factor"
   ]
  },
  {
   "cell_type": "code",
   "execution_count": 132,
   "metadata": {},
   "outputs": [],
   "source": [
    "# 아래의 features_plus 작업 시 pm2.5에 마침표가 있어 오류가 나므로 이를 pm2_5로 바꿔준다\n",
    "data = data.rename(columns = {'pm2.5':'pm2_5'})"
   ]
  },
  {
   "cell_type": "code",
   "execution_count": 133,
   "metadata": {},
   "outputs": [
    {
     "data": {
      "text/plain": [
       "Index(['hour', 'temperature', 'precipitation', 'windspeed', 'humidity',\n",
       "       'visibility', 'ozone', 'pm10', 'pm2_5', 'count', 'temp_level',\n",
       "       'wind_level', 'hum_level'],\n",
       "      dtype='object')"
      ]
     },
     "execution_count": 133,
     "metadata": {},
     "output_type": "execute_result"
    }
   ],
   "source": [
    "data.columns"
   ]
  },
  {
   "cell_type": "code",
   "execution_count": 134,
   "metadata": {},
   "outputs": [],
   "source": [
    "features_plus = 'hour + temperature + precipitation + windspeed + humidity + visibility + ozone + pm10 + pm2_5 + wind_level + temp_level + hum_level'"
   ]
  },
  {
   "cell_type": "code",
   "execution_count": 135,
   "metadata": {
    "scrolled": false
   },
   "outputs": [],
   "source": [
    "# dmatrices는 두 가지를 반환하는데, 첫번째는 target변수의 값, 두번째는 각 변수들의 값을 반환한다.\n",
    "# 따라서 이를 y, x로 순서대로 할당한다.\n",
    "\n",
    "y, X = dmatrices(\"count~\" + features_plus, data = data, return_type = 'dataframe')"
   ]
  },
  {
   "cell_type": "code",
   "execution_count": 136,
   "metadata": {},
   "outputs": [
    {
     "name": "stdout",
     "output_type": "stream",
     "text": [
      "                            OLS Regression Results                            \n",
      "==============================================================================\n",
      "Dep. Variable:                  count   R-squared:                       0.610\n",
      "Model:                            OLS   Adj. R-squared:                  0.607\n",
      "Method:                 Least Squares   F-statistic:                     173.9\n",
      "Date:                Thu, 24 Jun 2021   Prob (F-statistic):          3.62e-284\n",
      "Time:                        07:03:15   Log-Likelihood:                -7823.2\n",
      "No. Observations:                1459   AIC:                         1.567e+04\n",
      "Df Residuals:                    1445   BIC:                         1.575e+04\n",
      "Df Model:                          13                                         \n",
      "Covariance Type:            nonrobust                                         \n",
      "===================================================================================\n",
      "                      coef    std err          t      P>|t|      [0.025      0.975]\n",
      "-----------------------------------------------------------------------------------\n",
      "Intercept         -21.2979     18.141     -1.174      0.241     -56.883      14.287\n",
      "wind_level[T.2]    -0.8429      4.555     -0.185      0.853      -9.779       8.093\n",
      "wind_level[T.3]     9.2078      7.160      1.286      0.199      -4.837      23.253\n",
      "hour                4.7486      0.236     20.118      0.000       4.286       5.212\n",
      "temperature         4.2568      0.384     11.086      0.000       3.504       5.010\n",
      "precipitation     -51.9244      8.337     -6.229      0.000     -68.278     -35.571\n",
      "windspeed           2.7235      2.274      1.198      0.231      -1.737       7.184\n",
      "humidity           -0.2887      0.122     -2.365      0.018      -0.528      -0.049\n",
      "visibility          0.0040      0.004      0.929      0.353      -0.004       0.012\n",
      "ozone             287.0089     94.719      3.030      0.002     101.208     472.810\n",
      "pm10               -0.2705      0.056     -4.820      0.000      -0.381      -0.160\n",
      "pm2_5               0.0362      0.135      0.267      0.789      -0.229       0.302\n",
      "temp_level          9.8724      1.690      5.841      0.000       6.557      13.188\n",
      "hum_level          -0.0767      1.744     -0.044      0.965      -3.498       3.345\n",
      "==============================================================================\n",
      "Omnibus:                      181.113   Durbin-Watson:                   1.991\n",
      "Prob(Omnibus):                  0.000   Jarque-Bera (JB):              307.853\n",
      "Skew:                           0.822   Prob(JB):                     1.41e-67\n",
      "Kurtosis:                       4.537   Cond. No.                     1.06e+05\n",
      "==============================================================================\n",
      "\n",
      "Notes:\n",
      "[1] Standard Errors assume that the covariance matrix of the errors is correctly specified.\n",
      "[2] The condition number is large, 1.06e+05. This might indicate that there are\n",
      "strong multicollinearity or other numerical problems.\n"
     ]
    }
   ],
   "source": [
    "result = sm.OLS(y, X).fit()\n",
    "print(result.summary())"
   ]
  },
  {
   "cell_type": "markdown",
   "metadata": {},
   "source": [
    "* **Notes[2]에서 다중공선성이 의심되는 것을 확인할 수 있다.**\n",
    "* **p-value >= 0.5이면 다중공선성을 나타낼 수 있기 때문에 해당 컬럼을 feature에서 제외하며 성능을 재평가해야 한다.**\n",
    "* **이 경우, wind_level, pm2_5, hum_level을 제거하고 모델의 성능을 평가해 보는 것이 필요하다.**"
   ]
  },
  {
   "cell_type": "markdown",
   "metadata": {},
   "source": [
    "## 2) VIF 확인\n",
    "* **Variance inflation factor: 분산 팽창 인수**\n",
    "* **10이 넘으면 다중공선성이 있다고 판단, 5가 넘으면 주의**\n",
    "* **예를 들어, 기존에 개별 독립변수와 종속변수 간의 상관관계에서 양이 나왔는데, 위의 표에서 음이 나왔다거나 한다면 다중공선성에 의해 회귀분석 결과가 왜곡되었다고 할 수 있다.**"
   ]
  },
  {
   "cell_type": "code",
   "execution_count": 137,
   "metadata": {},
   "outputs": [],
   "source": [
    "vif_table = pd.DataFrame()\n",
    "vif_table['VIF'] = [variance_inflation_factor(X.values, i) for i in range(X.shape[1])]\n",
    "vif_table['features'] = X.columns"
   ]
  },
  {
   "cell_type": "code",
   "execution_count": 138,
   "metadata": {},
   "outputs": [
    {
     "data": {
      "text/html": [
       "<div>\n",
       "<style scoped>\n",
       "    .dataframe tbody tr th:only-of-type {\n",
       "        vertical-align: middle;\n",
       "    }\n",
       "\n",
       "    .dataframe tbody tr th {\n",
       "        vertical-align: top;\n",
       "    }\n",
       "\n",
       "    .dataframe thead th {\n",
       "        text-align: right;\n",
       "    }\n",
       "</style>\n",
       "<table border=\"1\" class=\"dataframe\">\n",
       "  <thead>\n",
       "    <tr style=\"text-align: right;\">\n",
       "      <th></th>\n",
       "      <th>VIF</th>\n",
       "      <th>features</th>\n",
       "    </tr>\n",
       "  </thead>\n",
       "  <tbody>\n",
       "    <tr>\n",
       "      <th>0</th>\n",
       "      <td>178.75</td>\n",
       "      <td>Intercept</td>\n",
       "    </tr>\n",
       "    <tr>\n",
       "      <th>1</th>\n",
       "      <td>2.13</td>\n",
       "      <td>wind_level[T.2]</td>\n",
       "    </tr>\n",
       "    <tr>\n",
       "      <th>2</th>\n",
       "      <td>6.13</td>\n",
       "      <td>wind_level[T.3]</td>\n",
       "    </tr>\n",
       "    <tr>\n",
       "      <th>3</th>\n",
       "      <td>1.45</td>\n",
       "      <td>hour</td>\n",
       "    </tr>\n",
       "    <tr>\n",
       "      <th>4</th>\n",
       "      <td>2.19</td>\n",
       "      <td>temperature</td>\n",
       "    </tr>\n",
       "    <tr>\n",
       "      <th>5</th>\n",
       "      <td>1.15</td>\n",
       "      <td>precipitation</td>\n",
       "    </tr>\n",
       "    <tr>\n",
       "      <th>6</th>\n",
       "      <td>5.31</td>\n",
       "      <td>windspeed</td>\n",
       "    </tr>\n",
       "    <tr>\n",
       "      <th>7</th>\n",
       "      <td>3.35</td>\n",
       "      <td>humidity</td>\n",
       "    </tr>\n",
       "    <tr>\n",
       "      <th>8</th>\n",
       "      <td>3.33</td>\n",
       "      <td>visibility</td>\n",
       "    </tr>\n",
       "    <tr>\n",
       "      <th>9</th>\n",
       "      <td>1.76</td>\n",
       "      <td>ozone</td>\n",
       "    </tr>\n",
       "    <tr>\n",
       "      <th>10</th>\n",
       "      <td>1.62</td>\n",
       "      <td>pm10</td>\n",
       "    </tr>\n",
       "    <tr>\n",
       "      <th>11</th>\n",
       "      <td>1.98</td>\n",
       "      <td>pm2_5</td>\n",
       "    </tr>\n",
       "    <tr>\n",
       "      <th>12</th>\n",
       "      <td>1.52</td>\n",
       "      <td>temp_level</td>\n",
       "    </tr>\n",
       "    <tr>\n",
       "      <th>13</th>\n",
       "      <td>1.40</td>\n",
       "      <td>hum_level</td>\n",
       "    </tr>\n",
       "  </tbody>\n",
       "</table>\n",
       "</div>"
      ],
      "text/plain": [
       "       VIF         features\n",
       "0   178.75        Intercept\n",
       "1     2.13  wind_level[T.2]\n",
       "2     6.13  wind_level[T.3]\n",
       "3     1.45             hour\n",
       "4     2.19      temperature\n",
       "5     1.15    precipitation\n",
       "6     5.31        windspeed\n",
       "7     3.35         humidity\n",
       "8     3.33       visibility\n",
       "9     1.76            ozone\n",
       "10    1.62             pm10\n",
       "11    1.98            pm2_5\n",
       "12    1.52       temp_level\n",
       "13    1.40        hum_level"
      ]
     },
     "execution_count": 138,
     "metadata": {},
     "output_type": "execute_result"
    }
   ],
   "source": [
    "vif_table.round(2)"
   ]
  },
  {
   "cell_type": "markdown",
   "metadata": {},
   "source": [
    "* **다중공선성이 10 이상인 feature는 존재하지 않는 것으로 확인되었다.**"
   ]
  },
  {
   "cell_type": "markdown",
   "metadata": {},
   "source": [
    "# [p-value에 따른 feature 재설정] \n",
    "* **wind_level, pm2_5, hum_level을 제거**"
   ]
  },
  {
   "cell_type": "code",
   "execution_count": 139,
   "metadata": {},
   "outputs": [],
   "source": [
    "features = ['hour', 'temperature', 'precipitation', 'windspeed', 'humidity',\n",
    "       'visibility', 'ozone', 'pm10', 'temp_level']"
   ]
  },
  {
   "cell_type": "code",
   "execution_count": 140,
   "metadata": {},
   "outputs": [],
   "source": [
    "label = 'count'"
   ]
  },
  {
   "cell_type": "markdown",
   "metadata": {},
   "source": [
    "* **X_train, y_train 재정의**"
   ]
  },
  {
   "cell_type": "code",
   "execution_count": 141,
   "metadata": {},
   "outputs": [],
   "source": [
    "X_train = data[features]\n",
    "y_train = data[label]"
   ]
  },
  {
   "cell_type": "code",
   "execution_count": 142,
   "metadata": {
    "scrolled": true
   },
   "outputs": [
    {
     "name": "stdout",
     "output_type": "stream",
     "text": [
      "(1459, 9)\n",
      "(1459,)\n"
     ]
    }
   ],
   "source": [
    "print(X_train.shape)\n",
    "print(y_train.shape)"
   ]
  },
  {
   "cell_type": "markdown",
   "metadata": {},
   "source": [
    "* **train_X, val_X, train_y, val_y 도 변경된 feature에 맞춰 재정의**"
   ]
  },
  {
   "cell_type": "code",
   "execution_count": 143,
   "metadata": {
    "scrolled": true
   },
   "outputs": [
    {
     "name": "stdout",
     "output_type": "stream",
     "text": [
      "(1094, 9) (365, 9) (1094,) (365,)\n"
     ]
    }
   ],
   "source": [
    "train_X, val_X, train_y, val_y = train_test_split(X_train, y_train,\n",
    "                                                 test_size = 0.25,\n",
    "                                                 random_state = 1618)\n",
    "\n",
    "print(train_X.shape, val_X.shape, train_y.shape, val_y.shape)"
   ]
  },
  {
   "cell_type": "markdown",
   "metadata": {},
   "source": [
    "* **KNN을 위해 변경된 feature에 맞춰 재 정규화**"
   ]
  },
  {
   "cell_type": "code",
   "execution_count": 144,
   "metadata": {},
   "outputs": [
    {
     "data": {
      "text/plain": [
       "StandardScaler()"
      ]
     },
     "execution_count": 144,
     "metadata": {},
     "output_type": "execute_result"
    }
   ],
   "source": [
    "scaler.fit(train_X)"
   ]
  },
  {
   "cell_type": "code",
   "execution_count": 145,
   "metadata": {},
   "outputs": [],
   "source": [
    "train_X_scale = scaler.transform(train_X)\n",
    "val_X_scale = scaler.transform(val_X)"
   ]
  },
  {
   "cell_type": "markdown",
   "metadata": {},
   "source": [
    "# [Fitting and Prediction] "
   ]
  },
  {
   "cell_type": "code",
   "execution_count": 146,
   "metadata": {
    "scrolled": true
   },
   "outputs": [
    {
     "data": {
      "text/plain": [
       "array([ 79.7056658 ,  42.14995844, 105.66027661, 122.1896189 ,\n",
       "       199.88130125])"
      ]
     },
     "execution_count": 146,
     "metadata": {},
     "output_type": "execute_result"
    }
   ],
   "source": [
    "model_RF_new.fit(train_X, train_y)\n",
    "\n",
    "pred_y_RF_new = model_RF_new.predict(val_X)\n",
    "pred_y_RF_new[:5]"
   ]
  },
  {
   "cell_type": "code",
   "execution_count": 147,
   "metadata": {},
   "outputs": [
    {
     "data": {
      "text/plain": [
       "array([ 71.0241333 ,  35.80612002, 109.60381135, 134.43717675,\n",
       "       222.08355628])"
      ]
     },
     "execution_count": 147,
     "metadata": {},
     "output_type": "execute_result"
    }
   ],
   "source": [
    "model_GBR_new.fit(train_X, train_y)\n",
    "\n",
    "pred_y_GBR_new = model_GBR_new.predict(val_X)\n",
    "pred_y_GBR_new[:5]"
   ]
  },
  {
   "cell_type": "code",
   "execution_count": 148,
   "metadata": {},
   "outputs": [
    {
     "data": {
      "text/plain": [
       "array([ 75.30566649,  39.99835892,  86.63667923, 139.6583211 ,\n",
       "       231.21019354])"
      ]
     },
     "execution_count": 148,
     "metadata": {},
     "output_type": "execute_result"
    }
   ],
   "source": [
    "# lgbm의 빠른 속도를 위해 early_stopping_rounds 추가\n",
    "evals = [(val_X, val_y)]\n",
    "\n",
    "model_LGB_new.fit(train_X, train_y, early_stopping_rounds = 100, eval_set = evals, verbose = False)\n",
    "\n",
    "pred_y_LGB_new = model_LGB_new.predict(val_X)\n",
    "pred_y_LGB_new[:5]"
   ]
  },
  {
   "cell_type": "code",
   "execution_count": 149,
   "metadata": {},
   "outputs": [
    {
     "data": {
      "text/plain": [
       "array([ 86.46568516,  39.18888819,  98.12575438, 116.78197523,\n",
       "       267.93475799])"
      ]
     },
     "execution_count": 149,
     "metadata": {},
     "output_type": "execute_result"
    }
   ],
   "source": [
    "# KNN은 정규화한 feature를 이용하여 fitting\n",
    "\n",
    "model_KNN_new.fit(train_X_scale, train_y)\n",
    "\n",
    "pred_y_KNN_new = model_KNN_new.predict(val_X_scale)\n",
    "pred_y_KNN_new[:5]"
   ]
  },
  {
   "cell_type": "markdown",
   "metadata": {},
   "source": [
    "# [개선된 모델의 성능 평가] "
   ]
  },
  {
   "cell_type": "markdown",
   "metadata": {},
   "source": [
    "### 1. RMSE : Root Mean Squared Error "
   ]
  },
  {
   "cell_type": "code",
   "execution_count": 150,
   "metadata": {},
   "outputs": [],
   "source": [
    "from sklearn.metrics import mean_squared_error"
   ]
  },
  {
   "cell_type": "code",
   "execution_count": 151,
   "metadata": {
    "scrolled": true
   },
   "outputs": [
    {
     "name": "stdout",
     "output_type": "stream",
     "text": [
      "New RMSE of Random Forest Regressor = 37.09706 \n",
      "\n",
      "New RMSE of Gradient Boosting Regressor = 38.16540 \n",
      "\n",
      "New RMSE of LGBM = 36.94241 \n",
      "\n",
      "New RMSE of KNN = 45.30934\n"
     ]
    }
   ],
   "source": [
    "rmse_RF_new = np.sqrt(mean_squared_error(val_y, pred_y_RF_new))\n",
    "\n",
    "rmse_GBR_new = np.sqrt(mean_squared_error(val_y, pred_y_GBR_new))\n",
    "\n",
    "rmse_LGB_new = np.sqrt(mean_squared_error(val_y, pred_y_LGB_new))\n",
    "\n",
    "rmse_KNN_new = np.sqrt(mean_squared_error(val_y, pred_y_KNN_new))\n",
    "\n",
    "print(\"New RMSE of Random Forest Regressor = {0:.5f}\".format(rmse_RF_new), \"\\n\")\n",
    "print(\"New RMSE of Gradient Boosting Regressor = {0:.5f}\".format(rmse_GBR_new), '\\n')\n",
    "print(\"New RMSE of LGBM = {0:.5f}\".format(rmse_LGB_new), '\\n')\n",
    "print(\"New RMSE of KNN = {0:.5f}\".format(rmse_KNN_new))"
   ]
  },
  {
   "cell_type": "markdown",
   "metadata": {},
   "source": [
    "### 2. RMSLE: Root Mean Sqaured Log Error"
   ]
  },
  {
   "cell_type": "code",
   "execution_count": 152,
   "metadata": {
    "scrolled": true
   },
   "outputs": [
    {
     "name": "stdout",
     "output_type": "stream",
     "text": [
      "7.548355158730158 -0.055907704715077576 -1.1285517534780527 9.427398816074769\n"
     ]
    }
   ],
   "source": [
    "print(pred_y_RF_new.min(), pred_y_GBR_new.min(), pred_y_LGB_new.min(), pred_y_KNN_new.min())"
   ]
  },
  {
   "cell_type": "markdown",
   "metadata": {},
   "source": [
    "* **자전거 대여량은 negative value가 될 수 없으므로 해당 value는 다 0으로 처리해야 한다.**"
   ]
  },
  {
   "cell_type": "code",
   "execution_count": 153,
   "metadata": {},
   "outputs": [],
   "source": [
    "pred_y_GBR_new[pred_y_GBR_new < 0] = 0\n",
    "pred_y_LGB_new[pred_y_LGB_new < 0] = 0"
   ]
  },
  {
   "cell_type": "code",
   "execution_count": 154,
   "metadata": {},
   "outputs": [],
   "source": [
    "from sklearn.metrics import mean_squared_log_error"
   ]
  },
  {
   "cell_type": "code",
   "execution_count": 155,
   "metadata": {},
   "outputs": [
    {
     "name": "stdout",
     "output_type": "stream",
     "text": [
      "New RMSLE of Random Forest Regressor = 0.49052 \n",
      "\n",
      "New RMSLE of Gradient Boosting Regressor = 0.49336 \n",
      "\n",
      "New RMSLE of LGBM = 0.47357 \n",
      "\n",
      "New RMSLE of KNN = 0.59541\n"
     ]
    }
   ],
   "source": [
    "rmsle_RF_new = np.sqrt(mean_squared_log_error(val_y, pred_y_RF_new))\n",
    "\n",
    "rmsle_GBR_new = np.sqrt(mean_squared_log_error(val_y, pred_y_GBR_new))\n",
    "\n",
    "rmsle_LGB_new = np.sqrt(mean_squared_log_error(val_y, pred_y_LGB_new))\n",
    "\n",
    "rmsle_KNN_new = np.sqrt(mean_squared_log_error(val_y, pred_y_KNN_new))\n",
    "\n",
    "print(\"New RMSLE of Random Forest Regressor = {0:.5f}\".format(rmsle_RF_new), \"\\n\")\n",
    "print(\"New RMSLE of Gradient Boosting Regressor = {0:.5f}\".format(rmsle_GBR_new), '\\n')\n",
    "print(\"New RMSLE of LGBM = {0:.5f}\".format(rmsle_LGB_new), '\\n')\n",
    "print(\"New RMSLE of KNN = {0:.5f}\".format(rmsle_KNN_new))"
   ]
  },
  {
   "cell_type": "markdown",
   "metadata": {},
   "source": [
    "### 3.  R-squared"
   ]
  },
  {
   "cell_type": "code",
   "execution_count": 156,
   "metadata": {},
   "outputs": [],
   "source": [
    "from sklearn.metrics import r2_score"
   ]
  },
  {
   "cell_type": "code",
   "execution_count": 157,
   "metadata": {
    "scrolled": false
   },
   "outputs": [
    {
     "name": "stdout",
     "output_type": "stream",
     "text": [
      "New R2 of RF = 0.78178 \n",
      "\n",
      "New R2 of GBR = 0.76903 \n",
      "\n",
      "New R2 of LGBM = 0.78360 \n",
      "\n",
      "New R2 of KNN = 0.67447\n"
     ]
    }
   ],
   "source": [
    "R2_RF_new = r2_score(val_y, pred_y_RF_new)\n",
    "R2_GBR_new = r2_score(val_y, pred_y_GBR_new)\n",
    "R2_LGBM_new = r2_score(val_y, pred_y_LGB_new)\n",
    "R2_KNN_new = r2_score(val_y, pred_y_KNN_new)\n",
    "\n",
    "print(\"New R2 of RF = {0:.5f}\".format(R2_RF_new), '\\n')\n",
    "print(\"New R2 of GBR = {0:.5f}\".format(R2_GBR_new), '\\n')\n",
    "print(\"New R2 of LGBM = {0:.5f}\".format(R2_LGBM_new), '\\n')\n",
    "print(\"New R2 of KNN = {0:.5f}\".format(R2_KNN_new))"
   ]
  },
  {
   "cell_type": "markdown",
   "metadata": {},
   "source": [
    "# [최종 결과] "
   ]
  },
  {
   "cell_type": "code",
   "execution_count": 158,
   "metadata": {},
   "outputs": [
    {
     "data": {
      "text/html": [
       "<div>\n",
       "<style scoped>\n",
       "    .dataframe tbody tr th:only-of-type {\n",
       "        vertical-align: middle;\n",
       "    }\n",
       "\n",
       "    .dataframe tbody tr th {\n",
       "        vertical-align: top;\n",
       "    }\n",
       "\n",
       "    .dataframe thead th {\n",
       "        text-align: right;\n",
       "    }\n",
       "</style>\n",
       "<table border=\"1\" class=\"dataframe\">\n",
       "  <thead>\n",
       "    <tr style=\"text-align: right;\">\n",
       "      <th></th>\n",
       "      <th>모델</th>\n",
       "      <th>RMSE(개선 전)</th>\n",
       "      <th>RMSE(개선 후)</th>\n",
       "      <th>RMSLE(개선 전)</th>\n",
       "      <th>RMSLE(개선 후)</th>\n",
       "      <th>R2(개선 전)</th>\n",
       "      <th>R2(개선 후)</th>\n",
       "    </tr>\n",
       "  </thead>\n",
       "  <tbody>\n",
       "    <tr>\n",
       "      <th>0</th>\n",
       "      <td>RandomForest</td>\n",
       "      <td>37.532039</td>\n",
       "      <td>37.097059</td>\n",
       "      <td>0.485433</td>\n",
       "      <td>0.490517</td>\n",
       "      <td>0.776636</td>\n",
       "      <td>0.781783</td>\n",
       "    </tr>\n",
       "    <tr>\n",
       "      <th>1</th>\n",
       "      <td>GradientBoosting</td>\n",
       "      <td>38.223265</td>\n",
       "      <td>38.165401</td>\n",
       "      <td>0.542418</td>\n",
       "      <td>0.493360</td>\n",
       "      <td>0.768399</td>\n",
       "      <td>0.769034</td>\n",
       "    </tr>\n",
       "    <tr>\n",
       "      <th>2</th>\n",
       "      <td>LightGBM</td>\n",
       "      <td>37.780774</td>\n",
       "      <td>36.942409</td>\n",
       "      <td>0.542436</td>\n",
       "      <td>0.473568</td>\n",
       "      <td>0.773755</td>\n",
       "      <td>0.783602</td>\n",
       "    </tr>\n",
       "    <tr>\n",
       "      <th>3</th>\n",
       "      <td>K-NearestNeighbor</td>\n",
       "      <td>65.290457</td>\n",
       "      <td>45.309340</td>\n",
       "      <td>0.836070</td>\n",
       "      <td>0.595413</td>\n",
       "      <td>0.324060</td>\n",
       "      <td>0.674475</td>\n",
       "    </tr>\n",
       "  </tbody>\n",
       "</table>\n",
       "</div>"
      ],
      "text/plain": [
       "                  모델  RMSE(개선 전)  RMSE(개선 후)  RMSLE(개선 전)  RMSLE(개선 후)  \\\n",
       "0       RandomForest   37.532039   37.097059     0.485433     0.490517   \n",
       "1   GradientBoosting   38.223265   38.165401     0.542418     0.493360   \n",
       "2           LightGBM   37.780774   36.942409     0.542436     0.473568   \n",
       "3  K-NearestNeighbor   65.290457   45.309340     0.836070     0.595413   \n",
       "\n",
       "   R2(개선 전)  R2(개선 후)  \n",
       "0  0.776636  0.781783  \n",
       "1  0.768399  0.769034  \n",
       "2  0.773755  0.783602  \n",
       "3  0.324060  0.674475  "
      ]
     },
     "execution_count": 158,
     "metadata": {},
     "output_type": "execute_result"
    }
   ],
   "source": [
    "pd.DataFrame({'모델': ['RandomForest', 'GradientBoosting', 'LightGBM', 'K-NearestNeighbor'],\n",
    "              'RMSE(개선 전)': [rmse_RF, rmse_GBR, rmse_LGB, rmse_KNN],\n",
    "              'RMSE(개선 후)' : [rmse_RF_new, rmse_GBR_new, rmse_LGB_new, rmse_KNN_new],\n",
    "              'RMSLE(개선 전)' : [rmsle_RF, rmsle_GBR, rmsle_LGB, rmsle_KNN],\n",
    "              'RMSLE(개선 후)' : [rmsle_RF_new, rmsle_GBR_new, rmsle_LGB_new, rmsle_KNN_new],\n",
    "              'R2(개선 전)' : [R2_RF, R2_GBR, R2_LGBM, R2_KNN],\n",
    "              'R2(개선 후)' : [R2_RF_new, R2_GBR_new, R2_LGBM_new, R2_KNN_new]})"
   ]
  },
  {
   "cell_type": "code",
   "execution_count": 159,
   "metadata": {},
   "outputs": [
    {
     "data": {
      "text/html": [
       "<div>\n",
       "<style scoped>\n",
       "    .dataframe tbody tr th:only-of-type {\n",
       "        vertical-align: middle;\n",
       "    }\n",
       "\n",
       "    .dataframe tbody tr th {\n",
       "        vertical-align: top;\n",
       "    }\n",
       "\n",
       "    .dataframe thead th {\n",
       "        text-align: right;\n",
       "    }\n",
       "</style>\n",
       "<table border=\"1\" class=\"dataframe\">\n",
       "  <thead>\n",
       "    <tr style=\"text-align: right;\">\n",
       "      <th></th>\n",
       "      <th>id</th>\n",
       "      <th>count</th>\n",
       "    </tr>\n",
       "  </thead>\n",
       "  <tbody>\n",
       "    <tr>\n",
       "      <th>0</th>\n",
       "      <td>0</td>\n",
       "      <td>NaN</td>\n",
       "    </tr>\n",
       "    <tr>\n",
       "      <th>1</th>\n",
       "      <td>1</td>\n",
       "      <td>NaN</td>\n",
       "    </tr>\n",
       "    <tr>\n",
       "      <th>2</th>\n",
       "      <td>2</td>\n",
       "      <td>NaN</td>\n",
       "    </tr>\n",
       "    <tr>\n",
       "      <th>3</th>\n",
       "      <td>4</td>\n",
       "      <td>NaN</td>\n",
       "    </tr>\n",
       "    <tr>\n",
       "      <th>4</th>\n",
       "      <td>5</td>\n",
       "      <td>NaN</td>\n",
       "    </tr>\n",
       "  </tbody>\n",
       "</table>\n",
       "</div>"
      ],
      "text/plain": [
       "   id  count\n",
       "0   0    NaN\n",
       "1   1    NaN\n",
       "2   2    NaN\n",
       "3   4    NaN\n",
       "4   5    NaN"
      ]
     },
     "execution_count": 159,
     "metadata": {},
     "output_type": "execute_result"
    }
   ],
   "source": [
    "submission = pd.read_csv('submission.csv')\n",
    "submission.head()"
   ]
  },
  {
   "cell_type": "code",
   "execution_count": null,
   "metadata": {},
   "outputs": [],
   "source": [
    "submission['count'] = y_pred_200\n",
    "submission.head()"
   ]
  },
  {
   "cell_type": "code",
   "execution_count": null,
   "metadata": {},
   "outputs": [],
   "source": []
  },
  {
   "cell_type": "code",
   "execution_count": null,
   "metadata": {},
   "outputs": [],
   "source": []
  }
 ],
 "metadata": {
  "kernelspec": {
   "display_name": "Python 3",
   "language": "python",
   "name": "python3"
  },
  "language_info": {
   "codemirror_mode": {
    "name": "ipython",
    "version": 3
   },
   "file_extension": ".py",
   "mimetype": "text/x-python",
   "name": "python",
   "nbconvert_exporter": "python",
   "pygments_lexer": "ipython3",
   "version": "3.8.5"
  },
  "toc": {
   "base_numbering": 1,
   "nav_menu": {},
   "number_sections": false,
   "sideBar": true,
   "skip_h1_title": false,
   "title_cell": "Table of Contents",
   "title_sidebar": "Contents",
   "toc_cell": false,
   "toc_position": {},
   "toc_section_display": true,
   "toc_window_display": true
  }
 },
 "nbformat": 4,
 "nbformat_minor": 4
}
